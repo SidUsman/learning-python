{
 "cells": [
  {
   "cell_type": "code",
   "execution_count": 5,
   "id": "a6e5cb69",
   "metadata": {},
   "outputs": [],
   "source": [
    "# args and kwargs example\n",
    "def myfunc (*args, **kwargs):\n",
    "    #we can use any one of them first\n",
    "    #either we can first write args or kwargs\n",
    "    print(args)\n",
    "    print(kwargs)\n",
    "    print(\"i would like  {}   {}  \".format(args[1],kwargs[\"food\"]))\n",
    "    \n",
    "    \n",
    "    "
   ]
  },
  {
   "cell_type": "code",
   "execution_count": 6,
   "id": "0063b535",
   "metadata": {},
   "outputs": [
    {
     "name": "stdout",
     "output_type": "stream",
     "text": [
      "(10, 20, 30)\n",
      "{'fruit': 'apple', 'food': 'eggs', 'animals': 'dogs'}\n",
      "i would like  20   eggs  \n"
     ]
    }
   ],
   "source": [
    "myfunc(10,20,30,fruit=\"apple\",food=\"eggs\",animals=\"dogs\")"
   ]
  },
  {
   "cell_type": "code",
   "execution_count": 4,
   "id": "4e10cce3",
   "metadata": {},
   "outputs": [
    {
     "name": "stdout",
     "output_type": "stream",
     "text": [
      "(10, 20, 30)\n",
      "{'fruit': 'apple', 'food': 'eggs', 'animals': 'dogs'}\n",
      "i would like  10   eggs  \n"
     ]
    }
   ],
   "source": [
    "myfunc(10,20,30,fruit=\"apple\",food=\"eggs\",animals=\"dogs\")"
   ]
  },
  {
   "cell_type": "code",
   "execution_count": null,
   "id": "5a88ffd6",
   "metadata": {},
   "outputs": [],
   "source": []
  }
 ],
 "metadata": {
  "kernelspec": {
   "display_name": "Python 3 (ipykernel)",
   "language": "python",
   "name": "python3"
  },
  "language_info": {
   "codemirror_mode": {
    "name": "ipython",
    "version": 3
   },
   "file_extension": ".py",
   "mimetype": "text/x-python",
   "name": "python",
   "nbconvert_exporter": "python",
   "pygments_lexer": "ipython3",
   "version": "3.9.12"
  }
 },
 "nbformat": 4,
 "nbformat_minor": 5
}
