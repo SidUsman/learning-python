{
 "cells": [
  {
   "cell_type": "code",
   "execution_count": 14,
   "id": "93d541a9",
   "metadata": {},
   "outputs": [],
   "source": [
    "#MILE STONE PROJECT\n",
    "board=['','','','','','','','','','']\n",
    "board_test=['','1','2','3','4','5','6','7','8','9']\n",
    "board_test2=['','x','x','x','','','','','','']"
   ]
  },
  {
   "cell_type": "code",
   "execution_count": 6,
   "id": "b11081b0",
   "metadata": {},
   "outputs": [],
   "source": [
    "# 1 Create a function which prinout the board\n",
    "from  IPython.display import clear_output\n",
    "def display_board(board):\n",
    "    clear_output()\n",
    "    print(board[7]+\" | \"+board[8]+\" | \"+board[9])\n",
    "    print(\"- - - - - \")\n",
    "    print(board[4]+\" | \"+board[5]+\" | \"+board[6])\n",
    "    print(\"- - - - - \")\n",
    "    print(board[1]+\" | \"+board[2]+\" | \"+board[3])\n",
    "    "
   ]
  },
  {
   "cell_type": "code",
   "execution_count": 9,
   "id": "328eceb5",
   "metadata": {},
   "outputs": [
    {
     "name": "stdout",
     "output_type": "stream",
     "text": [
      " |  | \n",
      "- - - - - \n",
      " |  | \n",
      "- - - - - \n",
      " |  | \n"
     ]
    }
   ],
   "source": [
    "display_board(board_test)\n",
    "display_board(board)"
   ]
  },
  {
   "cell_type": "code",
   "execution_count": 8,
   "id": "70dd068d",
   "metadata": {},
   "outputs": [],
   "source": [
    "#2\n",
    "def player_input():\n",
    "    marker = ' '\n",
    "    while marker != \"x\" or marker != \"o\":\n",
    "        marker = input('Player1 choose x or o: \\n').lower()\n",
    "        if marker == 'x':\n",
    "            return ('x','o')\n",
    "        elif marker == 'o':\n",
    "            return ('o','x')\n",
    "        else :\n",
    "            continue\n",
    "        "
   ]
  },
  {
   "cell_type": "code",
   "execution_count": 10,
   "id": "57169704",
   "metadata": {},
   "outputs": [],
   "source": [
    "#3 place a marker on the board\n",
    "#3\n",
    "def place_marker(board,marker,position):\n",
    "    board[position] = marker"
   ]
  },
  {
   "cell_type": "code",
   "execution_count": 11,
   "id": "d7878ce2",
   "metadata": {},
   "outputs": [],
   "source": [
    "#4 wincheck of the board\n",
    "def win_check(board,mark):\n",
    "    # WIN TIC tak toe\n",
    "    # ALL ROWS check to see if they all share same marker\n",
    "    # ALL COLUMNS check to see if marker matches\n",
    "    # 2 disagnols to check \n",
    "    return ((board[7]== board[8]== board[9] == mark)or\n",
    "    (board[4] == board[5] == board[6] == mark) or\n",
    "    (board[1] == board[2] == board[3] == mark) or\n",
    "    (board[7] == board[4] == board[1] == mark) or\n",
    "    (board[8] == board[5] == board[2] == mark) or\n",
    "    (board[9] == board[6] == board[3] == mark) or\n",
    "    (board[7] == board[5] == board[3] == mark) or\n",
    "    (board[9] == board[5] == board[1] == mark) )\n",
    "    \n",
    "    "
   ]
  },
  {
   "cell_type": "code",
   "execution_count": 15,
   "id": "447991f7",
   "metadata": {},
   "outputs": [
    {
     "data": {
      "text/plain": [
       "True"
      ]
     },
     "execution_count": 15,
     "metadata": {},
     "output_type": "execute_result"
    }
   ],
   "source": [
    "win_check(board_test2,'x')"
   ]
  },
  {
   "cell_type": "code",
   "execution_count": 16,
   "id": "20846e9f",
   "metadata": {},
   "outputs": [],
   "source": [
    "import random\n",
    "def choose_first():\n",
    "    flip = random.randint(0,1)\n",
    "    if flip ==0:\n",
    "        return 'Player 1'\n",
    "    else:\n",
    "        return 'Player 2'"
   ]
  },
  {
   "cell_type": "code",
   "execution_count": 17,
   "id": "675b54da",
   "metadata": {},
   "outputs": [],
   "source": [
    "def space_check(board,position):\n",
    "    return board[position]==''"
   ]
  },
  {
   "cell_type": "code",
   "execution_count": 18,
   "id": "80663188",
   "metadata": {},
   "outputs": [],
   "source": [
    "def full_board_check(board):\n",
    "    for sidra in range(1,10):\n",
    "        if space_check(board,sidra):\n",
    "            return False\n",
    "    return True"
   ]
  },
  {
   "cell_type": "code",
   "execution_count": 24,
   "id": "061100f4",
   "metadata": {},
   "outputs": [],
   "source": [
    "def player_choice(board):\n",
    "    position = 0\n",
    "    while position not in [1,2,3,4,5,6,7,8,9] or not space_check(board,position):\n",
    "        position=int(input('Choose a position: (1-9)'))\n",
    "    return position    "
   ]
  },
  {
   "cell_type": "code",
   "execution_count": 21,
   "id": "3ab03c90",
   "metadata": {},
   "outputs": [],
   "source": [
    "def replay():\n",
    "    choice=input(\"play again? Enter Y or N\").lower()\n",
    "    if choice =='y':\n",
    "        return True\n",
    "    else:\n",
    "        return False\n",
    "        "
   ]
  },
  {
   "cell_type": "code",
   "execution_count": 25,
   "id": "eba92239",
   "metadata": {},
   "outputs": [
    {
     "name": "stdout",
     "output_type": "stream",
     "text": [
      "o |  | \n",
      "- - - - - \n",
      " | o | x\n",
      "- - - - - \n",
      "x | x | o\n",
      " YOU Player 1 WON\n"
     ]
    },
    {
     "ename": "KeyboardInterrupt",
     "evalue": "Interrupted by user",
     "output_type": "error",
     "traceback": [
      "\u001b[0;31m---------------------------------------------------------------------------\u001b[0m",
      "\u001b[0;31mKeyboardInterrupt\u001b[0m                         Traceback (most recent call last)",
      "Input \u001b[0;32mIn [25]\u001b[0m, in \u001b[0;36m<cell line: 6>\u001b[0;34m()\u001b[0m\n\u001b[1;32m     73\u001b[0m                 turn \u001b[38;5;241m=\u001b[39m \u001b[38;5;124m'\u001b[39m\u001b[38;5;124mPlayer 1\u001b[39m\u001b[38;5;124m'\u001b[39m\n\u001b[1;32m     75\u001b[0m         \u001b[38;5;66;03m# no tie or no win ? then next player's turn\u001b[39;00m\n\u001b[1;32m     76\u001b[0m \u001b[38;5;66;03m### player one turn\u001b[39;00m\n\u001b[1;32m     77\u001b[0m \n\u001b[1;32m     78\u001b[0m \n\u001b[1;32m     79\u001b[0m \u001b[38;5;66;03m### player two turn\u001b[39;00m\n\u001b[0;32m---> 86\u001b[0m \u001b[38;5;28;01mif\u001b[39;00m \u001b[38;5;129;01mnot\u001b[39;00m \u001b[43mreplay\u001b[49m\u001b[43m(\u001b[49m\u001b[43m)\u001b[49m:\n\u001b[1;32m     87\u001b[0m     \u001b[38;5;28;01mbreak\u001b[39;00m\n",
      "Input \u001b[0;32mIn [21]\u001b[0m, in \u001b[0;36mreplay\u001b[0;34m()\u001b[0m\n\u001b[1;32m      1\u001b[0m \u001b[38;5;28;01mdef\u001b[39;00m \u001b[38;5;21mreplay\u001b[39m():\n\u001b[0;32m----> 2\u001b[0m     choice\u001b[38;5;241m=\u001b[39m\u001b[38;5;28;43minput\u001b[39;49m\u001b[43m(\u001b[49m\u001b[38;5;124;43m\"\u001b[39;49m\u001b[38;5;124;43mplay again? Enter Y or N\u001b[39;49m\u001b[38;5;124;43m\"\u001b[39;49m\u001b[43m)\u001b[49m\u001b[38;5;241m.\u001b[39mlower()\n\u001b[1;32m      3\u001b[0m     \u001b[38;5;28;01mif\u001b[39;00m choice \u001b[38;5;241m==\u001b[39m\u001b[38;5;124m'\u001b[39m\u001b[38;5;124my\u001b[39m\u001b[38;5;124m'\u001b[39m:\n\u001b[1;32m      4\u001b[0m         \u001b[38;5;28;01mreturn\u001b[39;00m \u001b[38;5;28;01mTrue\u001b[39;00m\n",
      "File \u001b[0;32m~/opt/anaconda3/lib/python3.9/site-packages/ipykernel/kernelbase.py:1075\u001b[0m, in \u001b[0;36mKernel.raw_input\u001b[0;34m(self, prompt)\u001b[0m\n\u001b[1;32m   1071\u001b[0m \u001b[38;5;28;01mif\u001b[39;00m \u001b[38;5;129;01mnot\u001b[39;00m \u001b[38;5;28mself\u001b[39m\u001b[38;5;241m.\u001b[39m_allow_stdin:\n\u001b[1;32m   1072\u001b[0m     \u001b[38;5;28;01mraise\u001b[39;00m StdinNotImplementedError(\n\u001b[1;32m   1073\u001b[0m         \u001b[38;5;124m\"\u001b[39m\u001b[38;5;124mraw_input was called, but this frontend does not support input requests.\u001b[39m\u001b[38;5;124m\"\u001b[39m\n\u001b[1;32m   1074\u001b[0m     )\n\u001b[0;32m-> 1075\u001b[0m \u001b[38;5;28;01mreturn\u001b[39;00m \u001b[38;5;28;43mself\u001b[39;49m\u001b[38;5;241;43m.\u001b[39;49m\u001b[43m_input_request\u001b[49m\u001b[43m(\u001b[49m\n\u001b[1;32m   1076\u001b[0m \u001b[43m    \u001b[49m\u001b[38;5;28;43mstr\u001b[39;49m\u001b[43m(\u001b[49m\u001b[43mprompt\u001b[49m\u001b[43m)\u001b[49m\u001b[43m,\u001b[49m\n\u001b[1;32m   1077\u001b[0m \u001b[43m    \u001b[49m\u001b[38;5;28;43mself\u001b[39;49m\u001b[38;5;241;43m.\u001b[39;49m\u001b[43m_parent_ident\u001b[49m\u001b[43m[\u001b[49m\u001b[38;5;124;43m\"\u001b[39;49m\u001b[38;5;124;43mshell\u001b[39;49m\u001b[38;5;124;43m\"\u001b[39;49m\u001b[43m]\u001b[49m\u001b[43m,\u001b[49m\n\u001b[1;32m   1078\u001b[0m \u001b[43m    \u001b[49m\u001b[38;5;28;43mself\u001b[39;49m\u001b[38;5;241;43m.\u001b[39;49m\u001b[43mget_parent\u001b[49m\u001b[43m(\u001b[49m\u001b[38;5;124;43m\"\u001b[39;49m\u001b[38;5;124;43mshell\u001b[39;49m\u001b[38;5;124;43m\"\u001b[39;49m\u001b[43m)\u001b[49m\u001b[43m,\u001b[49m\n\u001b[1;32m   1079\u001b[0m \u001b[43m    \u001b[49m\u001b[43mpassword\u001b[49m\u001b[38;5;241;43m=\u001b[39;49m\u001b[38;5;28;43;01mFalse\u001b[39;49;00m\u001b[43m,\u001b[49m\n\u001b[1;32m   1080\u001b[0m \u001b[43m\u001b[49m\u001b[43m)\u001b[49m\n",
      "File \u001b[0;32m~/opt/anaconda3/lib/python3.9/site-packages/ipykernel/kernelbase.py:1120\u001b[0m, in \u001b[0;36mKernel._input_request\u001b[0;34m(self, prompt, ident, parent, password)\u001b[0m\n\u001b[1;32m   1117\u001b[0m             \u001b[38;5;28;01mbreak\u001b[39;00m\n\u001b[1;32m   1118\u001b[0m \u001b[38;5;28;01mexcept\u001b[39;00m \u001b[38;5;167;01mKeyboardInterrupt\u001b[39;00m:\n\u001b[1;32m   1119\u001b[0m     \u001b[38;5;66;03m# re-raise KeyboardInterrupt, to truncate traceback\u001b[39;00m\n\u001b[0;32m-> 1120\u001b[0m     \u001b[38;5;28;01mraise\u001b[39;00m \u001b[38;5;167;01mKeyboardInterrupt\u001b[39;00m(\u001b[38;5;124m\"\u001b[39m\u001b[38;5;124mInterrupted by user\u001b[39m\u001b[38;5;124m\"\u001b[39m) \u001b[38;5;28;01mfrom\u001b[39;00m \u001b[38;5;28mNone\u001b[39m\n\u001b[1;32m   1121\u001b[0m \u001b[38;5;28;01mexcept\u001b[39;00m \u001b[38;5;167;01mException\u001b[39;00m:\n\u001b[1;32m   1122\u001b[0m     \u001b[38;5;28mself\u001b[39m\u001b[38;5;241m.\u001b[39mlog\u001b[38;5;241m.\u001b[39mwarning(\u001b[38;5;124m\"\u001b[39m\u001b[38;5;124mInvalid Message:\u001b[39m\u001b[38;5;124m\"\u001b[39m, exc_info\u001b[38;5;241m=\u001b[39m\u001b[38;5;28;01mTrue\u001b[39;00m)\n",
      "\u001b[0;31mKeyboardInterrupt\u001b[0m: Interrupted by user"
     ]
    }
   ],
   "source": [
    "print(\"Welcome to tic tak toe\")\n",
    "while True:\n",
    "    #play the game\n",
    "    \n",
    "    ## SET everthing up ( board, whose first , choose markers x,o)\n",
    "    the_board = ['']*10\n",
    "    player1_marker,player2_marker = player_input()\n",
    "    \n",
    "    turn = choose_first()\n",
    "    print(turn+\"  will go first\")\n",
    "    \n",
    "    play_game= input(\"ready to play? Y or N\").lower()\n",
    "    if play_game =='y':\n",
    "        game_on = True\n",
    "    else:\n",
    "        game_on = False\n",
    "        \n",
    "        \n",
    "        \n",
    "    \n",
    "    ## game play\n",
    "    \n",
    "    while game_on:\n",
    "        if turn == 'Player 1':\n",
    "            #show the board\n",
    "            display_board(the_board)\n",
    "            # choose a position\n",
    "            position = player_choice(the_board)\n",
    "            \n",
    "            # place a marker on the position\n",
    "            place_marker(the_board,player1_marker,position)\n",
    "            \n",
    "            # check if they won\n",
    "            if win_check(the_board,player1_marker):\n",
    "                display_board(the_board)\n",
    "                print(\" YOU \" +turn +\" WON\")\n",
    "                game_on = False\n",
    "            \n",
    "            # check if there is a tie\n",
    "            else:\n",
    "                #full board check function\n",
    "                if full_board_check(the_board):\n",
    "                    display_board(the_board)\n",
    "                    print(\"TIE GAME GOOD PLAY\")\n",
    "                    game_on = False\n",
    "                else:\n",
    "                    turn = 'Player 2'\n",
    "                    \n",
    "                    \n",
    "        else:\n",
    "            #show the board\n",
    "            display_board(the_board)\n",
    "            # choose a position\n",
    "            position = player_choice(the_board)\n",
    "            \n",
    "            # place a marker on the position\n",
    "            place_marker(the_board,player2_marker,position)\n",
    "            \n",
    "            # check if they won\n",
    "            if win_check(the_board,player2_marker):\n",
    "                display_board(the_board)\n",
    "                print(\" YOU \" +turn +\" WON\")\n",
    "                game_on = False\n",
    "            \n",
    "            # check if there is a tie\n",
    "            else:\n",
    "                #full board check function\n",
    "                if full_board_check(the_board):\n",
    "                    display_board(the_board)\n",
    "                    print(\"TIE GAME GOOD PLAY\")\n",
    "                    game_on = False\n",
    "                else:\n",
    "                    turn = 'Player 1'\n",
    "            \n",
    "            # no tie or no win ? then next player's turn\n",
    "    ### player one turn\n",
    "    \n",
    "    \n",
    "    ### player two turn\n",
    "    \n",
    "    \n",
    "    \n",
    "    \n",
    "    \n",
    "    \n",
    "    if not replay():\n",
    "        break\n",
    "    #break out of the while loop on replay    "
   ]
  },
  {
   "cell_type": "code",
   "execution_count": null,
   "id": "17cac691",
   "metadata": {},
   "outputs": [],
   "source": []
  }
 ],
 "metadata": {
  "kernelspec": {
   "display_name": "Python 3 (ipykernel)",
   "language": "python",
   "name": "python3"
  },
  "language_info": {
   "codemirror_mode": {
    "name": "ipython",
    "version": 3
   },
   "file_extension": ".py",
   "mimetype": "text/x-python",
   "name": "python",
   "nbconvert_exporter": "python",
   "pygments_lexer": "ipython3",
   "version": "3.9.12"
  }
 },
 "nbformat": 4,
 "nbformat_minor": 5
}
