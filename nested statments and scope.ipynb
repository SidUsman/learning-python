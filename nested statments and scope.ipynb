{
 "cells": [
  {
   "cell_type": "markdown",
   "id": "9f373168",
   "metadata": {},
   "source": [
    "# LEGB RULE\n",
    "LOCAL\n",
    "ENCLOSING\n",
    "GLOBAL\n",
    "BUILT IN"
   ]
  },
  {
   "cell_type": "markdown",
   "id": "6ee9ebd2",
   "metadata": {},
   "source": [
    "Scope : evey variable that is created is stored inside the region it is created that is called scope of that variable"
   ]
  },
  {
   "cell_type": "markdown",
   "id": "ed719b20",
   "metadata": {},
   "source": [
    "Local: inside the function.\n",
    "    name assigened in any way within a function either def or lambda and not declered global in that function "
   ]
  },
  {
   "cell_type": "markdown",
   "id": "4706d93f",
   "metadata": {},
   "source": [
    "Enclosing local:\n",
    "    name in the local scope of any and all enclosing functions, def or lambda,from inner to outer."
   ]
  },
  {
   "cell_type": "markdown",
   "id": "247849ff",
   "metadata": {},
   "source": [
    "global : usually sits on top of the code out side the function "
   ]
  },
  {
   "cell_type": "code",
   "execution_count": 3,
   "id": "475f857c",
   "metadata": {},
   "outputs": [],
   "source": [
    "x= 10   #GLOBAL \n",
    "def printing():\n",
    "    return (x)   #LOCAL\n",
    "    "
   ]
  },
  {
   "cell_type": "code",
   "execution_count": 4,
   "id": "dbfa4206",
   "metadata": {},
   "outputs": [
    {
     "data": {
      "text/plain": [
       "10"
      ]
     },
     "execution_count": 4,
     "metadata": {},
     "output_type": "execute_result"
    }
   ],
   "source": [
    "x"
   ]
  },
  {
   "cell_type": "code",
   "execution_count": 30,
   "id": "2aa51b01",
   "metadata": {},
   "outputs": [],
   "source": [
    "x = 'sid'    #GLOBAL\n",
    "def great():\n",
    "    x= 'sammy'      #Enclosing Local\n",
    "    def hello():\n",
    "        x= 'Dev'        #Local\n",
    "        print (f'hello '+ x)  \n",
    "    hello()"
   ]
  },
  {
   "cell_type": "code",
   "execution_count": 31,
   "id": "d707e8f1",
   "metadata": {},
   "outputs": [
    {
     "name": "stdout",
     "output_type": "stream",
     "text": [
      "hello Dev\n"
     ]
    }
   ],
   "source": [
    "great()#function will be using the local variabale value as a first choice will ignor whatwhere is outside the func"
   ]
  },
  {
   "cell_type": "code",
   "execution_count": 26,
   "id": "68b2c129",
   "metadata": {},
   "outputs": [],
   "source": [
    "x = 'sid'    #GLOBAL\n",
    "def great():\n",
    "    x= 'sammy'      #enclosing\n",
    "    def hello():\n",
    "        print (f'hello '+ x)  #LOCAL ,... BUT NO X IS DEFINED IN LOCAL \n",
    "    hello()"
   ]
  },
  {
   "cell_type": "code",
   "execution_count": 22,
   "id": "9ce5cbbb",
   "metadata": {},
   "outputs": [
    {
     "data": {
      "text/plain": [
       "'sid'"
      ]
     },
     "execution_count": 22,
     "metadata": {},
     "output_type": "execute_result"
    }
   ],
   "source": [
    "x   #will give the global coz enclosing is inside the function and i didnt call function just x"
   ]
  },
  {
   "cell_type": "code",
   "execution_count": 27,
   "id": "f921f912",
   "metadata": {},
   "outputs": [
    {
     "name": "stdout",
     "output_type": "stream",
     "text": [
      "hello sammy\n"
     ]
    }
   ],
   "source": [
    "great()   #giving enclosing value cuz the function is called"
   ]
  },
  {
   "cell_type": "markdown",
   "id": "ad666eba",
   "metadata": {},
   "source": [
    "# if # the enclosing variable and run the function ,it will have no choice but to use the 2nd option for varable that is global"
   ]
  },
  {
   "cell_type": "code",
   "execution_count": 28,
   "id": "d8e4452d",
   "metadata": {},
   "outputs": [],
   "source": [
    "x = 'sid'    #GLOBAL\n",
    "def great():\n",
    "    #x= 'sammy'      #enclosing\n",
    "    def hello():\n",
    "        print (f'hello '+ x)  #LOCAL ,... BUT NO X IS DEFINED IN LOCAL \n",
    "    hello()"
   ]
  },
  {
   "cell_type": "code",
   "execution_count": 29,
   "id": "89593eb3",
   "metadata": {},
   "outputs": [
    {
     "name": "stdout",
     "output_type": "stream",
     "text": [
      "hello sid\n"
     ]
    }
   ],
   "source": [
    "great() #using the global variable now"
   ]
  },
  {
   "cell_type": "code",
   "execution_count": 32,
   "id": "289cbe86",
   "metadata": {},
   "outputs": [
    {
     "data": {
      "text/plain": [
       "'sid'"
      ]
     },
     "execution_count": 32,
     "metadata": {},
     "output_type": "execute_result"
    }
   ],
   "source": [
    "#if we call x it will give the global value \n",
    "x"
   ]
  },
  {
   "cell_type": "markdown",
   "id": "d1107ef8",
   "metadata": {},
   "source": [
    "#Local reassignment of a global"
   ]
  },
  {
   "cell_type": "code",
   "execution_count": 34,
   "id": "e304637a",
   "metadata": {},
   "outputs": [],
   "source": [
    "X= 'sid'\n",
    "def func():\n",
    "    global x\n",
    "    print (f'x is {x}')\n",
    "    \n",
    "    x= 'dev'\n",
    "    print (f'x is now {x}')"
   ]
  },
  {
   "cell_type": "code",
   "execution_count": 35,
   "id": "fb511352",
   "metadata": {},
   "outputs": [
    {
     "name": "stdout",
     "output_type": "stream",
     "text": [
      "x is sid\n",
      "x is now dev\n"
     ]
    }
   ],
   "source": [
    "func()"
   ]
  },
  {
   "cell_type": "code",
   "execution_count": null,
   "id": "5a0af2ca",
   "metadata": {},
   "outputs": [],
   "source": []
  }
 ],
 "metadata": {
  "kernelspec": {
   "display_name": "Python 3 (ipykernel)",
   "language": "python",
   "name": "python3"
  },
  "language_info": {
   "codemirror_mode": {
    "name": "ipython",
    "version": 3
   },
   "file_extension": ".py",
   "mimetype": "text/x-python",
   "name": "python",
   "nbconvert_exporter": "python",
   "pygments_lexer": "ipython3",
   "version": "3.9.12"
  }
 },
 "nbformat": 4,
 "nbformat_minor": 5
}
