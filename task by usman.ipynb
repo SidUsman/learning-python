{
 "cells": [
  {
   "cell_type": "code",
   "execution_count": 26,
   "id": "32f42889",
   "metadata": {},
   "outputs": [],
   "source": [
    "#addition function\n",
    "def user_input(a,b):\n",
    "    return a+b"
   ]
  },
  {
   "cell_type": "code",
   "execution_count": 27,
   "id": "a47032f6",
   "metadata": {},
   "outputs": [],
   "source": [
    "addition= user_input(22,33)"
   ]
  },
  {
   "cell_type": "code",
   "execution_count": 28,
   "id": "c58a8773",
   "metadata": {},
   "outputs": [
    {
     "name": "stdout",
     "output_type": "stream",
     "text": [
      "55\n"
     ]
    }
   ],
   "source": [
    "print(addition)"
   ]
  },
  {
   "cell_type": "code",
   "execution_count": 34,
   "id": "54325493",
   "metadata": {},
   "outputs": [],
   "source": [
    "#multiply function\n",
    "def multiply_func(c,d):\n",
    "    return c*d"
   ]
  },
  {
   "cell_type": "code",
   "execution_count": 39,
   "id": "1b27eddc",
   "metadata": {},
   "outputs": [],
   "source": [
    "multiplication= multiply_func(66,2)"
   ]
  },
  {
   "cell_type": "code",
   "execution_count": 40,
   "id": "ebc3e0ee",
   "metadata": {},
   "outputs": [
    {
     "data": {
      "text/plain": [
       "132"
      ]
     },
     "execution_count": 40,
     "metadata": {},
     "output_type": "execute_result"
    }
   ],
   "source": [
    "multiplication"
   ]
  },
  {
   "cell_type": "code",
   "execution_count": 49,
   "id": "05062349",
   "metadata": {},
   "outputs": [],
   "source": [
    "#subtraction function\n",
    "def sub_num(c,d):\n",
    "    print (c-d)\n",
    "    return c-d"
   ]
  },
  {
   "cell_type": "code",
   "execution_count": 50,
   "id": "8b42ebc8",
   "metadata": {},
   "outputs": [
    {
     "name": "stdout",
     "output_type": "stream",
     "text": [
      "-1\n"
     ]
    }
   ],
   "source": [
    "sub_result = sub_num(2,3)"
   ]
  },
  {
   "cell_type": "code",
   "execution_count": 47,
   "id": "20400cc1",
   "metadata": {},
   "outputs": [],
   "source": [
    "def compare_func(number1,number2):\n",
    "    number1=input(\"please enter number one \")\n",
    "    number2=input(\"please enter another number \")\n",
    "    if number1<number2:\n",
    "        print (\"number1 is smaller\")\n",
    "    elif number2<number1:\n",
    "        print ('number2 is smaller')\n",
    "    else :\n",
    "        print ('both numbers are equal')"
   ]
  },
  {
   "cell_type": "code",
   "execution_count": 52,
   "id": "b8317699",
   "metadata": {},
   "outputs": [
    {
     "name": "stdout",
     "output_type": "stream",
     "text": [
      "please enter number one 9\n",
      "please enter another number 3\n",
      "number2 is smaller\n"
     ]
    }
   ],
   "source": [
    "compare_func(44,7)"
   ]
  }
 ],
 "metadata": {
  "kernelspec": {
   "display_name": "Python 3 (ipykernel)",
   "language": "python",
   "name": "python3"
  },
  "language_info": {
   "codemirror_mode": {
    "name": "ipython",
    "version": 3
   },
   "file_extension": ".py",
   "mimetype": "text/x-python",
   "name": "python",
   "nbconvert_exporter": "python",
   "pygments_lexer": "ipython3",
   "version": "3.9.12"
  }
 },
 "nbformat": 4,
 "nbformat_minor": 5
}
