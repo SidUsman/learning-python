{
 "cells": [
  {
   "cell_type": "code",
   "execution_count": 1,
   "id": "63f0423a",
   "metadata": {},
   "outputs": [
    {
     "name": "stdout",
     "output_type": "stream",
     "text": [
      "My name is sidra\n"
     ]
    }
   ],
   "source": [
    "#program to print name\n",
    "print(\"My name is sidra\")"
   ]
  },
  {
   "cell_type": "code",
   "execution_count": 7,
   "id": "5839502b",
   "metadata": {},
   "outputs": [],
   "source": [
    "name = \"sidra\""
   ]
  },
  {
   "cell_type": "code",
   "execution_count": 3,
   "id": "b12be205",
   "metadata": {},
   "outputs": [],
   "source": [
    "father_name = \"naeem Ullah\""
   ]
  },
  {
   "cell_type": "code",
   "execution_count": 6,
   "id": "8e0c1d51",
   "metadata": {},
   "outputs": [
    {
     "name": "stdout",
     "output_type": "stream",
     "text": [
      "My name is  sidra My father name is naeem Ullah\n"
     ]
    }
   ],
   "source": [
    "print(\"My name is  \"+name + \" My father name is \"+father_name)"
   ]
  },
  {
   "cell_type": "markdown",
   "id": "a2062882",
   "metadata": {},
   "source": [
    "# My Notes"
   ]
  },
  {
   "cell_type": "code",
   "execution_count": 8,
   "id": "2668adcb",
   "metadata": {},
   "outputs": [
    {
     "data": {
      "text/plain": [
       "7"
      ]
     },
     "execution_count": 8,
     "metadata": {},
     "output_type": "execute_result"
    }
   ],
   "source": [
    "3+4"
   ]
  },
  {
   "cell_type": "code",
   "execution_count": 10,
   "id": "e0bf1b27",
   "metadata": {},
   "outputs": [
    {
     "data": {
      "text/plain": [
       "-1"
      ]
     },
     "execution_count": 10,
     "metadata": {},
     "output_type": "execute_result"
    }
   ],
   "source": [
    "3-4"
   ]
  },
  {
   "cell_type": "code",
   "execution_count": 11,
   "id": "484f3975",
   "metadata": {},
   "outputs": [
    {
     "data": {
      "text/plain": [
       "16"
      ]
     },
     "execution_count": 11,
     "metadata": {},
     "output_type": "execute_result"
    }
   ],
   "source": [
    "4*4"
   ]
  },
  {
   "cell_type": "code",
   "execution_count": 12,
   "id": "83135e14",
   "metadata": {},
   "outputs": [
    {
     "data": {
      "text/plain": [
       "1.0"
      ]
     },
     "execution_count": 12,
     "metadata": {},
     "output_type": "execute_result"
    }
   ],
   "source": [
    "5/5"
   ]
  },
  {
   "cell_type": "code",
   "execution_count": 13,
   "id": "2a4e7f6c",
   "metadata": {},
   "outputs": [
    {
     "data": {
      "text/plain": [
       "4"
      ]
     },
     "execution_count": 13,
     "metadata": {},
     "output_type": "execute_result"
    }
   ],
   "source": [
    "2**2"
   ]
  },
  {
   "cell_type": "code",
   "execution_count": 14,
   "id": "3b8574d3",
   "metadata": {},
   "outputs": [
    {
     "data": {
      "text/plain": [
       "64"
      ]
     },
     "execution_count": 14,
     "metadata": {},
     "output_type": "execute_result"
    }
   ],
   "source": [
    "2**6"
   ]
  },
  {
   "cell_type": "code",
   "execution_count": 16,
   "id": "39537515",
   "metadata": {},
   "outputs": [
    {
     "data": {
      "text/plain": [
       "(7, 7)"
      ]
     },
     "execution_count": 16,
     "metadata": {},
     "output_type": "execute_result"
    }
   ],
   "source": [
    "3+4,(3+4)"
   ]
  },
  {
   "cell_type": "code",
   "execution_count": 18,
   "id": "640c51e1",
   "metadata": {},
   "outputs": [
    {
     "data": {
      "text/plain": [
       "9"
      ]
     },
     "execution_count": 18,
     "metadata": {},
     "output_type": "execute_result"
    }
   ],
   "source": [
    "s=5\n",
    "s+4"
   ]
  },
  {
   "cell_type": "code",
   "execution_count": 28,
   "id": "473fb0a3",
   "metadata": {},
   "outputs": [],
   "source": [
    "my_income = 2000\n",
    "tax_rate = 0.1\n",
    "my_tax = my_income * tax_rate"
   ]
  },
  {
   "cell_type": "code",
   "execution_count": 30,
   "id": "1e180a97",
   "metadata": {},
   "outputs": [
    {
     "data": {
      "text/plain": [
       "int"
      ]
     },
     "execution_count": 30,
     "metadata": {},
     "output_type": "execute_result"
    }
   ],
   "source": [
    "type(my_income)"
   ]
  },
  {
   "cell_type": "code",
   "execution_count": 32,
   "id": "49e51741",
   "metadata": {},
   "outputs": [
    {
     "data": {
      "text/plain": [
       "200.0"
      ]
     },
     "execution_count": 32,
     "metadata": {},
     "output_type": "execute_result"
    }
   ],
   "source": [
    "my_tax"
   ]
  },
  {
   "cell_type": "code",
   "execution_count": 33,
   "id": "0695a304",
   "metadata": {},
   "outputs": [],
   "source": [
    "abc = 40\n",
    "bca = 10\n",
    "d = abc * bca"
   ]
  },
  {
   "cell_type": "code",
   "execution_count": 35,
   "id": "45167e73",
   "metadata": {},
   "outputs": [
    {
     "data": {
      "text/plain": [
       "400"
      ]
     },
     "execution_count": 35,
     "metadata": {},
     "output_type": "execute_result"
    }
   ],
   "source": [
    "d "
   ]
  },
  {
   "cell_type": "code",
   "execution_count": 36,
   "id": "b1556644",
   "metadata": {},
   "outputs": [
    {
     "data": {
      "text/plain": [
       "'hello this is sidra'"
      ]
     },
     "execution_count": 36,
     "metadata": {},
     "output_type": "execute_result"
    }
   ],
   "source": [
    "(\"hello this is sidra\")"
   ]
  },
  {
   "cell_type": "code",
   "execution_count": 37,
   "id": "ae079d5e",
   "metadata": {},
   "outputs": [
    {
     "data": {
      "text/plain": [
       "'ordered sequence of characters using the syntax of single or double quotes'"
      ]
     },
     "execution_count": 37,
     "metadata": {},
     "output_type": "execute_result"
    }
   ],
   "source": [
    "\"ordered sequence of characters using the syntax of single or double quotes\""
   ]
  },
  {
   "cell_type": "code",
   "execution_count": 39,
   "id": "b660a938",
   "metadata": {},
   "outputs": [
    {
     "data": {
      "text/plain": [
       "'string'"
      ]
     },
     "execution_count": 39,
     "metadata": {},
     "output_type": "execute_result"
    }
   ],
   "source": [
    "'string'\n"
   ]
  },
  {
   "cell_type": "code",
   "execution_count": 40,
   "id": "2d19b01c",
   "metadata": {},
   "outputs": [
    {
     "data": {
      "text/plain": [
       "'indexing and slicing of a string is possible'"
      ]
     },
     "execution_count": 40,
     "metadata": {},
     "output_type": "execute_result"
    }
   ],
   "source": [
    "\"indexing and slicing of a string is possible\""
   ]
  },
  {
   "cell_type": "code",
   "execution_count": 41,
   "id": "d5156871",
   "metadata": {},
   "outputs": [
    {
     "data": {
      "text/plain": [
       "'indexing'"
      ]
     },
     "execution_count": 41,
     "metadata": {},
     "output_type": "execute_result"
    }
   ],
   "source": [
    "'indexing'"
   ]
  },
  {
   "cell_type": "code",
   "execution_count": 43,
   "id": "a3320bf0",
   "metadata": {},
   "outputs": [
    {
     "data": {
      "text/plain": [
       "'use of [] notion after a string or a variable to grabe a specific or single character'"
      ]
     },
     "execution_count": 43,
     "metadata": {},
     "output_type": "execute_result"
    }
   ],
   "source": [
    "'use of [] notion after a string or a variable to grabe a specific or single character'"
   ]
  },
  {
   "cell_type": "code",
   "execution_count": 47,
   "id": "694787b8",
   "metadata": {},
   "outputs": [],
   "source": [
    "indexing= ('indexing starts from 0 and goes till the length of the numbers')"
   ]
  },
  {
   "cell_type": "code",
   "execution_count": 46,
   "id": "9c8ce4bb",
   "metadata": {},
   "outputs": [
    {
     "data": {
      "text/plain": [
       "'there is also reverse indexing that is 0,-2,-3 according the number of characters'"
      ]
     },
     "execution_count": 46,
     "metadata": {},
     "output_type": "execute_result"
    }
   ],
   "source": [
    "'there is also reverse indexing that is 0,-2,-3 according the number of characters'"
   ]
  },
  {
   "cell_type": "code",
   "execution_count": 49,
   "id": "ff859428",
   "metadata": {},
   "outputs": [
    {
     "data": {
      "text/plain": [
       "'x'"
      ]
     },
     "execution_count": 49,
     "metadata": {},
     "output_type": "execute_result"
    }
   ],
   "source": [
    "indexing[4]"
   ]
  },
  {
   "cell_type": "code",
   "execution_count": 53,
   "id": "03594eb3",
   "metadata": {},
   "outputs": [
    {
     "data": {
      "text/plain": [
       "'slicing is [start:stop:step]'"
      ]
     },
     "execution_count": 53,
     "metadata": {},
     "output_type": "execute_result"
    }
   ],
   "source": [
    "\"slicing is [start:stop:step]\""
   ]
  },
  {
   "cell_type": "code",
   "execution_count": 54,
   "id": "722c840a",
   "metadata": {},
   "outputs": [
    {
     "data": {
      "text/plain": [
       "'stop numarical indax is the point uptill we go but do not include it'"
      ]
     },
     "execution_count": 54,
     "metadata": {},
     "output_type": "execute_result"
    }
   ],
   "source": [
    "\"start numarical indax is the start point of slice\"\n",
    "'stop numarical indax is the point uptill we go but do not include it'"
   ]
  },
  {
   "cell_type": "code",
   "execution_count": 55,
   "id": "d1b9db61",
   "metadata": {},
   "outputs": [
    {
     "data": {
      "text/plain": [
       "'step is the size of jump you take from starting to stop'"
      ]
     },
     "execution_count": 55,
     "metadata": {},
     "output_type": "execute_result"
    }
   ],
   "source": [
    "'step is the size of jump you take from starting to stop'"
   ]
  },
  {
   "cell_type": "code",
   "execution_count": 56,
   "id": "6ec344e4",
   "metadata": {},
   "outputs": [
    {
     "data": {
      "text/plain": [
       "'grabing a subsection or a slice of a string'"
      ]
     },
     "execution_count": 56,
     "metadata": {},
     "output_type": "execute_result"
    }
   ],
   "source": [
    "'grabing a subsection or a slice of a string'"
   ]
  },
  {
   "cell_type": "code",
   "execution_count": 58,
   "id": "0f709813",
   "metadata": {},
   "outputs": [
    {
     "data": {
      "text/plain": [
       "'g'"
      ]
     },
     "execution_count": 58,
     "metadata": {},
     "output_type": "execute_result"
    }
   ],
   "source": [
    "\"ansdfhghdfj\"[6]"
   ]
  },
  {
   "cell_type": "code",
   "execution_count": 59,
   "id": "9df0bb36",
   "metadata": {},
   "outputs": [],
   "source": [
    "ghj=\"klm\""
   ]
  },
  {
   "cell_type": "code",
   "execution_count": 60,
   "id": "9f9b369f",
   "metadata": {},
   "outputs": [
    {
     "data": {
      "text/plain": [
       "'m'"
      ]
     },
     "execution_count": 60,
     "metadata": {},
     "output_type": "execute_result"
    }
   ],
   "source": [
    "ghj[2]"
   ]
  },
  {
   "cell_type": "code",
   "execution_count": 61,
   "id": "b7eaec8c",
   "metadata": {},
   "outputs": [],
   "source": [
    "a=\"asdfghjkl\""
   ]
  },
  {
   "cell_type": "code",
   "execution_count": 62,
   "id": "861619cd",
   "metadata": {},
   "outputs": [
    {
     "data": {
      "text/plain": [
       "'j'"
      ]
     },
     "execution_count": 62,
     "metadata": {},
     "output_type": "execute_result"
    }
   ],
   "source": [
    "a[-3]"
   ]
  },
  {
   "cell_type": "code",
   "execution_count": 64,
   "id": "290dd6f8",
   "metadata": {},
   "outputs": [
    {
     "data": {
      "text/plain": [
       "'dgjl'"
      ]
     },
     "execution_count": 64,
     "metadata": {},
     "output_type": "execute_result"
    }
   ],
   "source": [
    "a[2:9:2]"
   ]
  },
  {
   "cell_type": "code",
   "execution_count": 66,
   "id": "ffc5460a",
   "metadata": {},
   "outputs": [
    {
     "data": {
      "text/plain": [
       "'dgj'"
      ]
     },
     "execution_count": 66,
     "metadata": {},
     "output_type": "execute_result"
    }
   ],
   "source": [
    "a[2:8:2]"
   ]
  },
  {
   "cell_type": "code",
   "execution_count": 68,
   "id": "df341fb8",
   "metadata": {},
   "outputs": [
    {
     "data": {
      "text/plain": [
       "9"
      ]
     },
     "execution_count": 68,
     "metadata": {},
     "output_type": "execute_result"
    }
   ],
   "source": [
    "len(a)"
   ]
  },
  {
   "cell_type": "code",
   "execution_count": 69,
   "id": "2725ff16",
   "metadata": {},
   "outputs": [
    {
     "data": {
      "text/plain": [
       "str"
      ]
     },
     "execution_count": 69,
     "metadata": {},
     "output_type": "execute_result"
    }
   ],
   "source": [
    "type(a)"
   ]
  },
  {
   "cell_type": "code",
   "execution_count": 71,
   "id": "7913bcaa",
   "metadata": {},
   "outputs": [
    {
     "data": {
      "text/plain": [
       "'s'"
      ]
     },
     "execution_count": 71,
     "metadata": {},
     "output_type": "execute_result"
    }
   ],
   "source": [
    "a[1:2:1]"
   ]
  },
  {
   "cell_type": "code",
   "execution_count": 73,
   "id": "5f9952c5",
   "metadata": {},
   "outputs": [
    {
     "data": {
      "text/plain": [
       "'asdfgh'"
      ]
     },
     "execution_count": 73,
     "metadata": {},
     "output_type": "execute_result"
    }
   ],
   "source": [
    "a[:-3]"
   ]
  },
  {
   "cell_type": "code",
   "execution_count": 74,
   "id": "e54386ba",
   "metadata": {},
   "outputs": [
    {
     "data": {
      "text/plain": [
       "'dfgh'"
      ]
     },
     "execution_count": 74,
     "metadata": {},
     "output_type": "execute_result"
    }
   ],
   "source": [
    "a[2:6]"
   ]
  },
  {
   "cell_type": "code",
   "execution_count": 75,
   "id": "7a4fff1f",
   "metadata": {},
   "outputs": [
    {
     "data": {
      "text/plain": [
       "'ghjkl'"
      ]
     },
     "execution_count": 75,
     "metadata": {},
     "output_type": "execute_result"
    }
   ],
   "source": [
    "a[4:]"
   ]
  },
  {
   "cell_type": "code",
   "execution_count": 77,
   "id": "e329a03e",
   "metadata": {},
   "outputs": [
    {
     "data": {
      "text/plain": [
       "'asdfghjkl'"
      ]
     },
     "execution_count": 77,
     "metadata": {},
     "output_type": "execute_result"
    }
   ],
   "source": [
    "a[::]"
   ]
  },
  {
   "cell_type": "code",
   "execution_count": 79,
   "id": "628589a5",
   "metadata": {},
   "outputs": [
    {
     "data": {
      "text/plain": [
       "'afj'"
      ]
     },
     "execution_count": 79,
     "metadata": {},
     "output_type": "execute_result"
    }
   ],
   "source": [
    "a[::3]"
   ]
  },
  {
   "cell_type": "code",
   "execution_count": 81,
   "id": "337a3b6b",
   "metadata": {},
   "outputs": [
    {
     "data": {
      "text/plain": [
       "'agl'"
      ]
     },
     "execution_count": 81,
     "metadata": {},
     "output_type": "execute_result"
    }
   ],
   "source": [
    "a[::4]"
   ]
  },
  {
   "cell_type": "code",
   "execution_count": 83,
   "id": "220559b5",
   "metadata": {},
   "outputs": [
    {
     "data": {
      "text/plain": [
       "'lkjhgfdsa'"
      ]
     },
     "execution_count": 83,
     "metadata": {},
     "output_type": "execute_result"
    }
   ],
   "source": [
    "a[::-1]"
   ]
  },
  {
   "cell_type": "code",
   "execution_count": 84,
   "id": "b3ab18a1",
   "metadata": {},
   "outputs": [
    {
     "data": {
      "text/plain": [
       "'its called reversing of a string'"
      ]
     },
     "execution_count": 84,
     "metadata": {},
     "output_type": "execute_result"
    }
   ],
   "source": [
    "'its called reversing of a string'"
   ]
  },
  {
   "cell_type": "code",
   "execution_count": 86,
   "id": "55ab0665",
   "metadata": {},
   "outputs": [
    {
     "data": {
      "text/plain": [
       "'lkjhgfdsa'"
      ]
     },
     "execution_count": 86,
     "metadata": {},
     "output_type": "execute_result"
    }
   ],
   "source": [
    "a[::-1]"
   ]
  },
  {
   "cell_type": "code",
   "execution_count": 87,
   "id": "029341e3",
   "metadata": {},
   "outputs": [],
   "source": [
    "b=('12345')"
   ]
  },
  {
   "cell_type": "code",
   "execution_count": 89,
   "id": "33f19085",
   "metadata": {},
   "outputs": [
    {
     "data": {
      "text/plain": [
       "'54321'"
      ]
     },
     "execution_count": 89,
     "metadata": {},
     "output_type": "execute_result"
    }
   ],
   "source": [
    "b[::-1]"
   ]
  },
  {
   "cell_type": "code",
   "execution_count": 90,
   "id": "eb20d100",
   "metadata": {},
   "outputs": [],
   "source": [
    "name = 'sam'"
   ]
  },
  {
   "cell_type": "code",
   "execution_count": 91,
   "id": "eecc659c",
   "metadata": {},
   "outputs": [],
   "source": [
    "name2 = 'sam'"
   ]
  },
  {
   "cell_type": "code",
   "execution_count": 93,
   "id": "10632fd2",
   "metadata": {},
   "outputs": [
    {
     "data": {
      "text/plain": [
       "'sam'"
      ]
     },
     "execution_count": 93,
     "metadata": {},
     "output_type": "execute_result"
    }
   ],
   "source": [
    "name2"
   ]
  },
  {
   "cell_type": "code",
   "execution_count": 94,
   "id": "ba6110fb",
   "metadata": {},
   "outputs": [
    {
     "data": {
      "text/plain": [
       "'namename2'"
      ]
     },
     "execution_count": 94,
     "metadata": {},
     "output_type": "execute_result"
    }
   ],
   "source": [
    "'name'+'name2'"
   ]
  },
  {
   "cell_type": "code",
   "execution_count": 96,
   "id": "60ee545c",
   "metadata": {},
   "outputs": [
    {
     "name": "stdout",
     "output_type": "stream",
     "text": [
      "sam+sam\n"
     ]
    }
   ],
   "source": [
    "print(f\"{name}+{name2}\")"
   ]
  },
  {
   "cell_type": "code",
   "execution_count": 102,
   "id": "fbcc8082",
   "metadata": {},
   "outputs": [
    {
     "data": {
      "text/plain": [
       "'am'"
      ]
     },
     "execution_count": 102,
     "metadata": {},
     "output_type": "execute_result"
    }
   ],
   "source": [
    "name[1:]"
   ]
  },
  {
   "cell_type": "code",
   "execution_count": 103,
   "id": "65ddf8a0",
   "metadata": {},
   "outputs": [],
   "source": [
    "last_part= name[1:]"
   ]
  },
  {
   "cell_type": "code",
   "execution_count": 106,
   "id": "e2c68340",
   "metadata": {},
   "outputs": [
    {
     "data": {
      "text/plain": [
       "'pam'"
      ]
     },
     "execution_count": 106,
     "metadata": {},
     "output_type": "execute_result"
    }
   ],
   "source": [
    "'p'+last_part"
   ]
  },
  {
   "cell_type": "code",
   "execution_count": 108,
   "id": "35179934",
   "metadata": {},
   "outputs": [],
   "source": [
    "a='Hi'"
   ]
  },
  {
   "cell_type": "code",
   "execution_count": 112,
   "id": "fb5cc442",
   "metadata": {},
   "outputs": [
    {
     "name": "stdout",
     "output_type": "stream",
     "text": [
      "Hi Sidra here\n"
     ]
    }
   ],
   "source": [
    "print(f'{a}'+' Sidra here')"
   ]
  },
  {
   "cell_type": "code",
   "execution_count": 114,
   "id": "49efcd83",
   "metadata": {},
   "outputs": [
    {
     "data": {
      "text/plain": [
       "'Hi sidra here'"
      ]
     },
     "execution_count": 114,
     "metadata": {},
     "output_type": "execute_result"
    }
   ],
   "source": [
    "a+' sidra here'"
   ]
  },
  {
   "cell_type": "code",
   "execution_count": 116,
   "id": "dd1f24dc",
   "metadata": {},
   "outputs": [],
   "source": [
    "word = 'z'\n"
   ]
  },
  {
   "cell_type": "code",
   "execution_count": 117,
   "id": "b45feda1",
   "metadata": {},
   "outputs": [
    {
     "data": {
      "text/plain": [
       "'zzzzzzzzzzzzzzzzzzzz'"
      ]
     },
     "execution_count": 117,
     "metadata": {},
     "output_type": "execute_result"
    }
   ],
   "source": [
    "word*20"
   ]
  },
  {
   "cell_type": "code",
   "execution_count": 119,
   "id": "6ccd8d4c",
   "metadata": {},
   "outputs": [
    {
     "data": {
      "text/plain": [
       "'Hiz Sidra here'"
      ]
     },
     "execution_count": 119,
     "metadata": {},
     "output_type": "execute_result"
    }
   ],
   "source": [
    "a + word + ' Sidra here'"
   ]
  },
  {
   "cell_type": "code",
   "execution_count": 120,
   "id": "5dc0384c",
   "metadata": {},
   "outputs": [],
   "source": [
    "line = 'Hi you there' "
   ]
  },
  {
   "cell_type": "code",
   "execution_count": 121,
   "id": "13c06986",
   "metadata": {},
   "outputs": [
    {
     "data": {
      "text/plain": [
       "'HI YOU THERE'"
      ]
     },
     "execution_count": 121,
     "metadata": {},
     "output_type": "execute_result"
    }
   ],
   "source": [
    "line.upper()"
   ]
  },
  {
   "cell_type": "code",
   "execution_count": 122,
   "id": "1a598ce8",
   "metadata": {},
   "outputs": [
    {
     "data": {
      "text/plain": [
       "'hi you there'"
      ]
     },
     "execution_count": 122,
     "metadata": {},
     "output_type": "execute_result"
    }
   ],
   "source": [
    "line.lower()"
   ]
  },
  {
   "cell_type": "code",
   "execution_count": 123,
   "id": "e0499347",
   "metadata": {},
   "outputs": [
    {
     "data": {
      "text/plain": [
       "['Hi', 'you', 'there']"
      ]
     },
     "execution_count": 123,
     "metadata": {},
     "output_type": "execute_result"
    }
   ],
   "source": [
    "line.split()"
   ]
  },
  {
   "cell_type": "code",
   "execution_count": 125,
   "id": "1d432855",
   "metadata": {},
   "outputs": [
    {
     "data": {
      "text/plain": [
       "['H', ' you there']"
      ]
     },
     "execution_count": 125,
     "metadata": {},
     "output_type": "execute_result"
    }
   ],
   "source": [
    "line.split('i')"
   ]
  },
  {
   "cell_type": "code",
   "execution_count": 127,
   "id": "c23bf030",
   "metadata": {},
   "outputs": [
    {
     "data": {
      "text/plain": [
       "['Hi you there']"
      ]
     },
     "execution_count": 127,
     "metadata": {},
     "output_type": "execute_result"
    }
   ],
   "source": [
    "line.split('n')"
   ]
  },
  {
   "cell_type": "code",
   "execution_count": 129,
   "id": "7614a692",
   "metadata": {},
   "outputs": [
    {
     "data": {
      "text/plain": [
       "['Hi you th', 'r', '']"
      ]
     },
     "execution_count": 129,
     "metadata": {},
     "output_type": "execute_result"
    }
   ],
   "source": [
    "line.split('e')"
   ]
  },
  {
   "cell_type": "code",
   "execution_count": 130,
   "id": "e8ae0c5b",
   "metadata": {},
   "outputs": [],
   "source": [
    "x = 'this is a string'"
   ]
  },
  {
   "cell_type": "code",
   "execution_count": 132,
   "id": "4682d6d1",
   "metadata": {},
   "outputs": [
    {
     "data": {
      "text/plain": [
       "['th', 's ', 's a str', 'ng']"
      ]
     },
     "execution_count": 132,
     "metadata": {},
     "output_type": "execute_result"
    }
   ],
   "source": [
    "x.split('i')"
   ]
  },
  {
   "cell_type": "code",
   "execution_count": 133,
   "id": "c3928364",
   "metadata": {},
   "outputs": [
    {
     "data": {
      "text/plain": [
       "'string interpolation'"
      ]
     },
     "execution_count": 133,
     "metadata": {},
     "output_type": "execute_result"
    }
   ],
   "source": [
    "'string interpolation'"
   ]
  },
  {
   "cell_type": "code",
   "execution_count": 135,
   "id": "c8e5e5d9",
   "metadata": {},
   "outputs": [
    {
     "name": "stdout",
     "output_type": "stream",
     "text": [
      "my name is Sidra and my husband's name is Usman).\n"
     ]
    }
   ],
   "source": [
    "print(\"my name is {a} and my husband's name is {b}.\".format(a=\"Sidra\",b=\"Usman)\") )"
   ]
  },
  {
   "cell_type": "code",
   "execution_count": 137,
   "id": "7e53593e",
   "metadata": {},
   "outputs": [
    {
     "name": "stdout",
     "output_type": "stream",
     "text": [
      "we live in Hamilton, just the two of us.\n"
     ]
    }
   ],
   "source": [
    "print(\"we live in {}, just the {} of us.\".format('Hamilton','two'))"
   ]
  },
  {
   "cell_type": "code",
   "execution_count": 138,
   "id": "0196dfe3",
   "metadata": {},
   "outputs": [],
   "source": [
    "result= '123345'"
   ]
  },
  {
   "cell_type": "code",
   "execution_count": 140,
   "id": "9bd05916",
   "metadata": {},
   "outputs": [
    {
     "name": "stdout",
     "output_type": "stream",
     "text": [
      "first five digitis of counting are result.\n"
     ]
    }
   ],
   "source": [
    "print('first five digitis of counting are {}.'.format('result'))"
   ]
  },
  {
   "cell_type": "code",
   "execution_count": 144,
   "id": "6288a379",
   "metadata": {},
   "outputs": [
    {
     "name": "stdout",
     "output_type": "stream",
     "text": [
      "first five digitis of counting are 12345\n"
     ]
    }
   ],
   "source": [
    "print(\"first five digitis of counting are {r}\".format(r=\"12345\"))"
   ]
  },
  {
   "cell_type": "code",
   "execution_count": 146,
   "id": "190491c1",
   "metadata": {},
   "outputs": [
    {
     "data": {
      "text/plain": [
       "'floatformating'"
      ]
     },
     "execution_count": 146,
     "metadata": {},
     "output_type": "execute_result"
    }
   ],
   "source": [
    "'floatformating'"
   ]
  },
  {
   "cell_type": "code",
   "execution_count": 153,
   "id": "b2884563",
   "metadata": {},
   "outputs": [],
   "source": [
    "result= \"1234.567\""
   ]
  },
  {
   "cell_type": "code",
   "execution_count": 154,
   "id": "44442bf5",
   "metadata": {},
   "outputs": [
    {
     "ename": "ValueError",
     "evalue": "Invalid format specifier",
     "output_type": "error",
     "traceback": [
      "\u001b[0;31m---------------------------------------------------------------------------\u001b[0m",
      "\u001b[0;31mValueError\u001b[0m                                Traceback (most recent call last)",
      "Input \u001b[0;32mIn [154]\u001b[0m, in \u001b[0;36m<cell line: 1>\u001b[0;34m()\u001b[0m\n\u001b[0;32m----> 1\u001b[0m \u001b[38;5;28mprint\u001b[39m(\u001b[38;5;124;43m'\u001b[39;49m\u001b[38;5;124;43mi am going to do float formating so round to one \u001b[39;49m\u001b[38;5;124;43m{\u001b[39;49m\u001b[38;5;124;43mr:1:1f}\u001b[39;49m\u001b[38;5;124;43m'\u001b[39;49m\u001b[38;5;241;43m.\u001b[39;49m\u001b[43mformat\u001b[49m\u001b[43m(\u001b[49m\u001b[43mr\u001b[49m\u001b[38;5;241;43m=\u001b[39;49m\u001b[38;5;124;43m\"\u001b[39;49m\u001b[38;5;124;43mresult\u001b[39;49m\u001b[38;5;124;43m\"\u001b[39;49m\u001b[43m)\u001b[49m)\n",
      "\u001b[0;31mValueError\u001b[0m: Invalid format specifier"
     ]
    }
   ],
   "source": [
    "print('i am going to do float formating so round to one {r:1:1f}'.format(r=\"result\"))"
   ]
  },
  {
   "cell_type": "code",
   "execution_count": 157,
   "id": "20289f2b",
   "metadata": {},
   "outputs": [],
   "source": [
    "result = 1000/50"
   ]
  },
  {
   "cell_type": "code",
   "execution_count": 158,
   "id": "401512d5",
   "metadata": {},
   "outputs": [
    {
     "data": {
      "text/plain": [
       "20.0"
      ]
     },
     "execution_count": 158,
     "metadata": {},
     "output_type": "execute_result"
    }
   ],
   "source": [
    "result"
   ]
  },
  {
   "cell_type": "code",
   "execution_count": 160,
   "id": "1b008c7e",
   "metadata": {},
   "outputs": [
    {
     "ename": "ValueError",
     "evalue": "Invalid format specifier",
     "output_type": "error",
     "traceback": [
      "\u001b[0;31m---------------------------------------------------------------------------\u001b[0m",
      "\u001b[0;31mValueError\u001b[0m                                Traceback (most recent call last)",
      "Input \u001b[0;32mIn [160]\u001b[0m, in \u001b[0;36m<cell line: 1>\u001b[0;34m()\u001b[0m\n\u001b[0;32m----> 1\u001b[0m \u001b[38;5;28mprint\u001b[39m(\u001b[38;5;124;43m\"\u001b[39;49m\u001b[38;5;124;43mthe result will be shown \u001b[39;49m\u001b[38;5;124;43m{\u001b[39;49m\u001b[38;5;124;43mr:1:1}\u001b[39;49m\u001b[38;5;124;43m\"\u001b[39;49m\u001b[38;5;241;43m.\u001b[39;49m\u001b[43mformat\u001b[49m\u001b[43m(\u001b[49m\u001b[43mr\u001b[49m\u001b[38;5;241;43m=\u001b[39;49m\u001b[38;5;124;43m\"\u001b[39;49m\u001b[38;5;124;43mresult\u001b[39;49m\u001b[38;5;124;43m\"\u001b[39;49m\u001b[43m)\u001b[49m)\n",
      "\u001b[0;31mValueError\u001b[0m: Invalid format specifier"
     ]
    }
   ],
   "source": [
    "print(\"the result will be shown {r:1:1}\".format(r=\"result\"))"
   ]
  }
 ],
 "metadata": {
  "kernelspec": {
   "display_name": "Python 3 (ipykernel)",
   "language": "python",
   "name": "python3"
  },
  "language_info": {
   "codemirror_mode": {
    "name": "ipython",
    "version": 3
   },
   "file_extension": ".py",
   "mimetype": "text/x-python",
   "name": "python",
   "nbconvert_exporter": "python",
   "pygments_lexer": "ipython3",
   "version": "3.9.12"
  }
 },
 "nbformat": 4,
 "nbformat_minor": 5
}
