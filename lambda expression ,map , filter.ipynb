{
 "cells": [
  {
   "cell_type": "code",
   "execution_count": 1,
   "id": "54573ee3",
   "metadata": {},
   "outputs": [],
   "source": [
    "#MAP its a buit in function \n",
    "# map(function,iterable objable)\n",
    "\n",
    "# map out the itreable object and apply function to every single object of that itreable"
   ]
  },
  {
   "cell_type": "code",
   "execution_count": null,
   "id": "cb444cce",
   "metadata": {},
   "outputs": [],
   "source": [
    "#for map we first need a function so will one first"
   ]
  },
  {
   "cell_type": "code",
   "execution_count": 2,
   "id": "20ee9f64",
   "metadata": {},
   "outputs": [],
   "source": [
    "def square(num):      #using the built in square fuction\n",
    "    return num**2"
   ]
  },
  {
   "cell_type": "code",
   "execution_count": 28,
   "id": "4da356a1",
   "metadata": {},
   "outputs": [],
   "source": [
    "my_nums = [1,2,3,4,5]"
   ]
  },
  {
   "cell_type": "code",
   "execution_count": 5,
   "id": "71181d91",
   "metadata": {},
   "outputs": [
    {
     "name": "stdout",
     "output_type": "stream",
     "text": [
      "1\n",
      "4\n",
      "9\n",
      "16\n",
      "25\n"
     ]
    }
   ],
   "source": [
    "# option is \n",
    "for item in map(square,my_nums):\n",
    "    print (item)"
   ]
  },
  {
   "cell_type": "code",
   "execution_count": 6,
   "id": "b4769ca0",
   "metadata": {},
   "outputs": [
    {
     "data": {
      "text/plain": [
       "[1, 4, 9, 16, 25]"
      ]
     },
     "execution_count": 6,
     "metadata": {},
     "output_type": "execute_result"
    }
   ],
   "source": [
    "list(map(square,my_nums))   #using the list fuction to convert the result to a list "
   ]
  },
  {
   "cell_type": "code",
   "execution_count": 7,
   "id": "c924b094",
   "metadata": {},
   "outputs": [],
   "source": [
    "#example 2 splicing=access any character or group of character from a python string\n",
    "# separating even numbers characters from a string"
   ]
  },
  {
   "cell_type": "code",
   "execution_count": 8,
   "id": "f70b1b21",
   "metadata": {},
   "outputs": [],
   "source": [
    "def splicer(mystring):\n",
    "    if len(mystring) %2 == 0:\n",
    "        return 'Even'\n",
    "    else:\n",
    "        return mystring[0]\n",
    "    "
   ]
  },
  {
   "cell_type": "code",
   "execution_count": 9,
   "id": "3d3dcda4",
   "metadata": {},
   "outputs": [],
   "source": [
    "name_list = ['sidra','dev','have','chae']"
   ]
  },
  {
   "cell_type": "code",
   "execution_count": 10,
   "id": "0058d5ff",
   "metadata": {},
   "outputs": [
    {
     "data": {
      "text/plain": [
       "['s', 'd', 'Even', 'Even']"
      ]
     },
     "execution_count": 10,
     "metadata": {},
     "output_type": "execute_result"
    }
   ],
   "source": [
    "list(map(splicer,name_list))"
   ]
  },
  {
   "cell_type": "code",
   "execution_count": 11,
   "id": "60d1c039",
   "metadata": {},
   "outputs": [],
   "source": [
    "#filter #filter through when retrn is true or false"
   ]
  },
  {
   "cell_type": "code",
   "execution_count": 12,
   "id": "26e89b7c",
   "metadata": {},
   "outputs": [],
   "source": [
    "def even_check(num):\n",
    "    return num%2 == 0"
   ]
  },
  {
   "cell_type": "code",
   "execution_count": 13,
   "id": "5074f2eb",
   "metadata": {},
   "outputs": [],
   "source": [
    "num_list = [1,2,3,4,5]"
   ]
  },
  {
   "cell_type": "code",
   "execution_count": 14,
   "id": "710f2d76",
   "metadata": {},
   "outputs": [
    {
     "data": {
      "text/plain": [
       "[2, 4]"
      ]
     },
     "execution_count": 14,
     "metadata": {},
     "output_type": "execute_result"
    }
   ],
   "source": [
    "list(filter(even_check,num_list))"
   ]
  },
  {
   "cell_type": "code",
   "execution_count": 15,
   "id": "db1bb8ce",
   "metadata": {},
   "outputs": [],
   "source": [
    "#for loop and filter "
   ]
  },
  {
   "cell_type": "code",
   "execution_count": 18,
   "id": "2561539d",
   "metadata": {},
   "outputs": [
    {
     "name": "stdout",
     "output_type": "stream",
     "text": [
      "2\n",
      "4\n"
     ]
    }
   ],
   "source": [
    "for num in filter(even_check,num_list):\n",
    "    print (num)"
   ]
  },
  {
   "cell_type": "code",
   "execution_count": 19,
   "id": "bd36f7fc",
   "metadata": {},
   "outputs": [],
   "source": [
    "#lambda expression.... dont need to define a function before hand just directly use lambda expression"
   ]
  },
  {
   "cell_type": "code",
   "execution_count": 23,
   "id": "78108391",
   "metadata": {},
   "outputs": [],
   "source": [
    "square=lambda num: num **2"
   ]
  },
  {
   "cell_type": "code",
   "execution_count": 25,
   "id": "dee421cc",
   "metadata": {},
   "outputs": [
    {
     "data": {
      "text/plain": [
       "9"
      ]
     },
     "execution_count": 25,
     "metadata": {},
     "output_type": "execute_result"
    }
   ],
   "source": [
    "square(3)"
   ]
  },
  {
   "cell_type": "code",
   "execution_count": 26,
   "id": "39d585ba",
   "metadata": {},
   "outputs": [],
   "source": [
    "#lambda is usually used in comjuction with other function"
   ]
  },
  {
   "cell_type": "code",
   "execution_count": 30,
   "id": "2c67f524",
   "metadata": {},
   "outputs": [
    {
     "data": {
      "text/plain": [
       "[1, 4, 9, 16, 25]"
      ]
     },
     "execution_count": 30,
     "metadata": {},
     "output_type": "execute_result"
    }
   ],
   "source": [
    "list(map(lambda num : num **2,my_nums))"
   ]
  },
  {
   "cell_type": "code",
   "execution_count": 31,
   "id": "63dc3909",
   "metadata": {},
   "outputs": [
    {
     "data": {
      "text/plain": [
       "[False, True, False, True, False]"
      ]
     },
     "execution_count": 31,
     "metadata": {},
     "output_type": "execute_result"
    }
   ],
   "source": [
    "list(map(lambda num: num%2 == 0,my_nums))"
   ]
  },
  {
   "cell_type": "code",
   "execution_count": 33,
   "id": "93565eb9",
   "metadata": {},
   "outputs": [
    {
     "data": {
      "text/plain": [
       "[2, 4]"
      ]
     },
     "execution_count": 33,
     "metadata": {},
     "output_type": "execute_result"
    }
   ],
   "source": [
    "list(filter(lambda num  : num %2 == 0,my_nums))"
   ]
  },
  {
   "cell_type": "code",
   "execution_count": 34,
   "id": "df54b034",
   "metadata": {},
   "outputs": [
    {
     "data": {
      "text/plain": [
       "['s', 'd', 'h', 'c']"
      ]
     },
     "execution_count": 34,
     "metadata": {},
     "output_type": "execute_result"
    }
   ],
   "source": [
    "list(map(lambda names:names[0],name_list))"
   ]
  },
  {
   "cell_type": "code",
   "execution_count": 35,
   "id": "b1c9605b",
   "metadata": {},
   "outputs": [
    {
     "data": {
      "text/plain": [
       "['ardis', 'ved', 'evah', 'eahc']"
      ]
     },
     "execution_count": 35,
     "metadata": {},
     "output_type": "execute_result"
    }
   ],
   "source": [
    "list(map(lambda names : names[::-1],name_list))"
   ]
  },
  {
   "cell_type": "code",
   "execution_count": null,
   "id": "edb22c93",
   "metadata": {},
   "outputs": [],
   "source": []
  }
 ],
 "metadata": {
  "kernelspec": {
   "display_name": "Python 3 (ipykernel)",
   "language": "python",
   "name": "python3"
  },
  "language_info": {
   "codemirror_mode": {
    "name": "ipython",
    "version": 3
   },
   "file_extension": ".py",
   "mimetype": "text/x-python",
   "name": "python",
   "nbconvert_exporter": "python",
   "pygments_lexer": "ipython3",
   "version": "3.9.12"
  }
 },
 "nbformat": 4,
 "nbformat_minor": 5
}
