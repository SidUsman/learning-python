{
 "cells": [
  {
   "cell_type": "code",
   "execution_count": 1,
   "id": "ae73105f",
   "metadata": {},
   "outputs": [],
   "source": [
    "#given a list of int, return true if cantains a 3 net to a 3 somewhere"
   ]
  },
  {
   "cell_type": "code",
   "execution_count": 2,
   "id": "efc005f4",
   "metadata": {},
   "outputs": [],
   "source": [
    "def has_33(nums):\n",
    "    for i in range(0,len(nums)-1):\n",
    "        if num[i] ==3 and nums[i+1]==3:\n",
    "            return True\n",
    "    return False"
   ]
  },
  {
   "cell_type": "code",
   "execution_count": 3,
   "id": "d06c3288",
   "metadata": {},
   "outputs": [],
   "source": [
    "#num[i:i+2]==3\n"
   ]
  },
  {
   "cell_type": "code",
   "execution_count": 4,
   "id": "feef668f",
   "metadata": {},
   "outputs": [],
   "source": [
    "#PAPER DOLL, given a string, ruturn a string where for every charcater in the orignal there are three characters"
   ]
  },
  {
   "cell_type": "code",
   "execution_count": 15,
   "id": "e893ad03",
   "metadata": {},
   "outputs": [],
   "source": [
    "def paper_doll(text):\n",
    "    result = ''\n",
    "    for char in text:\n",
    "        result += char*3\n",
    "    return result"
   ]
  },
  {
   "cell_type": "code",
   "execution_count": 16,
   "id": "572bd678",
   "metadata": {},
   "outputs": [
    {
     "data": {
      "text/plain": [
       "'sssiiidddrrraaa'"
      ]
     },
     "execution_count": 16,
     "metadata": {},
     "output_type": "execute_result"
    }
   ],
   "source": [
    "paper_doll('sidra')"
   ]
  },
  {
   "cell_type": "code",
   "execution_count": 17,
   "id": "1798f301",
   "metadata": {},
   "outputs": [],
   "source": [
    "#BLACK JACK, 3 int given from 1 to 11\n",
    "#if their sum is less or equal to 21 ,return sum \n",
    "#if sum exceeds 21 & there is an int 11 ,reduce sum by 10\n",
    "#if sum still exceeds 21,return 'bust'"
   ]
  },
  {
   "cell_type": "code",
   "execution_count": 48,
   "id": "4bc85212",
   "metadata": {},
   "outputs": [],
   "source": [
    "def black_jack(x,y,z):\n",
    "    if sum([x,y,z]) <= 21: #sum only works for 2 int more than 2 int use list\n",
    "        return sum([x,y,z])        \n",
    "    elif sum([x,y,z]) <= 31 and 11 in [x,y,z]:\n",
    "        return sum([x,y,z]) - 10 \n",
    "    else:\n",
    "        return \"bust\"\n",
    "            "
   ]
  },
  {
   "cell_type": "code",
   "execution_count": 34,
   "id": "e874e249",
   "metadata": {},
   "outputs": [
    {
     "data": {
      "text/plain": [
       "17"
      ]
     },
     "execution_count": 34,
     "metadata": {},
     "output_type": "execute_result"
    }
   ],
   "source": [
    "black_jack(2,11,4)"
   ]
  },
  {
   "cell_type": "code",
   "execution_count": 50,
   "id": "8c69531b",
   "metadata": {},
   "outputs": [
    {
     "data": {
      "text/plain": [
       "'bust'"
      ]
     },
     "execution_count": 50,
     "metadata": {},
     "output_type": "execute_result"
    }
   ],
   "source": [
    "black_jack(9,9,9)"
   ]
  },
  {
   "cell_type": "code",
   "execution_count": null,
   "id": "09b63b1d",
   "metadata": {},
   "outputs": [],
   "source": []
  },
  {
   "cell_type": "code",
   "execution_count": 51,
   "id": "0978dc45",
   "metadata": {},
   "outputs": [],
   "source": [
    "#summer 69\n",
    "#return sum of int array\n",
    "#ignore section from 6 to 9 in that array\n",
    "#return 0 for no numbers"
   ]
  },
  {
   "cell_type": "code",
   "execution_count": 53,
   "id": "b00cb1f1",
   "metadata": {},
   "outputs": [],
   "source": [
    "def summer_69(array):\n",
    "    total = 0\n",
    "    add = True \n",
    "    for num in (array):\n",
    "        while add:\n",
    "            if num != 6:\n",
    "                total = total + num\n",
    "                break\n",
    "            else:\n",
    "                add = False\n",
    "        while not add:\n",
    "            if num != 9:\n",
    "                break\n",
    "            else:\n",
    "                add = True\n",
    "                break\n",
    "    return total\n",
    "            "
   ]
  },
  {
   "cell_type": "code",
   "execution_count": 54,
   "id": "9b8edf71",
   "metadata": {},
   "outputs": [
    {
     "data": {
      "text/plain": [
       "13"
      ]
     },
     "execution_count": 54,
     "metadata": {},
     "output_type": "execute_result"
    }
   ],
   "source": [
    "summer_69([1,2,3,4,6,4,5,9,2,1])"
   ]
  },
  {
   "cell_type": "code",
   "execution_count": 55,
   "id": "bca9ce8e",
   "metadata": {},
   "outputs": [
    {
     "data": {
      "text/plain": [
       "0"
      ]
     },
     "execution_count": 55,
     "metadata": {},
     "output_type": "execute_result"
    }
   ],
   "source": [
    "summer_69([6,2,3,4,9])"
   ]
  },
  {
   "cell_type": "code",
   "execution_count": null,
   "id": "81dc2421",
   "metadata": {},
   "outputs": [],
   "source": []
  }
 ],
 "metadata": {
  "kernelspec": {
   "display_name": "Python 3 (ipykernel)",
   "language": "python",
   "name": "python3"
  },
  "language_info": {
   "codemirror_mode": {
    "name": "ipython",
    "version": 3
   },
   "file_extension": ".py",
   "mimetype": "text/x-python",
   "name": "python",
   "nbconvert_exporter": "python",
   "pygments_lexer": "ipython3",
   "version": "3.9.12"
  }
 },
 "nbformat": 4,
 "nbformat_minor": 5
}
