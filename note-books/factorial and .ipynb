{
 "cells": [
  {
   "cell_type": "code",
   "execution_count": 1,
   "id": "b73cd14e",
   "metadata": {},
   "outputs": [],
   "source": [
    "import math"
   ]
  },
  {
   "cell_type": "code",
   "execution_count": 9,
   "id": "eb09f8d3",
   "metadata": {},
   "outputs": [],
   "source": [
    "def fact_orial():\n",
    "    \n",
    "    while num.isdigit()== False :\n",
    "        \n",
    "        \n",
    "        num = int (input( 'Enter a number: '))    \n",
    "        print ('Please enter a Number like 2 or 7.')\n",
    "        return math.factorial(num)\n",
    "        \n",
    "    print (f'Factorial of {num} is {math.factorial(num)}')"
   ]
  },
  {
   "cell_type": "code",
   "execution_count": 10,
   "id": "91d9e5f9",
   "metadata": {},
   "outputs": [
    {
     "ename": "UnboundLocalError",
     "evalue": "local variable 'num' referenced before assignment",
     "output_type": "error",
     "traceback": [
      "\u001b[0;31m---------------------------------------------------------------------------\u001b[0m",
      "\u001b[0;31mUnboundLocalError\u001b[0m                         Traceback (most recent call last)",
      "Input \u001b[0;32mIn [10]\u001b[0m, in \u001b[0;36m<cell line: 1>\u001b[0;34m()\u001b[0m\n\u001b[0;32m----> 1\u001b[0m \u001b[43mfactorial\u001b[49m\u001b[43m(\u001b[49m\u001b[43m)\u001b[49m\n",
      "Input \u001b[0;32mIn [9]\u001b[0m, in \u001b[0;36mfactorial\u001b[0;34m()\u001b[0m\n\u001b[1;32m      1\u001b[0m \u001b[38;5;28;01mdef\u001b[39;00m \u001b[38;5;21mfactorial\u001b[39m():\n\u001b[0;32m----> 3\u001b[0m     \u001b[38;5;28;01mwhile\u001b[39;00m \u001b[43mnum\u001b[49m\u001b[38;5;241m.\u001b[39misdigit()\u001b[38;5;241m==\u001b[39m \u001b[38;5;28;01mFalse\u001b[39;00m :\n\u001b[1;32m      6\u001b[0m         num \u001b[38;5;241m=\u001b[39m \u001b[38;5;28mint\u001b[39m (\u001b[38;5;28minput\u001b[39m( \u001b[38;5;124m'\u001b[39m\u001b[38;5;124mEnter a number: \u001b[39m\u001b[38;5;124m'\u001b[39m))    \n\u001b[1;32m      7\u001b[0m         \u001b[38;5;28mprint\u001b[39m (\u001b[38;5;124m'\u001b[39m\u001b[38;5;124mPlease enter a Number like 2 or 7.\u001b[39m\u001b[38;5;124m'\u001b[39m)\n",
      "\u001b[0;31mUnboundLocalError\u001b[0m: local variable 'num' referenced before assignment"
     ]
    }
   ],
   "source": [
    "fact_orial()"
   ]
  },
  {
   "cell_type": "code",
   "execution_count": 17,
   "id": "8dabb363",
   "metadata": {},
   "outputs": [],
   "source": [
    "def fact_orial():\n",
    "    user_input = 'wrong'\n",
    "    while user_input.isdigit() == False:\n",
    "        \n",
    "        user_input = int(input('Enter a number from 1 to 100: '))\n",
    "        \n",
    "        if user_input >=1 and user_input<=100 :\n",
    "            result = math.factorial(user_input)\n",
    "            return result\n",
    "       \n",
    "     \n",
    "        "
   ]
  },
  {
   "cell_type": "code",
   "execution_count": 24,
   "id": "90e06d18",
   "metadata": {},
   "outputs": [
    {
     "name": "stdout",
     "output_type": "stream",
     "text": [
      "Enter a number from 1 to 100: 7\n"
     ]
    },
    {
     "data": {
      "text/plain": [
       "5040"
      ]
     },
     "execution_count": 24,
     "metadata": {},
     "output_type": "execute_result"
    }
   ],
   "source": [
    "fact_orial()\n",
    "\n"
   ]
  },
  {
   "cell_type": "code",
   "execution_count": null,
   "id": "b726840c",
   "metadata": {},
   "outputs": [],
   "source": []
  },
  {
   "cell_type": "code",
   "execution_count": null,
   "id": "950452c6",
   "metadata": {},
   "outputs": [],
   "source": []
  }
 ],
 "metadata": {
  "kernelspec": {
   "display_name": "Python 3 (ipykernel)",
   "language": "python",
   "name": "python3"
  },
  "language_info": {
   "codemirror_mode": {
    "name": "ipython",
    "version": 3
   },
   "file_extension": ".py",
   "mimetype": "text/x-python",
   "name": "python",
   "nbconvert_exporter": "python",
   "pygments_lexer": "ipython3",
   "version": "3.9.12"
  }
 },
 "nbformat": 4,
 "nbformat_minor": 5
}
