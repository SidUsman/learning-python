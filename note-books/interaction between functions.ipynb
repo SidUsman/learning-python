{
 "cells": [
  {
   "cell_type": "code",
   "execution_count": 1,
   "id": "e30ece8b",
   "metadata": {},
   "outputs": [],
   "source": [
    "#interaction of different function by using result of one function as input for second\n"
   ]
  },
  {
   "cell_type": "code",
   "execution_count": 2,
   "id": "341d9c04",
   "metadata": {},
   "outputs": [],
   "source": [
    "#make a guessing game "
   ]
  },
  {
   "cell_type": "code",
   "execution_count": 3,
   "id": "edd3f30d",
   "metadata": {},
   "outputs": [],
   "source": [
    "#make a list \n",
    "#shuffle the list \n",
    "#ask for guess input\n",
    "#compare both and give result \n",
    "#build logic call"
   ]
  },
  {
   "cell_type": "code",
   "execution_count": 4,
   "id": "042f196c",
   "metadata": {},
   "outputs": [],
   "source": [
    "mylist = ['','o','']"
   ]
  },
  {
   "cell_type": "code",
   "execution_count": 47,
   "id": "903d0b44",
   "metadata": {},
   "outputs": [],
   "source": [
    "from random import shuffle # imported shuffle func from random library\n",
    "    \n",
    "def shuffle_list(mylist):\n",
    "    shuffle(mylist)\n",
    "    return mylist\n"
   ]
  },
  {
   "cell_type": "code",
   "execution_count": 49,
   "id": "10b69d46",
   "metadata": {},
   "outputs": [
    {
     "name": "stdout",
     "output_type": "stream",
     "text": [
      "Pick a number :0,1,21\n",
      "1\n"
     ]
    }
   ],
   "source": [
    "def user_guess():\n",
    "    guess = ''\n",
    "    while guess not in ['0','1','2']:\n",
    "        guess = input('Pick a number :0,1,2')\n",
    "    return int(guess)\n",
    "guess1=user_guess()\n",
    "print(guess1)"
   ]
  },
  {
   "cell_type": "code",
   "execution_count": 50,
   "id": "39c1b807",
   "metadata": {},
   "outputs": [],
   "source": [
    "def compare_guess(mylist,guess):\n",
    "    if mylist[guess] == 'o':\n",
    "        print ('correct')\n",
    "    else :\n",
    "        print ('wrong guess')\n",
    "        print (mylist)"
   ]
  },
  {
   "cell_type": "code",
   "execution_count": 51,
   "id": "5c36eb9e",
   "metadata": {},
   "outputs": [
    {
     "name": "stdout",
     "output_type": "stream",
     "text": [
      "Pick a number :0,1,22\n",
      "correct\n"
     ]
    }
   ],
   "source": [
    "#list\n",
    "mylist = ['','o','']\n",
    "                    \n",
    "#shuffleing the list\n",
    "shuffledlist = shuffle_list(mylist)\n",
    "          \n",
    "#user guess\n",
    "# when calling a function func_name()\n",
    "guess = user_guess()\n",
    "          \n",
    "          \n",
    "#compare list and input\n",
    "    \n",
    "compare_guess(shuffledlist,guess)"
   ]
  },
  {
   "cell_type": "code",
   "execution_count": null,
   "id": "17944aac",
   "metadata": {},
   "outputs": [],
   "source": []
  }
 ],
 "metadata": {
  "kernelspec": {
   "display_name": "Python 3 (ipykernel)",
   "language": "python",
   "name": "python3"
  },
  "language_info": {
   "codemirror_mode": {
    "name": "ipython",
    "version": 3
   },
   "file_extension": ".py",
   "mimetype": "text/x-python",
   "name": "python",
   "nbconvert_exporter": "python",
   "pygments_lexer": "ipython3",
   "version": "3.9.12"
  }
 },
 "nbformat": 4,
 "nbformat_minor": 5
}
