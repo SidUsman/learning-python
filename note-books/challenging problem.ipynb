{
 "cells": [
  {
   "cell_type": "code",
   "execution_count": 1,
   "id": "dc61e993",
   "metadata": {},
   "outputs": [],
   "source": [
    "#spy game \n",
    "# return true if there is 0 0 7 in arrary of numbers\n"
   ]
  },
  {
   "cell_type": "code",
   "execution_count": 2,
   "id": "ef5f81b0",
   "metadata": {},
   "outputs": [],
   "source": [
    "def spy_game (nums):\n",
    "    code = [0,0,7,'x']\n",
    "    #[0,0,7,'x']\n",
    "    #[0,7,'x']\n",
    "    #[7,'x']\n",
    "    #['x'] length ==1\n",
    "    \n",
    "    for num in nums:\n",
    "        if num == code[0]:\n",
    "            code.pop(0)\n",
    "    return len(code)==1"
   ]
  },
  {
   "cell_type": "code",
   "execution_count": 3,
   "id": "21247d7f",
   "metadata": {},
   "outputs": [
    {
     "data": {
      "text/plain": [
       "True"
      ]
     },
     "execution_count": 3,
     "metadata": {},
     "output_type": "execute_result"
    }
   ],
   "source": [
    "spy_game([1,2,3,3,0,1,0,7,3,3,8])"
   ]
  },
  {
   "cell_type": "code",
   "execution_count": null,
   "id": "7a914a89",
   "metadata": {},
   "outputs": [],
   "source": []
  }
 ],
 "metadata": {
  "kernelspec": {
   "display_name": "Python 3 (ipykernel)",
   "language": "python",
   "name": "python3"
  },
  "language_info": {
   "codemirror_mode": {
    "name": "ipython",
    "version": 3
   },
   "file_extension": ".py",
   "mimetype": "text/x-python",
   "name": "python",
   "nbconvert_exporter": "python",
   "pygments_lexer": "ipython3",
   "version": "3.9.12"
  }
 },
 "nbformat": 4,
 "nbformat_minor": 5
}
