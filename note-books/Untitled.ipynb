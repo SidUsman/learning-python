{
 "cells": [
  {
   "cell_type": "code",
   "execution_count": 2,
   "id": "e2750971",
   "metadata": {},
   "outputs": [
    {
     "data": {
      "text/plain": [
       "True"
      ]
     },
     "execution_count": 2,
     "metadata": {},
     "output_type": "execute_result"
    }
   ],
   "source": [
    "1==1"
   ]
  },
  {
   "cell_type": "code",
   "execution_count": 3,
   "id": "3f9c285a",
   "metadata": {},
   "outputs": [
    {
     "data": {
      "text/plain": [
       "False"
      ]
     },
     "execution_count": 3,
     "metadata": {},
     "output_type": "execute_result"
    }
   ],
   "source": [
    "1==2"
   ]
  },
  {
   "cell_type": "code",
   "execution_count": 4,
   "id": "25af98c3",
   "metadata": {},
   "outputs": [
    {
     "data": {
      "text/plain": [
       "False"
      ]
     },
     "execution_count": 4,
     "metadata": {},
     "output_type": "execute_result"
    }
   ],
   "source": [
    "100<=1"
   ]
  },
  {
   "cell_type": "code",
   "execution_count": 5,
   "id": "325c129e",
   "metadata": {},
   "outputs": [
    {
     "data": {
      "text/plain": [
       "True"
      ]
     },
     "execution_count": 5,
     "metadata": {},
     "output_type": "execute_result"
    }
   ],
   "source": [
    "1<=100"
   ]
  },
  {
   "cell_type": "code",
   "execution_count": 6,
   "id": "88537bb9",
   "metadata": {},
   "outputs": [
    {
     "data": {
      "text/plain": [
       "True"
      ]
     },
     "execution_count": 6,
     "metadata": {},
     "output_type": "execute_result"
    }
   ],
   "source": [
    "100>=1"
   ]
  },
  {
   "cell_type": "code",
   "execution_count": 7,
   "id": "3e6dca3a",
   "metadata": {},
   "outputs": [
    {
     "data": {
      "text/plain": [
       "True"
      ]
     },
     "execution_count": 7,
     "metadata": {},
     "output_type": "execute_result"
    }
   ],
   "source": [
    "100!=1"
   ]
  },
  {
   "cell_type": "code",
   "execution_count": 8,
   "id": "c6b3ce76",
   "metadata": {},
   "outputs": [
    {
     "data": {
      "text/plain": [
       "False"
      ]
     },
     "execution_count": 8,
     "metadata": {},
     "output_type": "execute_result"
    }
   ],
   "source": [
    "1>=100"
   ]
  },
  {
   "cell_type": "code",
   "execution_count": 9,
   "id": "88d1e45c",
   "metadata": {},
   "outputs": [
    {
     "data": {
      "text/plain": [
       "True"
      ]
     },
     "execution_count": 9,
     "metadata": {},
     "output_type": "execute_result"
    }
   ],
   "source": [
    "1==1 and 10==10"
   ]
  },
  {
   "cell_type": "code",
   "execution_count": 10,
   "id": "b138877d",
   "metadata": {},
   "outputs": [
    {
     "data": {
      "text/plain": [
       "False"
      ]
     },
     "execution_count": 10,
     "metadata": {},
     "output_type": "execute_result"
    }
   ],
   "source": [
    "1==1 and 10==1"
   ]
  },
  {
   "cell_type": "code",
   "execution_count": 11,
   "id": "7c83941c",
   "metadata": {},
   "outputs": [
    {
     "data": {
      "text/plain": [
       "True"
      ]
     },
     "execution_count": 11,
     "metadata": {},
     "output_type": "execute_result"
    }
   ],
   "source": [
    "1==1 or 10==1"
   ]
  },
  {
   "cell_type": "code",
   "execution_count": 12,
   "id": "e775e5f6",
   "metadata": {},
   "outputs": [
    {
     "data": {
      "text/plain": [
       "False"
      ]
     },
     "execution_count": 12,
     "metadata": {},
     "output_type": "execute_result"
    }
   ],
   "source": [
    "1==10 or 1==10"
   ]
  },
  {
   "cell_type": "code",
   "execution_count": 13,
   "id": "f71fc3f9",
   "metadata": {},
   "outputs": [
    {
     "data": {
      "text/plain": [
       "True"
      ]
     },
     "execution_count": 13,
     "metadata": {},
     "output_type": "execute_result"
    }
   ],
   "source": [
    "not 1==10"
   ]
  },
  {
   "cell_type": "code",
   "execution_count": 14,
   "id": "116a0b77",
   "metadata": {},
   "outputs": [
    {
     "data": {
      "text/plain": [
       "False"
      ]
     },
     "execution_count": 14,
     "metadata": {},
     "output_type": "execute_result"
    }
   ],
   "source": [
    "not 1==1"
   ]
  },
  {
   "cell_type": "code",
   "execution_count": 15,
   "id": "d08c45e2",
   "metadata": {},
   "outputs": [],
   "source": [
    "#for loop"
   ]
  },
  {
   "cell_type": "code",
   "execution_count": 18,
   "id": "9fa29f94",
   "metadata": {},
   "outputs": [],
   "source": [
    "mylist1=[1,2,3,4,5]"
   ]
  },
  {
   "cell_type": "code",
   "execution_count": 21,
   "id": "36f226ca",
   "metadata": {},
   "outputs": [
    {
     "name": "stdout",
     "output_type": "stream",
     "text": [
      "1\n",
      "2\n",
      "3\n",
      "4\n",
      "5\n"
     ]
    }
   ],
   "source": [
    "\n",
    "for num in mylist1:\n",
    "    print(num)"
   ]
  },
  {
   "cell_type": "code",
   "execution_count": 26,
   "id": "a0ddf4f5",
   "metadata": {},
   "outputs": [
    {
     "name": "stdout",
     "output_type": "stream",
     "text": [
      "2\n",
      "4\n"
     ]
    }
   ],
   "source": [
    "#print only even numbers\n",
    "for num in mylist1:\n",
    "    if num%2 ==0:\n",
    "        print (num)"
   ]
  },
  {
   "cell_type": "code",
   "execution_count": 28,
   "id": "253f09ed",
   "metadata": {},
   "outputs": [
    {
     "name": "stdout",
     "output_type": "stream",
     "text": [
      "1\n",
      "3\n",
      "5\n"
     ]
    }
   ],
   "source": [
    "#for odd numbers in list \n",
    "for num in mylist1:\n",
    "    if num%2==1:\n",
    "        print(num)"
   ]
  },
  {
   "cell_type": "code",
   "execution_count": 32,
   "id": "69a6a8e2",
   "metadata": {},
   "outputs": [
    {
     "name": "stdout",
     "output_type": "stream",
     "text": [
      "1\n",
      "3\n",
      "6\n",
      "10\n",
      "15\n"
     ]
    }
   ],
   "source": [
    "#sum of every number in the list \n",
    "list_sum = 0\n",
    "for num in mylist1:\n",
    "    list_sum= list_sum + num \n",
    "    print (list_sum)"
   ]
  },
  {
   "cell_type": "code",
   "execution_count": 33,
   "id": "154ca2e5",
   "metadata": {},
   "outputs": [],
   "source": [
    "#how to get sum total of evey number in the list that is 55?????????"
   ]
  },
  {
   "cell_type": "code",
   "execution_count": 34,
   "id": "055b7041",
   "metadata": {},
   "outputs": [
    {
     "name": "stdout",
     "output_type": "stream",
     "text": [
      "h\n",
      "e\n",
      "l\n",
      "l\n",
      "o\n",
      " \n",
      "t\n",
      "h\n",
      "e\n",
      "r\n",
      "e\n"
     ]
    }
   ],
   "source": [
    "mystring=('hello there')\n",
    "for letter in mystring:\n",
    "    print(letter)"
   ]
  },
  {
   "cell_type": "code",
   "execution_count": 38,
   "id": "40a99834",
   "metadata": {},
   "outputs": [
    {
     "name": "stdout",
     "output_type": "stream",
     "text": [
      "h\n",
      "e\n",
      "l\n",
      "l\n",
      "o\n",
      " \n",
      "t\n",
      "h\n",
      "e\n",
      "r\n",
      "e\n"
     ]
    }
   ],
   "source": [
    "for letter in 'hello there':\n",
    "    print(letter)"
   ]
  },
  {
   "cell_type": "code",
   "execution_count": 42,
   "id": "8fbf7591",
   "metadata": {},
   "outputs": [
    {
     "name": "stdout",
     "output_type": "stream",
     "text": [
      "h\n",
      "e\n",
      "l\n",
      "l\n",
      "o\n",
      " \n",
      "t\n",
      "h\n",
      "e\n",
      "r\n",
      "e\n"
     ]
    }
   ],
   "source": [
    "for _ in 'hello there':\n",
    "    print (_)"
   ]
  },
  {
   "cell_type": "code",
   "execution_count": 44,
   "id": "55bb2134",
   "metadata": {},
   "outputs": [
    {
     "name": "stdout",
     "output_type": "stream",
     "text": [
      "1\n",
      "2\n",
      "3\n",
      "4\n",
      "5\n"
     ]
    }
   ],
   "source": [
    "#tupple unpacking\n",
    "dig=(1,2,3,4,5)\n",
    "for item in dig:\n",
    "    print (item)"
   ]
  },
  {
   "cell_type": "code",
   "execution_count": 46,
   "id": "19fcb342",
   "metadata": {},
   "outputs": [
    {
     "data": {
      "text/plain": [
       "3"
      ]
     },
     "execution_count": 46,
     "metadata": {},
     "output_type": "execute_result"
    }
   ],
   "source": [
    "newlist=[(1,2),(3,4),(5,6)]\n",
    "len(newlist)"
   ]
  },
  {
   "cell_type": "code",
   "execution_count": 47,
   "id": "957257f9",
   "metadata": {},
   "outputs": [
    {
     "name": "stdout",
     "output_type": "stream",
     "text": [
      "(1, 2)\n",
      "(3, 4)\n",
      "(5, 6)\n"
     ]
    }
   ],
   "source": [
    "for item in newlist:\n",
    "    print (item)"
   ]
  },
  {
   "cell_type": "code",
   "execution_count": 48,
   "id": "fd7df2eb",
   "metadata": {},
   "outputs": [
    {
     "name": "stdout",
     "output_type": "stream",
     "text": [
      "1 2\n",
      "3 4\n",
      "5 6\n"
     ]
    }
   ],
   "source": [
    "for x,y in newlist:\n",
    "    print (x,y)"
   ]
  },
  {
   "cell_type": "code",
   "execution_count": 49,
   "id": "9f9c8ea1",
   "metadata": {},
   "outputs": [
    {
     "name": "stdout",
     "output_type": "stream",
     "text": [
      "1\n",
      "3\n",
      "5\n"
     ]
    }
   ],
   "source": [
    "for x,n in newlist:\n",
    "    print (x)"
   ]
  },
  {
   "cell_type": "code",
   "execution_count": 50,
   "id": "070d15f1",
   "metadata": {},
   "outputs": [
    {
     "name": "stdout",
     "output_type": "stream",
     "text": [
      "2\n",
      "4\n",
      "6\n"
     ]
    }
   ],
   "source": [
    "for b,n in newlist :\n",
    "    print (n)"
   ]
  },
  {
   "cell_type": "code",
   "execution_count": 51,
   "id": "260db15d",
   "metadata": {},
   "outputs": [
    {
     "name": "stdout",
     "output_type": "stream",
     "text": [
      "k\n",
      "k2\n",
      "k3\n"
     ]
    }
   ],
   "source": [
    "dic={'k':1,'k2':2,'k3':3}\n",
    "for keys in dic:\n",
    "    print(keys)"
   ]
  },
  {
   "cell_type": "code",
   "execution_count": 54,
   "id": "0bc3bd77",
   "metadata": {},
   "outputs": [
    {
     "ename": "AttributeError",
     "evalue": "'dict' object has no attribute 'item'",
     "output_type": "error",
     "traceback": [
      "\u001b[0;31m---------------------------------------------------------------------------\u001b[0m",
      "\u001b[0;31mAttributeError\u001b[0m                            Traceback (most recent call last)",
      "Input \u001b[0;32mIn [54]\u001b[0m, in \u001b[0;36m<cell line: 1>\u001b[0;34m()\u001b[0m\n\u001b[0;32m----> 1\u001b[0m \u001b[38;5;28;01mfor\u001b[39;00m item \u001b[38;5;129;01min\u001b[39;00m \u001b[43mdic\u001b[49m\u001b[38;5;241;43m.\u001b[39;49m\u001b[43mitem\u001b[49m() :\n\u001b[1;32m      2\u001b[0m     \u001b[38;5;28mprint\u001b[39m(item)\n",
      "\u001b[0;31mAttributeError\u001b[0m: 'dict' object has no attribute 'item'"
     ]
    }
   ],
   "source": [
    "for item in dic.item() :\n",
    "    print(item)"
   ]
  },
  {
   "cell_type": "code",
   "execution_count": 55,
   "id": "c30002ba",
   "metadata": {},
   "outputs": [
    {
     "name": "stdout",
     "output_type": "stream",
     "text": [
      "k\n",
      "k2\n",
      "k3\n"
     ]
    }
   ],
   "source": [
    "for things in dic:\n",
    "    print(things)"
   ]
  },
  {
   "cell_type": "code",
   "execution_count": 56,
   "id": "73e463cc",
   "metadata": {},
   "outputs": [
    {
     "ename": "AttributeError",
     "evalue": "'dict' object has no attribute 'things'",
     "output_type": "error",
     "traceback": [
      "\u001b[0;31m---------------------------------------------------------------------------\u001b[0m",
      "\u001b[0;31mAttributeError\u001b[0m                            Traceback (most recent call last)",
      "Input \u001b[0;32mIn [56]\u001b[0m, in \u001b[0;36m<cell line: 1>\u001b[0;34m()\u001b[0m\n\u001b[0;32m----> 1\u001b[0m \u001b[38;5;28;01mfor\u001b[39;00m things \u001b[38;5;129;01min\u001b[39;00m \u001b[43mdic\u001b[49m\u001b[38;5;241;43m.\u001b[39;49m\u001b[43mthings\u001b[49m() :\n\u001b[1;32m      2\u001b[0m     \u001b[38;5;28mprint\u001b[39m(things)\n",
      "\u001b[0;31mAttributeError\u001b[0m: 'dict' object has no attribute 'things'"
     ]
    }
   ],
   "source": [
    "for things in dic.things() :\n",
    "    print(things)"
   ]
  },
  {
   "cell_type": "code",
   "execution_count": 61,
   "id": "f8062d50",
   "metadata": {},
   "outputs": [
    {
     "name": "stdout",
     "output_type": "stream",
     "text": [
      "key1\n",
      "22\n",
      "key2\n",
      "33\n",
      "key3\n",
      "44\n"
     ]
    }
   ],
   "source": [
    "dicti = {'key1':22,'key2':33,'key3':44}\n",
    "for key,value in dicti.items():\n",
    "    print (key)\n",
    "    print (value)"
   ]
  },
  {
   "cell_type": "code",
   "execution_count": 64,
   "id": "f2a81608",
   "metadata": {},
   "outputs": [
    {
     "name": "stdout",
     "output_type": "stream",
     "text": [
      "22\n",
      "33\n",
      "44\n"
     ]
    }
   ],
   "source": [
    "for values in dicti.values() :\n",
    "    print(values)"
   ]
  },
  {
   "cell_type": "code",
   "execution_count": null,
   "id": "eea7e72d",
   "metadata": {},
   "outputs": [],
   "source": []
  }
 ],
 "metadata": {
  "kernelspec": {
   "display_name": "Python 3 (ipykernel)",
   "language": "python",
   "name": "python3"
  },
  "language_info": {
   "codemirror_mode": {
    "name": "ipython",
    "version": 3
   },
   "file_extension": ".py",
   "mimetype": "text/x-python",
   "name": "python",
   "nbconvert_exporter": "python",
   "pygments_lexer": "ipython3",
   "version": "3.9.12"
  }
 },
 "nbformat": 4,
 "nbformat_minor": 5
}
