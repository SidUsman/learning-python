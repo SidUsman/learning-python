{
 "cells": [
  {
   "cell_type": "code",
   "execution_count": 1,
   "id": "07bd68cf",
   "metadata": {},
   "outputs": [],
   "source": [
    "#OLD MACDONALD : write a functionthat capitalize the first and forth letter of a name"
   ]
  },
  {
   "cell_type": "code",
   "execution_count": 7,
   "id": "53f901ec",
   "metadata": {},
   "outputs": [],
   "source": [
    "def old_macdonald(name):\n",
    "    \n",
    "        firstletter = name[0]\n",
    "        sndpart= name[1:3]\n",
    "        fourthletter = name[3]\n",
    "        lastpart = name[4:]\n",
    "        return firstletter.upper() + sndpart +fourthletter.upper() +lastpart\n",
    "        "
   ]
  },
  {
   "cell_type": "code",
   "execution_count": 8,
   "id": "ef87cab2",
   "metadata": {},
   "outputs": [
    {
     "data": {
      "text/plain": [
       "'SidRa'"
      ]
     },
     "execution_count": 8,
     "metadata": {},
     "output_type": "execute_result"
    }
   ],
   "source": [
    "old_macdonald('sidra')"
   ]
  },
  {
   "cell_type": "code",
   "execution_count": 9,
   "id": "92993355",
   "metadata": {},
   "outputs": [],
   "source": [
    "#capitalize method "
   ]
  },
  {
   "cell_type": "code",
   "execution_count": 12,
   "id": "2b9348fb",
   "metadata": {},
   "outputs": [],
   "source": [
    "def mac_donald(name):\n",
    "    \n",
    "    firsthalf = name[0:3]\n",
    "    secondhalf = name[3:]\n",
    "    \n",
    "    return firsthalf.capitalize() + secondhalf.capitalize()"
   ]
  },
  {
   "cell_type": "code",
   "execution_count": 13,
   "id": "ecf3e63f",
   "metadata": {},
   "outputs": [
    {
     "data": {
      "text/plain": [
       "'SidRa'"
      ]
     },
     "execution_count": 13,
     "metadata": {},
     "output_type": "execute_result"
    }
   ],
   "source": [
    "mac_donald('sidra')"
   ]
  },
  {
   "cell_type": "code",
   "execution_count": 14,
   "id": "88f8ae3b",
   "metadata": {},
   "outputs": [],
   "source": [
    "#MASTER YODA: given a sentence, return a sentence with words reversed"
   ]
  },
  {
   "cell_type": "code",
   "execution_count": 17,
   "id": "4bf88751",
   "metadata": {},
   "outputs": [],
   "source": [
    "def master_yoda(text):\n",
    "    reverse_text = text[::-1]\n",
    "    return reverse_text"
   ]
  },
  {
   "cell_type": "code",
   "execution_count": 18,
   "id": "243b448b",
   "metadata": {},
   "outputs": [
    {
     "data": {
      "text/plain": [
       "'ereh ma i'"
      ]
     },
     "execution_count": 18,
     "metadata": {},
     "output_type": "execute_result"
    }
   ],
   "source": [
    "master_yoda('i am here')"
   ]
  },
  {
   "cell_type": "code",
   "execution_count": 30,
   "id": "5dbb5e4d",
   "metadata": {},
   "outputs": [],
   "source": [
    "def master_yodaa(text):\n",
    "    split_list = text.split()\n",
    "    revers_split_list = split_list[::-1]\n",
    "    return ' '.join(revers_split_list)"
   ]
  },
  {
   "cell_type": "code",
   "execution_count": 31,
   "id": "59326de9",
   "metadata": {},
   "outputs": [
    {
     "data": {
      "text/plain": [
       "'here am i'"
      ]
     },
     "execution_count": 31,
     "metadata": {},
     "output_type": "execute_result"
    }
   ],
   "source": [
    "master_yodaa('i am here')"
   ]
  },
  {
   "cell_type": "markdown",
   "id": "3d6f960f",
   "metadata": {},
   "source": [
    "master_yodaa('sidra')"
   ]
  },
  {
   "cell_type": "code",
   "execution_count": 32,
   "id": "7aaf332c",
   "metadata": {},
   "outputs": [
    {
     "data": {
      "text/plain": [
       "'sidra'"
      ]
     },
     "execution_count": 32,
     "metadata": {},
     "output_type": "execute_result"
    }
   ],
   "source": [
    "master_yodaa('sidra')"
   ]
  },
  {
   "cell_type": "code",
   "execution_count": 33,
   "id": "747dd55c",
   "metadata": {},
   "outputs": [],
   "source": [
    "#to reverse a single word we dont have to split the list \n",
    "#but for a sentence we have to split then reverse it\n"
   ]
  },
  {
   "cell_type": "code",
   "execution_count": 34,
   "id": "c20488ec",
   "metadata": {},
   "outputs": [],
   "source": [
    "#two new fucntion that are .capitalize() and \" \".join"
   ]
  },
  {
   "cell_type": "code",
   "execution_count": null,
   "id": "a9b16440",
   "metadata": {},
   "outputs": [],
   "source": []
  },
  {
   "cell_type": "code",
   "execution_count": 35,
   "id": "37100534",
   "metadata": {},
   "outputs": [],
   "source": [
    "#ther difference between n and 100 or 200 is less than 10 \n",
    "#ALMOST THERE given int n ,return True if n is withing 10 if either 100 or 200"
   ]
  },
  {
   "cell_type": "code",
   "execution_count": 38,
   "id": "b1c5a45b",
   "metadata": {},
   "outputs": [],
   "source": [
    "def almost_there(num):\n",
    "    return (abs(100-num) <= 10) or (abs(200-num) <= 10)"
   ]
  },
  {
   "cell_type": "code",
   "execution_count": 39,
   "id": "4c402f4e",
   "metadata": {},
   "outputs": [
    {
     "data": {
      "text/plain": [
       "False"
      ]
     },
     "execution_count": 39,
     "metadata": {},
     "output_type": "execute_result"
    }
   ],
   "source": [
    "almost_there(88)"
   ]
  },
  {
   "cell_type": "code",
   "execution_count": null,
   "id": "f3bc5483",
   "metadata": {},
   "outputs": [],
   "source": [
    "#abs value function"
   ]
  }
 ],
 "metadata": {
  "kernelspec": {
   "display_name": "Python 3 (ipykernel)",
   "language": "python",
   "name": "python3"
  },
  "language_info": {
   "codemirror_mode": {
    "name": "ipython",
    "version": 3
   },
   "file_extension": ".py",
   "mimetype": "text/x-python",
   "name": "python",
   "nbconvert_exporter": "python",
   "pygments_lexer": "ipython3",
   "version": "3.9.12"
  }
 },
 "nbformat": 4,
 "nbformat_minor": 5
}
