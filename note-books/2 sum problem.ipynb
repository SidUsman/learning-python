{
 "cells": [
  {
   "cell_type": "code",
   "execution_count": 1,
   "id": "5e5a0e36",
   "metadata": {},
   "outputs": [],
   "source": [
    "num_arry = [1,2,3,4,5,6,7,8,9,10]"
   ]
  },
  {
   "cell_type": "code",
   "execution_count": 4,
   "id": "f2fc2cac",
   "metadata": {},
   "outputs": [],
   "source": [
    "def two_sum(arry , target):\n",
    "    for i in arry:\n",
    "        j = target - i\n",
    "        i = target - j\n",
    "        if j in arry:\n",
    "            \n",
    "            if i + j  == target :\n",
    "                print(f'for {target} two_sum is {i},{j}')\n",
    "        "
   ]
  },
  {
   "cell_type": "code",
   "execution_count": 5,
   "id": "6566a48e",
   "metadata": {},
   "outputs": [
    {
     "name": "stdout",
     "output_type": "stream",
     "text": [
      "for 5 two_sum is 1,4\n",
      "for 5 two_sum is 2,3\n",
      "for 5 two_sum is 3,2\n",
      "for 5 two_sum is 4,1\n"
     ]
    }
   ],
   "source": [
    "two_sum(num_arry,5)"
   ]
  },
  {
   "cell_type": "code",
   "execution_count": 6,
   "id": "85b651c2",
   "metadata": {},
   "outputs": [
    {
     "name": "stdout",
     "output_type": "stream",
     "text": [
      "for 9 two_sum is 1,8\n",
      "for 9 two_sum is 2,7\n",
      "for 9 two_sum is 3,6\n",
      "for 9 two_sum is 4,5\n",
      "for 9 two_sum is 5,4\n",
      "for 9 two_sum is 6,3\n",
      "for 9 two_sum is 7,2\n",
      "for 9 two_sum is 8,1\n"
     ]
    }
   ],
   "source": [
    "two_sum(num_arry,9)"
   ]
  },
  {
   "cell_type": "code",
   "execution_count": null,
   "id": "eed2ef7c",
   "metadata": {},
   "outputs": [],
   "source": []
  }
 ],
 "metadata": {
  "kernelspec": {
   "display_name": "Python 3 (ipykernel)",
   "language": "python",
   "name": "python3"
  },
  "language_info": {
   "codemirror_mode": {
    "name": "ipython",
    "version": 3
   },
   "file_extension": ".py",
   "mimetype": "text/x-python",
   "name": "python",
   "nbconvert_exporter": "python",
   "pygments_lexer": "ipython3",
   "version": "3.9.12"
  }
 },
 "nbformat": 4,
 "nbformat_minor": 5
}
