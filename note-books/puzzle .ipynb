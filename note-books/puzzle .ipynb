{
 "cells": [
  {
   "cell_type": "code",
   "execution_count": 4,
   "id": "ab703575",
   "metadata": {},
   "outputs": [],
   "source": [
    "import zipfile"
   ]
  },
  {
   "cell_type": "code",
   "execution_count": 1,
   "id": "dcb155da",
   "metadata": {},
   "outputs": [],
   "source": [
    "import shutil"
   ]
  },
  {
   "cell_type": "code",
   "execution_count": null,
   "id": "19c9d678",
   "metadata": {},
   "outputs": [],
   "source": [
    "dir_to_ext = 12-Advanced Python Modules/08-Advanced-Python-Module-Exercise/unzip_me_for_instructions.zip"
   ]
  },
  {
   "cell_type": "code",
   "execution_count": 5,
   "id": "006b1340",
   "metadata": {},
   "outputs": [
    {
     "ename": "NameError",
     "evalue": "name 'output_unzip1' is not defined",
     "output_type": "error",
     "traceback": [
      "\u001b[0;31m---------------------------------------------------------------------------\u001b[0m",
      "\u001b[0;31mNameError\u001b[0m                                 Traceback (most recent call last)",
      "Input \u001b[0;32mIn [5]\u001b[0m, in \u001b[0;36m<cell line: 1>\u001b[0;34m()\u001b[0m\n\u001b[0;32m----> 1\u001b[0m shutil\u001b[38;5;241m.\u001b[39munpack_archive(\u001b[43moutput_unzip1\u001b[49m,dir_to_ext,\u001b[38;5;28mzip\u001b[39m)\n",
      "\u001b[0;31mNameError\u001b[0m: name 'output_unzip1' is not defined"
     ]
    }
   ],
   "source": [
    "shutil.unpack_archive(output_unzip1,dir_to_ext,zip)"
   ]
  },
  {
   "cell_type": "code",
   "execution_count": 6,
   "id": "73d06c73",
   "metadata": {},
   "outputs": [
    {
     "ename": "FileNotFoundError",
     "evalue": "[Errno 2] No such file or directory: 'unzip_me_for_instructions.zip'",
     "output_type": "error",
     "traceback": [
      "\u001b[0;31m---------------------------------------------------------------------------\u001b[0m",
      "\u001b[0;31mFileNotFoundError\u001b[0m                         Traceback (most recent call last)",
      "Input \u001b[0;32mIn [6]\u001b[0m, in \u001b[0;36m<cell line: 1>\u001b[0;34m()\u001b[0m\n\u001b[0;32m----> 1\u001b[0m zip_obj \u001b[38;5;241m=\u001b[39m \u001b[43mzipfile\u001b[49m\u001b[38;5;241;43m.\u001b[39;49m\u001b[43mZipFile\u001b[49m\u001b[43m(\u001b[49m\u001b[38;5;124;43m'\u001b[39;49m\u001b[38;5;124;43munzip_me_for_instructions.zip\u001b[39;49m\u001b[38;5;124;43m'\u001b[39;49m\u001b[43m,\u001b[49m\u001b[38;5;124;43m'\u001b[39;49m\u001b[38;5;124;43mr\u001b[39;49m\u001b[38;5;124;43m'\u001b[39;49m\u001b[43m)\u001b[49m\n\u001b[1;32m      2\u001b[0m zip_obj\u001b[38;5;241m.\u001b[39mextractall(\u001b[38;5;124m'\u001b[39m\u001b[38;5;124munzip_file\u001b[39m\u001b[38;5;124m'\u001b[39m)\n",
      "File \u001b[0;32m~/opt/anaconda3/lib/python3.9/zipfile.py:1248\u001b[0m, in \u001b[0;36mZipFile.__init__\u001b[0;34m(self, file, mode, compression, allowZip64, compresslevel, strict_timestamps)\u001b[0m\n\u001b[1;32m   1246\u001b[0m \u001b[38;5;28;01mwhile\u001b[39;00m \u001b[38;5;28;01mTrue\u001b[39;00m:\n\u001b[1;32m   1247\u001b[0m     \u001b[38;5;28;01mtry\u001b[39;00m:\n\u001b[0;32m-> 1248\u001b[0m         \u001b[38;5;28mself\u001b[39m\u001b[38;5;241m.\u001b[39mfp \u001b[38;5;241m=\u001b[39m \u001b[43mio\u001b[49m\u001b[38;5;241;43m.\u001b[39;49m\u001b[43mopen\u001b[49m\u001b[43m(\u001b[49m\u001b[43mfile\u001b[49m\u001b[43m,\u001b[49m\u001b[43m \u001b[49m\u001b[43mfilemode\u001b[49m\u001b[43m)\u001b[49m\n\u001b[1;32m   1249\u001b[0m     \u001b[38;5;28;01mexcept\u001b[39;00m \u001b[38;5;167;01mOSError\u001b[39;00m:\n\u001b[1;32m   1250\u001b[0m         \u001b[38;5;28;01mif\u001b[39;00m filemode \u001b[38;5;129;01min\u001b[39;00m modeDict:\n",
      "\u001b[0;31mFileNotFoundError\u001b[0m: [Errno 2] No such file or directory: 'unzip_me_for_instructions.zip'"
     ]
    }
   ],
   "source": [
    "zip_obj = zipfile.ZipFile('unzip_me_for_instructions.zip','r')\n",
    "zip_obj.extractall('unzip_file')"
   ]
  },
  {
   "cell_type": "code",
   "execution_count": 42,
   "id": "c89f5569",
   "metadata": {},
   "outputs": [],
   "source": [
    "import os"
   ]
  },
  {
   "cell_type": "code",
   "execution_count": 43,
   "id": "d082073d",
   "metadata": {},
   "outputs": [
    {
     "data": {
      "text/plain": [
       "'/Users/sidradev/Documents/Python-notebooks/note-books'"
      ]
     },
     "execution_count": 43,
     "metadata": {},
     "output_type": "execute_result"
    }
   ],
   "source": [
    "os.getcwd()"
   ]
  },
  {
   "cell_type": "code",
   "execution_count": 44,
   "id": "8486d3bb",
   "metadata": {},
   "outputs": [],
   "source": [
    "dir_one = '/Users/sidradev/Documents/Python-notebooks/note-books/unzip_me_for_instructions.zip'"
   ]
  },
  {
   "cell_type": "code",
   "execution_count": 47,
   "id": "f1838ccc",
   "metadata": {},
   "outputs": [
    {
     "ename": "KeyError",
     "evalue": "\"There is no item named 'extracted_content' in the archive\"",
     "output_type": "error",
     "traceback": [
      "\u001b[0;31m---------------------------------------------------------------------------\u001b[0m",
      "\u001b[0;31mKeyError\u001b[0m                                  Traceback (most recent call last)",
      "Input \u001b[0;32mIn [47]\u001b[0m, in \u001b[0;36m<cell line: 2>\u001b[0;34m()\u001b[0m\n\u001b[1;32m      1\u001b[0m zip_object \u001b[38;5;241m=\u001b[39m zipfile\u001b[38;5;241m.\u001b[39mZipFile(\u001b[38;5;124m'\u001b[39m\u001b[38;5;124m/Users/sidradev/Documents/Python-notebooks/note-books/unzip_me_for_instructions.zip\u001b[39m\u001b[38;5;124m'\u001b[39m,\u001b[38;5;124m'\u001b[39m\u001b[38;5;124mr\u001b[39m\u001b[38;5;124m'\u001b[39m)\n\u001b[0;32m----> 2\u001b[0m \u001b[43mzip_object\u001b[49m\u001b[38;5;241;43m.\u001b[39;49m\u001b[43mextract\u001b[49m\u001b[43m(\u001b[49m\u001b[38;5;124;43m'\u001b[39;49m\u001b[38;5;124;43mextracted_content\u001b[39;49m\u001b[38;5;124;43m'\u001b[39;49m\u001b[43m)\u001b[49m\n",
      "File \u001b[0;32m~/opt/anaconda3/lib/python3.9/zipfile.py:1625\u001b[0m, in \u001b[0;36mZipFile.extract\u001b[0;34m(self, member, path, pwd)\u001b[0m\n\u001b[1;32m   1622\u001b[0m \u001b[38;5;28;01melse\u001b[39;00m:\n\u001b[1;32m   1623\u001b[0m     path \u001b[38;5;241m=\u001b[39m os\u001b[38;5;241m.\u001b[39mfspath(path)\n\u001b[0;32m-> 1625\u001b[0m \u001b[38;5;28;01mreturn\u001b[39;00m \u001b[38;5;28;43mself\u001b[39;49m\u001b[38;5;241;43m.\u001b[39;49m\u001b[43m_extract_member\u001b[49m\u001b[43m(\u001b[49m\u001b[43mmember\u001b[49m\u001b[43m,\u001b[49m\u001b[43m \u001b[49m\u001b[43mpath\u001b[49m\u001b[43m,\u001b[49m\u001b[43m \u001b[49m\u001b[43mpwd\u001b[49m\u001b[43m)\u001b[49m\n",
      "File \u001b[0;32m~/opt/anaconda3/lib/python3.9/zipfile.py:1664\u001b[0m, in \u001b[0;36mZipFile._extract_member\u001b[0;34m(self, member, targetpath, pwd)\u001b[0m\n\u001b[1;32m   1660\u001b[0m \u001b[38;5;124;03m\"\"\"Extract the ZipInfo object 'member' to a physical\u001b[39;00m\n\u001b[1;32m   1661\u001b[0m \u001b[38;5;124;03m   file on the path targetpath.\u001b[39;00m\n\u001b[1;32m   1662\u001b[0m \u001b[38;5;124;03m\"\"\"\u001b[39;00m\n\u001b[1;32m   1663\u001b[0m \u001b[38;5;28;01mif\u001b[39;00m \u001b[38;5;129;01mnot\u001b[39;00m \u001b[38;5;28misinstance\u001b[39m(member, ZipInfo):\n\u001b[0;32m-> 1664\u001b[0m     member \u001b[38;5;241m=\u001b[39m \u001b[38;5;28;43mself\u001b[39;49m\u001b[38;5;241;43m.\u001b[39;49m\u001b[43mgetinfo\u001b[49m\u001b[43m(\u001b[49m\u001b[43mmember\u001b[49m\u001b[43m)\u001b[49m\n\u001b[1;32m   1666\u001b[0m \u001b[38;5;66;03m# build the destination pathname, replacing\u001b[39;00m\n\u001b[1;32m   1667\u001b[0m \u001b[38;5;66;03m# forward slashes to platform specific separators.\u001b[39;00m\n\u001b[1;32m   1668\u001b[0m arcname \u001b[38;5;241m=\u001b[39m member\u001b[38;5;241m.\u001b[39mfilename\u001b[38;5;241m.\u001b[39mreplace(\u001b[38;5;124m'\u001b[39m\u001b[38;5;124m/\u001b[39m\u001b[38;5;124m'\u001b[39m, os\u001b[38;5;241m.\u001b[39mpath\u001b[38;5;241m.\u001b[39msep)\n",
      "File \u001b[0;32m~/opt/anaconda3/lib/python3.9/zipfile.py:1438\u001b[0m, in \u001b[0;36mZipFile.getinfo\u001b[0;34m(self, name)\u001b[0m\n\u001b[1;32m   1436\u001b[0m info \u001b[38;5;241m=\u001b[39m \u001b[38;5;28mself\u001b[39m\u001b[38;5;241m.\u001b[39mNameToInfo\u001b[38;5;241m.\u001b[39mget(name)\n\u001b[1;32m   1437\u001b[0m \u001b[38;5;28;01mif\u001b[39;00m info \u001b[38;5;129;01mis\u001b[39;00m \u001b[38;5;28;01mNone\u001b[39;00m:\n\u001b[0;32m-> 1438\u001b[0m     \u001b[38;5;28;01mraise\u001b[39;00m \u001b[38;5;167;01mKeyError\u001b[39;00m(\n\u001b[1;32m   1439\u001b[0m         \u001b[38;5;124m'\u001b[39m\u001b[38;5;124mThere is no item named \u001b[39m\u001b[38;5;132;01m%r\u001b[39;00m\u001b[38;5;124m in the archive\u001b[39m\u001b[38;5;124m'\u001b[39m \u001b[38;5;241m%\u001b[39m name)\n\u001b[1;32m   1441\u001b[0m \u001b[38;5;28;01mreturn\u001b[39;00m info\n",
      "\u001b[0;31mKeyError\u001b[0m: \"There is no item named 'extracted_content' in the archive\""
     ]
    }
   ],
   "source": [
    "zip_object = zipfile.ZipFile('/Users/sidradev/Documents/Python-notebooks/note-books/unzip_me_for_instructions.zip','r')\n",
    "zip_object.extract('extracted_content')"
   ]
  },
  {
   "cell_type": "code",
   "execution_count": 46,
   "id": "f8569fc0",
   "metadata": {},
   "outputs": [],
   "source": [
    "f = open('new_file.txt','w+')\n",
    "f.write('some text here.')\n",
    "f.close()"
   ]
  },
  {
   "cell_type": "code",
   "execution_count": 27,
   "id": "6532de09",
   "metadata": {},
   "outputs": [],
   "source": [
    "f = open('new_file2.txt','w+')\n",
    "f.write('second text')\n",
    "f.close()"
   ]
  },
  {
   "cell_type": "code",
   "execution_count": 28,
   "id": "4aefba8b",
   "metadata": {},
   "outputs": [],
   "source": [
    "zip_foldtry = zipfile.ZipFile('zip_foldtry.zip','w')\n",
    "zip_foldtry.write('new_file.txt',compress_type=zipfile.ZIP_DEFLATED)\n",
    "zip_foldtry.write('new_file2.txt',compress_type=zipfile.ZIP_DEFLATED)\n",
    "zip_foldtry.close()"
   ]
  },
  {
   "cell_type": "code",
   "execution_count": 29,
   "id": "fd5bf0d9",
   "metadata": {},
   "outputs": [
    {
     "data": {
      "text/plain": [
       "'/Users/sidradev/Documents/Python-notebooks/note-books'"
      ]
     },
     "execution_count": 29,
     "metadata": {},
     "output_type": "execute_result"
    }
   ],
   "source": [
    "os.getcwd()"
   ]
  },
  {
   "cell_type": "code",
   "execution_count": 40,
   "id": "88d1fc68",
   "metadata": {},
   "outputs": [],
   "source": [
    "ziped_file = zipfile.ZipFile('zip_foldtry.zip','r')\n",
    "ziped_file.extractall('ext_file')"
   ]
  },
  {
   "cell_type": "code",
   "execution_count": null,
   "id": "ed4dbc94",
   "metadata": {},
   "outputs": [],
   "source": []
  },
  {
   "cell_type": "code",
   "execution_count": 48,
   "id": "9f562e01",
   "metadata": {},
   "outputs": [],
   "source": [
    "open_this = zipfile.ZipFile('unzip_me_for_instructions.zip','r')\n",
    "open_this.extractall('ext_file')"
   ]
  },
  {
   "cell_type": "code",
   "execution_count": 94,
   "id": "39a680d3",
   "metadata": {},
   "outputs": [],
   "source": [
    "import re"
   ]
  },
  {
   "cell_type": "code",
   "execution_count": 95,
   "id": "17f09f72",
   "metadata": {},
   "outputs": [],
   "source": [
    "patteren1 = re.compile(r'(\\d{3})-(\\d{3})-(\\d{4})')"
   ]
  },
  {
   "cell_type": "code",
   "execution_count": 96,
   "id": "985a7e0a",
   "metadata": {},
   "outputs": [],
   "source": [
    "pattern = r'\\d{3}-\\d{3}-\\d{4}'"
   ]
  },
  {
   "cell_type": "code",
   "execution_count": 103,
   "id": "effe22df",
   "metadata": {},
   "outputs": [],
   "source": [
    "def search(file,pattern=r'\\d{3}-\\d{3}-\\d{4}'):\n",
    "    f=open(file,'r')\n",
    "    text=f.read()\n",
    "    \n",
    "    if re.search(pattern,text):\n",
    "        return re.search(pattern,text)\n",
    "    else:\n",
    "        return ''\n",
    "    \n"
   ]
  },
  {
   "cell_type": "code",
   "execution_count": 104,
   "id": "b6dab760",
   "metadata": {},
   "outputs": [],
   "source": [
    "result = []\n"
   ]
  },
  {
   "cell_type": "code",
   "execution_count": 105,
   "id": "99b8a8ca",
   "metadata": {},
   "outputs": [
    {
     "data": {
      "text/plain": [
       "'/Users/sidradev/Documents/Python-notebooks/note-books'"
      ]
     },
     "execution_count": 105,
     "metadata": {},
     "output_type": "execute_result"
    }
   ],
   "source": [
    "os.getcwd()"
   ]
  },
  {
   "cell_type": "code",
   "execution_count": 106,
   "id": "e8282534",
   "metadata": {},
   "outputs": [],
   "source": [
    "for folder,subfolder,file in os.walk(os.getcwd()+'/extracted_content'):\n",
    "    for f in file:\n",
    "        result.append(search(folder+'/'+f))"
   ]
  },
  {
   "cell_type": "code",
   "execution_count": 107,
   "id": "b05b35be",
   "metadata": {},
   "outputs": [],
   "source": [
    "#pwd+'/extracted_content'"
   ]
  },
  {
   "cell_type": "code",
   "execution_count": 108,
   "id": "d793594a",
   "metadata": {},
   "outputs": [
    {
     "name": "stdout",
     "output_type": "stream",
     "text": [
      "719-266-2837\n"
     ]
    }
   ],
   "source": [
    "for r in result :\n",
    "    if r != '':\n",
    "        print(r.group())\n",
    "    "
   ]
  },
  {
   "cell_type": "code",
   "execution_count": null,
   "id": "ceba0d3b",
   "metadata": {},
   "outputs": [],
   "source": []
  }
 ],
 "metadata": {
  "kernelspec": {
   "display_name": "Python 3 (ipykernel)",
   "language": "python",
   "name": "python3"
  },
  "language_info": {
   "codemirror_mode": {
    "name": "ipython",
    "version": 3
   },
   "file_extension": ".py",
   "mimetype": "text/x-python",
   "name": "python",
   "nbconvert_exporter": "python",
   "pygments_lexer": "ipython3",
   "version": "3.9.12"
  }
 },
 "nbformat": 4,
 "nbformat_minor": 5
}
