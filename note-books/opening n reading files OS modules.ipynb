{
 "cells": [
  {
   "cell_type": "code",
   "execution_count": 1,
   "id": "896491ca",
   "metadata": {},
   "outputs": [
    {
     "data": {
      "text/plain": [
       "'/Users/sidradev/Documents/Python-notebooks/note-books'"
      ]
     },
     "execution_count": 1,
     "metadata": {},
     "output_type": "execute_result"
    }
   ],
   "source": [
    "pwd"
   ]
  },
  {
   "cell_type": "code",
   "execution_count": 2,
   "id": "21cd7dd7",
   "metadata": {},
   "outputs": [],
   "source": [
    "f = open('practice.txt','w+')\n"
   ]
  },
  {
   "cell_type": "code",
   "execution_count": 3,
   "id": "3e6f7746",
   "metadata": {},
   "outputs": [],
   "source": [
    "f.write('text')\n",
    "f.close()"
   ]
  },
  {
   "cell_type": "code",
   "execution_count": 4,
   "id": "e65eeb03",
   "metadata": {},
   "outputs": [],
   "source": [
    "import os"
   ]
  },
  {
   "cell_type": "code",
   "execution_count": 6,
   "id": "6dff5ca7",
   "metadata": {},
   "outputs": [
    {
     "data": {
      "text/plain": [
       "'/Users/sidradev/Documents/Python-notebooks/note-books'"
      ]
     },
     "execution_count": 6,
     "metadata": {},
     "output_type": "execute_result"
    }
   ],
   "source": [
    "os.getcwd()"
   ]
  },
  {
   "cell_type": "code",
   "execution_count": 7,
   "id": "51b74a1c",
   "metadata": {},
   "outputs": [
    {
     "data": {
      "text/plain": [
       "'/Users/sidradev/Documents/Python-notebooks/note-books'"
      ]
     },
     "execution_count": 7,
     "metadata": {},
     "output_type": "execute_result"
    }
   ],
   "source": [
    "os.getcwd()"
   ]
  },
  {
   "cell_type": "code",
   "execution_count": 8,
   "id": "056e3388",
   "metadata": {},
   "outputs": [
    {
     "data": {
      "text/plain": [
       "['Untitled1.ipynb',\n",
       " 'while loop.ipynb',\n",
       " 'game-test.ipynb',\n",
       " 'practice 3.ipynb',\n",
       " 'Untitled3.ipynb',\n",
       " 'Untitled.ipynb',\n",
       " 'generators.ipynb',\n",
       " 'task by usman.ipynb',\n",
       " 'Untitled4.ipynb',\n",
       " 'exercise level 1.ipynb',\n",
       " 'file.txt practice.ipynb',\n",
       " 'lambda expression ,map , filter.ipynb',\n",
       " 'practice.txt',\n",
       " 'usefull operators.ipynb',\n",
       " 'practice 2.ipynb',\n",
       " 'learning-2022-09-15.ipynb',\n",
       " 'interaction between functions.ipynb',\n",
       " 'challenging problem.ipynb',\n",
       " 'Untitled2.ipynb',\n",
       " 'nested statments and scope.ipynb',\n",
       " 'learning-python-23-sep-22-fri.ipynb',\n",
       " 'functions.ipynb',\n",
       " 'Object oriented Programming.ipynb',\n",
       " 'level2.ipynb',\n",
       " 'opening n reading files OS modules.ipynb',\n",
       " '.ipynb_checkpoints',\n",
       " 'practice page for python .ipynb',\n",
       " 'exercise .ipynb',\n",
       " 'project-try2.ipynb']"
      ]
     },
     "execution_count": 8,
     "metadata": {},
     "output_type": "execute_result"
    }
   ],
   "source": [
    "os.listdir() #current working dir"
   ]
  },
  {
   "cell_type": "code",
   "execution_count": 9,
   "id": "63960d92",
   "metadata": {},
   "outputs": [
    {
     "data": {
      "text/plain": [
       "['Oxford Handbook of Obstretics & Gyneacology 3rd Ed (DocToon.Page).pdf',\n",
       " '.DS_Store',\n",
       " '.localized',\n",
       " 'Gynaecology by Ten Teachers, 20th Edition Volume 1 (Bickerstaff, Helen Kenny, Louise Clare) (z-lib.org).pdf',\n",
       " 'Python-notebooks',\n",
       " '2021 Complete Python Bootcamp From Zero to Hero in Python']"
      ]
     },
     "execution_count": 9,
     "metadata": {},
     "output_type": "execute_result"
    }
   ],
   "source": [
    "os.listdir('/Users/sidradev/Documents')"
   ]
  },
  {
   "cell_type": "code",
   "execution_count": 10,
   "id": "079e4b55",
   "metadata": {},
   "outputs": [],
   "source": [
    "import shutil"
   ]
  },
  {
   "cell_type": "code",
   "execution_count": 11,
   "id": "fd24ae0f",
   "metadata": {},
   "outputs": [
    {
     "data": {
      "text/plain": [
       "'/Users/sidradev/Documents/practice.txt'"
      ]
     },
     "execution_count": 11,
     "metadata": {},
     "output_type": "execute_result"
    }
   ],
   "source": [
    "shutil.move('practice.txt','/Users/sidradev/Documents')"
   ]
  },
  {
   "cell_type": "code",
   "execution_count": 12,
   "id": "19cf1588",
   "metadata": {},
   "outputs": [
    {
     "data": {
      "text/plain": [
       "['Untitled1.ipynb',\n",
       " 'while loop.ipynb',\n",
       " 'game-test.ipynb',\n",
       " 'practice 3.ipynb',\n",
       " 'Untitled3.ipynb',\n",
       " 'Untitled.ipynb',\n",
       " 'generators.ipynb',\n",
       " 'task by usman.ipynb',\n",
       " 'Untitled4.ipynb',\n",
       " 'exercise level 1.ipynb',\n",
       " 'file.txt practice.ipynb',\n",
       " 'lambda expression ,map , filter.ipynb',\n",
       " 'usefull operators.ipynb',\n",
       " 'practice 2.ipynb',\n",
       " 'learning-2022-09-15.ipynb',\n",
       " 'interaction between functions.ipynb',\n",
       " 'challenging problem.ipynb',\n",
       " 'Untitled2.ipynb',\n",
       " 'nested statments and scope.ipynb',\n",
       " 'learning-python-23-sep-22-fri.ipynb',\n",
       " 'functions.ipynb',\n",
       " 'Object oriented Programming.ipynb',\n",
       " 'level2.ipynb',\n",
       " 'opening n reading files OS modules.ipynb',\n",
       " '.ipynb_checkpoints',\n",
       " 'practice page for python .ipynb',\n",
       " 'exercise .ipynb',\n",
       " 'project-try2.ipynb']"
      ]
     },
     "execution_count": 12,
     "metadata": {},
     "output_type": "execute_result"
    }
   ],
   "source": [
    "os.listdir()"
   ]
  },
  {
   "cell_type": "code",
   "execution_count": 14,
   "id": "a17f23d9",
   "metadata": {},
   "outputs": [
    {
     "data": {
      "text/plain": [
       "['Oxford Handbook of Obstretics & Gyneacology 3rd Ed (DocToon.Page).pdf',\n",
       " '.DS_Store',\n",
       " '.localized',\n",
       " 'Gynaecology by Ten Teachers, 20th Edition Volume 1 (Bickerstaff, Helen Kenny, Louise Clare) (z-lib.org).pdf',\n",
       " 'practice.txt',\n",
       " 'Python-notebooks',\n",
       " '2021 Complete Python Bootcamp From Zero to Hero in Python']"
      ]
     },
     "execution_count": 14,
     "metadata": {},
     "output_type": "execute_result"
    }
   ],
   "source": [
    "os.listdir('/Users/sidradev/Documents')"
   ]
  },
  {
   "cell_type": "code",
   "execution_count": 16,
   "id": "65991746",
   "metadata": {},
   "outputs": [
    {
     "data": {
      "text/plain": [
       "'/Users/sidradev/Documents/Python-notebooks/note-books'"
      ]
     },
     "execution_count": 16,
     "metadata": {},
     "output_type": "execute_result"
    }
   ],
   "source": [
    "os.getcwd()"
   ]
  },
  {
   "cell_type": "code",
   "execution_count": 23,
   "id": "8ee191f1",
   "metadata": {},
   "outputs": [
    {
     "name": "stdout",
     "output_type": "stream",
     "text": [
      "CURRENTLY LOOKING AT : + /Users/sidradev/Documents/Python-notebooks/note-books\n",
      "\n",
      "\n",
      "SUB FOLDERS ARE: \n",
      "SubFoldr:.ipynb_checkpoints\n",
      "\n",
      "\n",
      "THE FILES ARE:\n",
      "File: Untitled1.ipynb\n",
      "File: while loop.ipynb\n",
      "File: game-test.ipynb\n",
      "File: practice 3.ipynb\n",
      "File: Untitled3.ipynb\n",
      "File: Untitled.ipynb\n",
      "File: generators.ipynb\n",
      "File: task by usman.ipynb\n",
      "File: Untitled4.ipynb\n",
      "File: exercise level 1.ipynb\n",
      "File: file.txt practice.ipynb\n",
      "File: lambda expression ,map , filter.ipynb\n",
      "File: usefull operators.ipynb\n",
      "File: practice 2.ipynb\n",
      "File: learning-2022-09-15.ipynb\n",
      "File: interaction between functions.ipynb\n",
      "File: challenging problem.ipynb\n",
      "File: Untitled2.ipynb\n",
      "File: nested statments and scope.ipynb\n",
      "File: learning-python-23-sep-22-fri.ipynb\n",
      "File: functions.ipynb\n",
      "File: Object oriented Programming.ipynb\n",
      "File: level2.ipynb\n",
      "File: opening n reading files OS modules.ipynb\n",
      "File: practice page for python .ipynb\n",
      "File: exercise .ipynb\n",
      "File: project-try2.ipynb\n",
      "CURRENTLY LOOKING AT : + /Users/sidradev/Documents/Python-notebooks/note-books/.ipynb_checkpoints\n",
      "\n",
      "\n",
      "SUB FOLDERS ARE: \n",
      "\n",
      "\n",
      "THE FILES ARE:\n",
      "File: opening n reading files OS modules-checkpoint.ipynb\n",
      "File: generators-checkpoint.ipynb\n"
     ]
    }
   ],
   "source": [
    "for folder,sub_folders,files in os.walk(os.getcwd()):\n",
    "    print (f'CURRENTLY LOOKING AT : + {folder}')\n",
    "    print('\\n')\n",
    "    print('SUB FOLDERS ARE: ')\n",
    "    for sub_fold in sub_folders:\n",
    "            print ('SubFoldr:'+ sub_fold)\n",
    "    print('\\n')\n",
    "    print('THE FILES ARE:')\n",
    "    for f in files:\n",
    "        print('File: '+f)\n"
   ]
  },
  {
   "cell_type": "code",
   "execution_count": null,
   "id": "f93263ed",
   "metadata": {},
   "outputs": [],
   "source": []
  },
  {
   "cell_type": "code",
   "execution_count": null,
   "id": "5ca1fd15",
   "metadata": {},
   "outputs": [],
   "source": []
  }
 ],
 "metadata": {
  "kernelspec": {
   "display_name": "Python 3 (ipykernel)",
   "language": "python",
   "name": "python3"
  },
  "language_info": {
   "codemirror_mode": {
    "name": "ipython",
    "version": 3
   },
   "file_extension": ".py",
   "mimetype": "text/x-python",
   "name": "python",
   "nbconvert_exporter": "python",
   "pygments_lexer": "ipython3",
   "version": "3.9.12"
  }
 },
 "nbformat": 4,
 "nbformat_minor": 5
}
