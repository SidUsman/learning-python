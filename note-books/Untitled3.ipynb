{
 "cells": [
  {
   "cell_type": "code",
   "execution_count": 1,
   "id": "26ce5129",
   "metadata": {},
   "outputs": [],
   "source": [
    "#list comprehension\n",
    "mystring ='hello world'\n",
    "mylist=[]\n",
    "for words in mystring:\n",
    "    mylist.append(words)"
   ]
  },
  {
   "cell_type": "code",
   "execution_count": 2,
   "id": "8e80797f",
   "metadata": {},
   "outputs": [
    {
     "data": {
      "text/plain": [
       "['h', 'e', 'l', 'l', 'o', ' ', 'w', 'o', 'r', 'l', 'd']"
      ]
     },
     "execution_count": 2,
     "metadata": {},
     "output_type": "execute_result"
    }
   ],
   "source": [
    "mylist"
   ]
  },
  {
   "cell_type": "code",
   "execution_count": 3,
   "id": "529e076d",
   "metadata": {},
   "outputs": [],
   "source": [
    "melist=[x for x in mystring]"
   ]
  },
  {
   "cell_type": "code",
   "execution_count": 4,
   "id": "41b885c6",
   "metadata": {},
   "outputs": [
    {
     "data": {
      "text/plain": [
       "['h', 'e', 'l', 'l', 'o', ' ', 'w', 'o', 'r', 'l', 'd']"
      ]
     },
     "execution_count": 4,
     "metadata": {},
     "output_type": "execute_result"
    }
   ],
   "source": [
    "melist"
   ]
  },
  {
   "cell_type": "code",
   "execution_count": 5,
   "id": "ca6a3cec",
   "metadata": {},
   "outputs": [],
   "source": [
    "mrlist=[x for x in 'hello']"
   ]
  },
  {
   "cell_type": "code",
   "execution_count": 6,
   "id": "3e1e0431",
   "metadata": {},
   "outputs": [
    {
     "data": {
      "text/plain": [
       "['h', 'e', 'l', 'l', 'o']"
      ]
     },
     "execution_count": 6,
     "metadata": {},
     "output_type": "execute_result"
    }
   ],
   "source": [
    "mrlist"
   ]
  },
  {
   "cell_type": "code",
   "execution_count": 8,
   "id": "141bc94e",
   "metadata": {},
   "outputs": [],
   "source": [
    "mylist = [x for x in range(1,6)]"
   ]
  },
  {
   "cell_type": "code",
   "execution_count": 9,
   "id": "2f71e9d3",
   "metadata": {},
   "outputs": [
    {
     "data": {
      "text/plain": [
       "[1, 2, 3, 4, 5]"
      ]
     },
     "execution_count": 9,
     "metadata": {},
     "output_type": "execute_result"
    }
   ],
   "source": [
    "mylist"
   ]
  },
  {
   "cell_type": "code",
   "execution_count": 10,
   "id": "75036966",
   "metadata": {},
   "outputs": [],
   "source": [
    "mylist = [x**2 for x in range(1,6)]"
   ]
  },
  {
   "cell_type": "code",
   "execution_count": 11,
   "id": "09796432",
   "metadata": {},
   "outputs": [
    {
     "data": {
      "text/plain": [
       "[1, 4, 9, 16, 25]"
      ]
     },
     "execution_count": 11,
     "metadata": {},
     "output_type": "execute_result"
    }
   ],
   "source": [
    "mylist"
   ]
  },
  {
   "cell_type": "code",
   "execution_count": 12,
   "id": "b43515d1",
   "metadata": {},
   "outputs": [],
   "source": [
    "mylist = [x for x in range(1,6) if x%2==0]"
   ]
  },
  {
   "cell_type": "code",
   "execution_count": 13,
   "id": "cbe7ce55",
   "metadata": {},
   "outputs": [
    {
     "data": {
      "text/plain": [
       "[2, 4]"
      ]
     },
     "execution_count": 13,
     "metadata": {},
     "output_type": "execute_result"
    }
   ],
   "source": [
    "mylist"
   ]
  },
  {
   "cell_type": "code",
   "execution_count": 14,
   "id": "e4305a18",
   "metadata": {},
   "outputs": [],
   "source": [
    "mylist = [x for x in mylist if x%2== 0]"
   ]
  },
  {
   "cell_type": "code",
   "execution_count": 15,
   "id": "edea1e69",
   "metadata": {},
   "outputs": [
    {
     "data": {
      "text/plain": [
       "[2, 4]"
      ]
     },
     "execution_count": 15,
     "metadata": {},
     "output_type": "execute_result"
    }
   ],
   "source": [
    "mylist"
   ]
  },
  {
   "cell_type": "code",
   "execution_count": 21,
   "id": "6f521d63",
   "metadata": {},
   "outputs": [],
   "source": [
    "celci=[0,10,20,30,37,37.5]\n",
    "faren= [((9/5)*temp+32) for temp in celci]\n"
   ]
  },
  {
   "cell_type": "code",
   "execution_count": 22,
   "id": "461658cf",
   "metadata": {},
   "outputs": [
    {
     "data": {
      "text/plain": [
       "[32.0, 50.0, 68.0, 86.0, 98.60000000000001, 99.5]"
      ]
     },
     "execution_count": 22,
     "metadata": {},
     "output_type": "execute_result"
    }
   ],
   "source": [
    "faren"
   ]
  },
  {
   "cell_type": "code",
   "execution_count": 25,
   "id": "29ee40af",
   "metadata": {},
   "outputs": [],
   "source": [
    "faren = []\n",
    "for tempC in celci:\n",
    "    faren.append((9/5)*tempC+32)"
   ]
  },
  {
   "cell_type": "code",
   "execution_count": 24,
   "id": "9e9911cb",
   "metadata": {},
   "outputs": [
    {
     "data": {
      "text/plain": [
       "[32.0, 50.0, 68.0, 86.0, 98.60000000000001, 99.5]"
      ]
     },
     "execution_count": 24,
     "metadata": {},
     "output_type": "execute_result"
    }
   ],
   "source": [
    "faren"
   ]
  },
  {
   "cell_type": "code",
   "execution_count": 26,
   "id": "537e35a8",
   "metadata": {},
   "outputs": [],
   "source": [
    "#use of if and else\n"
   ]
  },
  {
   "cell_type": "code",
   "execution_count": 27,
   "id": "1569fb1c",
   "metadata": {},
   "outputs": [],
   "source": [
    "result = [x if x%2==0 else 'odd' for x in range(0,11)]"
   ]
  },
  {
   "cell_type": "code",
   "execution_count": 28,
   "id": "86f17ad8",
   "metadata": {},
   "outputs": [
    {
     "data": {
      "text/plain": [
       "[0, 'odd', 2, 'odd', 4, 'odd', 6, 'odd', 8, 'odd', 10]"
      ]
     },
     "execution_count": 28,
     "metadata": {},
     "output_type": "execute_result"
    }
   ],
   "source": [
    "result"
   ]
  },
  {
   "cell_type": "code",
   "execution_count": 29,
   "id": "9b5c958e",
   "metadata": {},
   "outputs": [],
   "source": [
    "res= [ x if x%2==1 else \"even\" for x in faren]"
   ]
  },
  {
   "cell_type": "code",
   "execution_count": 30,
   "id": "0e08f6f9",
   "metadata": {},
   "outputs": [
    {
     "data": {
      "text/plain": [
       "[0, 'odd', 2, 'odd', 4, 'odd', 6, 'odd', 8, 'odd', 10]"
      ]
     },
     "execution_count": 30,
     "metadata": {},
     "output_type": "execute_result"
    }
   ],
   "source": [
    "result"
   ]
  },
  {
   "cell_type": "code",
   "execution_count": 31,
   "id": "7c2b6df1",
   "metadata": {},
   "outputs": [
    {
     "data": {
      "text/plain": [
       "['even', 'even', 'even', 'even', 'even', 'even']"
      ]
     },
     "execution_count": 31,
     "metadata": {},
     "output_type": "execute_result"
    }
   ],
   "source": [
    "res"
   ]
  },
  {
   "cell_type": "code",
   "execution_count": 32,
   "id": "55f40703",
   "metadata": {},
   "outputs": [],
   "source": [
    "# nested loop"
   ]
  },
  {
   "cell_type": "code",
   "execution_count": null,
   "id": "20183536",
   "metadata": {},
   "outputs": [],
   "source": [
    "mylist = []\n",
    "\n",
    "for number in [1,3,5,7,9]:\n",
    "    for number2 in [2,4,6,8,10]:\n",
    "        mylist.append(number+number2)"
   ]
  },
  {
   "cell_type": "code",
   "execution_count": 36,
   "id": "5344f745",
   "metadata": {},
   "outputs": [
    {
     "data": {
      "text/plain": [
       "[3,\n",
       " 5,\n",
       " 7,\n",
       " 9,\n",
       " 11,\n",
       " 5,\n",
       " 7,\n",
       " 9,\n",
       " 11,\n",
       " 13,\n",
       " 7,\n",
       " 9,\n",
       " 11,\n",
       " 13,\n",
       " 15,\n",
       " 9,\n",
       " 11,\n",
       " 13,\n",
       " 15,\n",
       " 17,\n",
       " 11,\n",
       " 13,\n",
       " 15,\n",
       " 17,\n",
       " 19]"
      ]
     },
     "execution_count": 36,
     "metadata": {},
     "output_type": "execute_result"
    }
   ],
   "source": [
    "mylist"
   ]
  },
  {
   "cell_type": "code",
   "execution_count": 37,
   "id": "6e1b8050",
   "metadata": {},
   "outputs": [],
   "source": [
    "melist = []\n"
   ]
  },
  {
   "cell_type": "code",
   "execution_count": 40,
   "id": "12c7652b",
   "metadata": {},
   "outputs": [],
   "source": [
    "for x in [2,4,6]:\n",
    "    for y in [1,10,1000]:\n",
    "        melist.append(x*y)"
   ]
  },
  {
   "cell_type": "code",
   "execution_count": 41,
   "id": "598f9335",
   "metadata": {},
   "outputs": [
    {
     "data": {
      "text/plain": [
       "[2, 20, 2000, 4, 40, 4000, 6, 60, 6000]"
      ]
     },
     "execution_count": 41,
     "metadata": {},
     "output_type": "execute_result"
    }
   ],
   "source": [
    "melist"
   ]
  },
  {
   "cell_type": "code",
   "execution_count": 42,
   "id": "6bb2ec8b",
   "metadata": {},
   "outputs": [],
   "source": [
    "newlist = [x*y for x in [2,4,6 ] for y in [1,10,1000]]"
   ]
  },
  {
   "cell_type": "code",
   "execution_count": 43,
   "id": "63629c15",
   "metadata": {},
   "outputs": [
    {
     "data": {
      "text/plain": [
       "[2, 20, 2000, 4, 40, 4000, 6, 60, 6000]"
      ]
     },
     "execution_count": 43,
     "metadata": {},
     "output_type": "execute_result"
    }
   ],
   "source": [
    "newlist"
   ]
  },
  {
   "cell_type": "code",
   "execution_count": 44,
   "id": "5a7a0f77",
   "metadata": {},
   "outputs": [],
   "source": [
    "listt = []\n",
    "for x in [2,4,6]:\n",
    "    for y in [1,10,1000]:\n",
    "        listt.append(x+y)"
   ]
  },
  {
   "cell_type": "code",
   "execution_count": 45,
   "id": "053cea41",
   "metadata": {},
   "outputs": [
    {
     "data": {
      "text/plain": [
       "[3, 12, 1002, 5, 14, 1004, 7, 16, 1006]"
      ]
     },
     "execution_count": 45,
     "metadata": {},
     "output_type": "execute_result"
    }
   ],
   "source": [
    "listt"
   ]
  },
  {
   "cell_type": "code",
   "execution_count": 46,
   "id": "43b3f22b",
   "metadata": {},
   "outputs": [],
   "source": [
    "listy = [x+y for x in [2,4,6] for y in [1,10,1000]]"
   ]
  },
  {
   "cell_type": "code",
   "execution_count": 47,
   "id": "60bc93d3",
   "metadata": {},
   "outputs": [
    {
     "data": {
      "text/plain": [
       "[3, 12, 1002, 5, 14, 1004, 7, 16, 1006]"
      ]
     },
     "execution_count": 47,
     "metadata": {},
     "output_type": "execute_result"
    }
   ],
   "source": [
    "listy"
   ]
  },
  {
   "cell_type": "code",
   "execution_count": null,
   "id": "668c09a2",
   "metadata": {},
   "outputs": [],
   "source": []
  }
 ],
 "metadata": {
  "kernelspec": {
   "display_name": "Python 3 (ipykernel)",
   "language": "python",
   "name": "python3"
  },
  "language_info": {
   "codemirror_mode": {
    "name": "ipython",
    "version": 3
   },
   "file_extension": ".py",
   "mimetype": "text/x-python",
   "name": "python",
   "nbconvert_exporter": "python",
   "pygments_lexer": "ipython3",
   "version": "3.9.12"
  }
 },
 "nbformat": 4,
 "nbformat_minor": 5
}
