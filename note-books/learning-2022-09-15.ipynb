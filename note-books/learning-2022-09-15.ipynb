{
 "cells": [
  {
   "cell_type": "code",
   "execution_count": 1,
   "id": "124a3e23",
   "metadata": {},
   "outputs": [],
   "source": [
    "name = \"sidra\""
   ]
  },
  {
   "cell_type": "code",
   "execution_count": 2,
   "id": "03c3ef1d",
   "metadata": {},
   "outputs": [
    {
     "name": "stdout",
     "output_type": "stream",
     "text": [
      "Hello sidra \n",
      "\t\tDon't forget to be Awesome!\n"
     ]
    }
   ],
   "source": [
    "print(\"Hello \"+name+\" \\n\\t\\tDon't forget to be Awesome!\")"
   ]
  },
  {
   "cell_type": "code",
   "execution_count": 3,
   "id": "7e8f01ad",
   "metadata": {},
   "outputs": [
    {
     "name": "stdout",
     "output_type": "stream",
     "text": [
      "program is runing don't forget to be awesome and work hard  and do it fast as possible \t \n",
      "\n",
      " \t\t Love you\n"
     ]
    }
   ],
   "source": [
    "print(\"program is runing don't forget to be awesome and work hard  and do it fast as possible \\t \\n\\n \\t\\t Love you\")"
   ]
  },
  {
   "cell_type": "code",
   "execution_count": 4,
   "id": "be56eda4",
   "metadata": {},
   "outputs": [],
   "source": [
    "# love please do number 3 ,4 , and 5"
   ]
  },
  {
   "cell_type": "code",
   "execution_count": 1,
   "id": "373e7f15",
   "metadata": {},
   "outputs": [
    {
     "name": "stdout",
     "output_type": "stream",
     "text": [
      "\n",
      "*******************************************************************************\n",
      "          |                   |                  |                     |\n",
      " _________|________________.=\"\"_;=.______________|_____________________|_______\n",
      "|                   |  ,-\"_,=\"\"     `\"=.|                  |\n",
      "|___________________|__\"=._o`\"-._        `\"=.______________|___________________\n",
      "          |                `\"=._o`\"=._      _`\"=._                     |\n",
      " _________|_____________________:=._o \"=._.\"_.-=\"'\"=.__________________|_______\n",
      "|                   |    __.--\" , ; `\"=._o.\" ,-\"\"\"-._ \".   |\n",
      "|___________________|_._\"  ,. .` ` `` ,  `\"-._\"-._   \". '__|___________________\n",
      "          |           |o`\"=._` , \"` `; .\". ,  \"-._\"-._; ;              |\n",
      " _________|___________| ;`-.o`\"=._; .\" ` '`.\"\\` . \"-._ /_______________|_______\n",
      "|                   | |o;    `\"-.o`\"=._``  '` \" ,__.--o;   |\n",
      "|___________________|_| ;     (#) `-.o `\"=.`_.--\"_o.-; ;___|___________________\n",
      "____/______/______/___|o;._    \"      `\".o|o_.--\"    ;o;____/______/______/____\n",
      "/______/______/______/_\"=._o--._        ; | ;        ; ;/______/______/______/_\n",
      "____/______/______/______/__\"=._o--._   ;o|o;     _._;o;____/______/______/____\n",
      "/______/______/______/______/____\"=._o._; | ;_.--\"o.--\"_/______/______/______/_\n",
      "____/______/______/______/______/_____\"=.o|o_.--\"\"___/______/______/______/____\n",
      "/______/______/______/______/______/______/______/______/______/______/_____ /\n",
      "*******************************************************************************\n",
      "\n",
      "Welcome to Treasure Island.\n",
      "Your mission is to find the treasure.\n",
      "There are two roads ahead,one road leads to the treasure iland,which road would you like to choses? \"left\" or \"right\"\n",
      "left\n",
      "you have reached to the black sea you have to cover a distance of 500 mile into the sea, there is a \"ship\" and a \"ski\".ship\n",
      "You have chose the ship, Congratulations!!!, You reached the Island,there are 3 paths, one leads to the treasure, one leads to the dragon nest and one leads to the man eating tribe.\n",
      "Chose \"1\", \"2\" or \"3\".3\n",
      "Dragon den, Game Over!\n",
      " you are dead!\n"
     ]
    }
   ],
   "source": [
    "print('''\n",
    "*******************************************************************************\n",
    "          |                   |                  |                     |\n",
    " _________|________________.=\"\"_;=.______________|_____________________|_______\n",
    "|                   |  ,-\"_,=\"\"     `\"=.|                  |\n",
    "|___________________|__\"=._o`\"-._        `\"=.______________|___________________\n",
    "          |                `\"=._o`\"=._      _`\"=._                     |\n",
    " _________|_____________________:=._o \"=._.\"_.-=\"'\"=.__________________|_______\n",
    "|                   |    __.--\" , ; `\"=._o.\" ,-\"\"\"-._ \".   |\n",
    "|___________________|_._\"  ,. .` ` `` ,  `\"-._\"-._   \". '__|___________________\n",
    "          |           |o`\"=._` , \"` `; .\". ,  \"-._\"-._; ;              |\n",
    " _________|___________| ;`-.o`\"=._; .\" ` '`.\"\\` . \"-._ /_______________|_______\n",
    "|                   | |o;    `\"-.o`\"=._``  '` \" ,__.--o;   |\n",
    "|___________________|_| ;     (#) `-.o `\"=.`_.--\"_o.-; ;___|___________________\n",
    "____/______/______/___|o;._    \"      `\".o|o_.--\"    ;o;____/______/______/____\n",
    "/______/______/______/_\"=._o--._        ; | ;        ; ;/______/______/______/_\n",
    "____/______/______/______/__\"=._o--._   ;o|o;     _._;o;____/______/______/____\n",
    "/______/______/______/______/____\"=._o._; | ;_.--\"o.--\"_/______/______/______/_\n",
    "____/______/______/______/______/_____\"=.o|o_.--\"\"___/______/______/______/____\n",
    "/______/______/______/______/______/______/______/______/______/______/_____ /\n",
    "*******************************************************************************\n",
    "''')\n",
    "print(\"Welcome to Treasure Island.\")\n",
    "print(\"Your mission is to find the treasure.\") \n",
    "\n",
    "#https://www.draw.io/?lightbox=1&highlight=0000ff&edit=_blank&layers=1&nav=1&title=Treasure%20Island%20Conditional.drawio#Uhttps%3A%2F%2Fdrive.google.com%2Fuc%3Fid%3D1oDe4ehjWZipYRsVfeAx2HyB7LCQ8_Fvi%26export%3Ddownload\n",
    "\n",
    "#Write your code below this line 👇\n",
    "road = input('There are two roads ahead,one road leads to the treasure iland,which road would you like to choses? \"left\" or \"right\"\\n').lower()\n",
    "#right_road = \"Right\"\n",
    "#left_road = \"Left\"\n",
    "if road ==\"left\":\n",
    "    sea=input('you have reached to the black sea you have to cover a distance of 500 mile into the sea, there is a \"ship\" and a \"ski\".').lower()\n",
    "    if sea == \"ship\" :\n",
    "        island=input('You have chose the ship, Congratulations!!!, You reached the Island,there are 3 paths, one leads to the treasure, one leads to the dragon nest and one leads to the man eating tribe.\\nChose \"1\", \"2\" or \"3\".')\n",
    "        #man_eating_tribe=\"1\" \n",
    "        #treasure=\"2\"\n",
    "        #dragons=\"3\"\n",
    "        if island == \"1\" :\n",
    "            print(\"Man eating tribe, Game Over!\\n you are dead!\")\n",
    "        elif island == \"2\":\n",
    "            print(\"Congratulation!! You won, you found the treasure !\")\n",
    "      \n",
    "        elif island == \"3\" :\n",
    "            print(\"Dragon den, Game Over!\\n you are dead!\")\n",
    "      \n",
    "        else:\n",
    "            print(\"Game over !, Wrong road\")\n",
    "      \n",
    "    else:\n",
    "        print(\"Game Over!\\nSorry, Ski jet did not has enough now you are stranded in the middle of the Black Sea\")\n",
    "    \n",
    "else:\n",
    "    print(\"Sorry Game Over\")\n",
    "\n",
    "\n"
   ]
  },
  {
   "cell_type": "code",
   "execution_count": 5,
   "id": "4af6e7a2",
   "metadata": {},
   "outputs": [
    {
     "data": {
      "text/plain": [
       "['th', 's ', 's a str', 'ng']"
      ]
     },
     "execution_count": 5,
     "metadata": {},
     "output_type": "execute_result"
    }
   ],
   "source": [
    "x=\"this is a string\"\n",
    "x.split('i')"
   ]
  }
 ],
 "metadata": {
  "kernelspec": {
   "display_name": "Python 3 (ipykernel)",
   "language": "python",
   "name": "python3"
  },
  "language_info": {
   "codemirror_mode": {
    "name": "ipython",
    "version": 3
   },
   "file_extension": ".py",
   "mimetype": "text/x-python",
   "name": "python",
   "nbconvert_exporter": "python",
   "pygments_lexer": "ipython3",
   "version": "3.9.12"
  }
 },
 "nbformat": 4,
 "nbformat_minor": 5
}
