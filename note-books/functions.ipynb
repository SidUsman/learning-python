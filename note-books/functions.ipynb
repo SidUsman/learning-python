{
 "cells": [
  {
   "cell_type": "code",
   "execution_count": 1,
   "id": "69284500",
   "metadata": {},
   "outputs": [],
   "source": [
    "# function is started with def key word , it can be helpful as through the code we can call upon it again and again\n",
    "# and execute the function. "
   ]
  },
  {
   "cell_type": "code",
   "execution_count": 2,
   "id": "9be46458",
   "metadata": {},
   "outputs": [],
   "source": [
    "def say_hello ():\n",
    "    print ('hello')"
   ]
  },
  {
   "cell_type": "code",
   "execution_count": 4,
   "id": "da23940c",
   "metadata": {},
   "outputs": [
    {
     "name": "stdout",
     "output_type": "stream",
     "text": [
      "hello\n"
     ]
    }
   ],
   "source": [
    "say_hello()"
   ]
  },
  {
   "cell_type": "code",
   "execution_count": 7,
   "id": "e7dfe355",
   "metadata": {},
   "outputs": [],
   "source": [
    "#def name_of_function(argument to be passed by user):\n",
    " #   print ('code that goes inside the function')\n",
    "#the comes the return keyword,it allow us to assign the output of a function a new vriable"
   ]
  },
  {
   "cell_type": "code",
   "execution_count": 8,
   "id": "03f63988",
   "metadata": {},
   "outputs": [],
   "source": [
    "def add_function(num1,num2):\n",
    "    return num1+num2"
   ]
  },
  {
   "cell_type": "code",
   "execution_count": 11,
   "id": "a401b440",
   "metadata": {},
   "outputs": [
    {
     "data": {
      "text/plain": [
       "3"
      ]
     },
     "execution_count": 11,
     "metadata": {},
     "output_type": "execute_result"
    }
   ],
   "source": [
    "add_function(1,2)"
   ]
  },
  {
   "cell_type": "code",
   "execution_count": 12,
   "id": "770e4b0f",
   "metadata": {},
   "outputs": [],
   "source": [
    "def add_function(num1,num2):\n",
    "    return num1+num2"
   ]
  },
  {
   "cell_type": "code",
   "execution_count": 13,
   "id": "18f34280",
   "metadata": {},
   "outputs": [],
   "source": [
    "result = add_function(1,2)"
   ]
  },
  {
   "cell_type": "code",
   "execution_count": 14,
   "id": "afad50ca",
   "metadata": {},
   "outputs": [
    {
     "data": {
      "text/plain": [
       "3"
      ]
     },
     "execution_count": 14,
     "metadata": {},
     "output_type": "execute_result"
    }
   ],
   "source": [
    "result"
   ]
  },
  {
   "cell_type": "code",
   "execution_count": 16,
   "id": "a2af7dac",
   "metadata": {},
   "outputs": [],
   "source": [
    "def add_function(num1,num2):\n",
    "    print (num1+num2)\n",
    "    return num1+num2"
   ]
  },
  {
   "cell_type": "code",
   "execution_count": 19,
   "id": "20330913",
   "metadata": {},
   "outputs": [
    {
     "name": "stdout",
     "output_type": "stream",
     "text": [
      "4\n"
     ]
    },
    {
     "data": {
      "text/plain": [
       "4"
      ]
     },
     "execution_count": 19,
     "metadata": {},
     "output_type": "execute_result"
    }
   ],
   "source": [
    "add_function(2,2)"
   ]
  },
  {
   "cell_type": "code",
   "execution_count": 20,
   "id": "7d0cd921",
   "metadata": {},
   "outputs": [
    {
     "name": "stdout",
     "output_type": "stream",
     "text": [
      "4\n"
     ]
    }
   ],
   "source": [
    "result=add_function(2,2)"
   ]
  },
  {
   "cell_type": "code",
   "execution_count": 21,
   "id": "26583c38",
   "metadata": {},
   "outputs": [],
   "source": [
    "#even check for single number"
   ]
  },
  {
   "cell_type": "code",
   "execution_count": 22,
   "id": "040c0f32",
   "metadata": {},
   "outputs": [],
   "source": [
    "def even_check(number):\n",
    "    result=number%2==0\n",
    "    return result"
   ]
  },
  {
   "cell_type": "code",
   "execution_count": 23,
   "id": "4328292c",
   "metadata": {},
   "outputs": [
    {
     "data": {
      "text/plain": [
       "False"
      ]
     },
     "execution_count": 23,
     "metadata": {},
     "output_type": "execute_result"
    }
   ],
   "source": [
    "even_check(5)"
   ]
  },
  {
   "cell_type": "code",
   "execution_count": 24,
   "id": "13aa201b",
   "metadata": {},
   "outputs": [
    {
     "data": {
      "text/plain": [
       "True"
      ]
     },
     "execution_count": 24,
     "metadata": {},
     "output_type": "execute_result"
    }
   ],
   "source": [
    "even_check(4)"
   ]
  },
  {
   "cell_type": "code",
   "execution_count": 26,
   "id": "029d3f56",
   "metadata": {},
   "outputs": [
    {
     "data": {
      "text/plain": [
       "True"
      ]
     },
     "execution_count": 26,
     "metadata": {},
     "output_type": "execute_result"
    }
   ],
   "source": [
    "even_check(20)"
   ]
  },
  {
   "cell_type": "code",
   "execution_count": 53,
   "id": "ecd8f227",
   "metadata": {},
   "outputs": [],
   "source": [
    "#for a list\n",
    "#return true if any number in the list is even\n",
    "mylist=[1,2,3,5,67]"
   ]
  },
  {
   "cell_type": "code",
   "execution_count": 41,
   "id": "8b5a9481",
   "metadata": {},
   "outputs": [],
   "source": [
    "def even_check_list(mylist):\n",
    "    for num in mylist:\n",
    "        if num%2==0:\n",
    "            return True\n",
    "        else:\n",
    "            pass"
   ]
  },
  {
   "cell_type": "code",
   "execution_count": 35,
   "id": "9ba8d604",
   "metadata": {},
   "outputs": [
    {
     "data": {
      "text/plain": [
       "True"
      ]
     },
     "execution_count": 35,
     "metadata": {},
     "output_type": "execute_result"
    }
   ],
   "source": [
    "even_check_list([1,3,5,7,2])"
   ]
  },
  {
   "cell_type": "code",
   "execution_count": 42,
   "id": "d4740b0e",
   "metadata": {},
   "outputs": [
    {
     "data": {
      "text/plain": [
       "True"
      ]
     },
     "execution_count": 42,
     "metadata": {},
     "output_type": "execute_result"
    }
   ],
   "source": [
    "even_check_list(mylist)"
   ]
  },
  {
   "cell_type": "code",
   "execution_count": 61,
   "id": "1bdc0cb9",
   "metadata": {},
   "outputs": [],
   "source": [
    "mylist=[1,3,5,7,4,3,6]\n",
    "def even_check(mylist):\n",
    "    even_number= []\n",
    "    for num in mylist:\n",
    "        if num % 2 == 0:\n",
    "            even_number.append(num)\n",
    "        else :\n",
    "            pass\n",
    "    return even_number\n",
    "    "
   ]
  },
  {
   "cell_type": "code",
   "execution_count": 62,
   "id": "ae5a4f0e",
   "metadata": {},
   "outputs": [],
   "source": [
    "newlist = [1,2,3,4,5,6,7]\n",
    "result = even_check(newlist)"
   ]
  },
  {
   "cell_type": "code",
   "execution_count": 63,
   "id": "c30ea30f",
   "metadata": {},
   "outputs": [
    {
     "data": {
      "text/plain": [
       "[2, 4, 6]"
      ]
     },
     "execution_count": 63,
     "metadata": {},
     "output_type": "execute_result"
    }
   ],
   "source": [
    "result"
   ]
  },
  {
   "cell_type": "code",
   "execution_count": 64,
   "id": "ab331c53",
   "metadata": {},
   "outputs": [],
   "source": [
    "#tuple unpacking\n",
    "#employ work hour check \n",
    "#check employee of the month and return both "
   ]
  },
  {
   "cell_type": "code",
   "execution_count": 68,
   "id": "4afeb42c",
   "metadata": {},
   "outputs": [],
   "source": [
    "employee_hours = [('abby',100),('bill',400),('cass',800)]\n",
    "\n",
    "def employee_check(employee_hours):\n",
    "    hours_max=0\n",
    "    employee_of_month = ''\n",
    "    for employee,hours in employee_hours:\n",
    "        if hours > hours_max:\n",
    "            hours_max =hours \n",
    "            employee_of_month = employee\n",
    "        else:\n",
    "            pass\n",
    "    return (employee_of_month,hours_max)\n",
    "            "
   ]
  },
  {
   "cell_type": "code",
   "execution_count": 69,
   "id": "f83e841d",
   "metadata": {},
   "outputs": [
    {
     "data": {
      "text/plain": [
       "('cass', 800)"
      ]
     },
     "execution_count": 69,
     "metadata": {},
     "output_type": "execute_result"
    }
   ],
   "source": [
    "employee_check(employee_hours)"
   ]
  },
  {
   "cell_type": "code",
   "execution_count": 70,
   "id": "c9cb25a5",
   "metadata": {},
   "outputs": [],
   "source": [
    "employee_of_the_month=employee_check(employee_hours)"
   ]
  },
  {
   "cell_type": "code",
   "execution_count": 71,
   "id": "06e462c1",
   "metadata": {},
   "outputs": [
    {
     "data": {
      "text/plain": [
       "('cass', 800)"
      ]
     },
     "execution_count": 71,
     "metadata": {},
     "output_type": "execute_result"
    }
   ],
   "source": [
    "employee_of_the_month"
   ]
  },
  {
   "cell_type": "code",
   "execution_count": 72,
   "id": "66898b5c",
   "metadata": {},
   "outputs": [],
   "source": [
    "employee,hours = employee_check(employee_hours)"
   ]
  },
  {
   "cell_type": "code",
   "execution_count": 73,
   "id": "1743e4a6",
   "metadata": {},
   "outputs": [
    {
     "data": {
      "text/plain": [
       "('cass', 800)"
      ]
     },
     "execution_count": 73,
     "metadata": {},
     "output_type": "execute_result"
    }
   ],
   "source": [
    "employee,hours"
   ]
  },
  {
   "cell_type": "code",
   "execution_count": 74,
   "id": "389994d0",
   "metadata": {},
   "outputs": [
    {
     "data": {
      "text/plain": [
       "'cass'"
      ]
     },
     "execution_count": 74,
     "metadata": {},
     "output_type": "execute_result"
    }
   ],
   "source": [
    "employee"
   ]
  },
  {
   "cell_type": "code",
   "execution_count": 75,
   "id": "a91a144f",
   "metadata": {},
   "outputs": [
    {
     "data": {
      "text/plain": [
       "800"
      ]
     },
     "execution_count": 75,
     "metadata": {},
     "output_type": "execute_result"
    }
   ],
   "source": [
    "hours"
   ]
  },
  {
   "cell_type": "code",
   "execution_count": null,
   "id": "20144b69",
   "metadata": {},
   "outputs": [],
   "source": []
  }
 ],
 "metadata": {
  "kernelspec": {
   "display_name": "Python 3 (ipykernel)",
   "language": "python",
   "name": "python3"
  },
  "language_info": {
   "codemirror_mode": {
    "name": "ipython",
    "version": 3
   },
   "file_extension": ".py",
   "mimetype": "text/x-python",
   "name": "python",
   "nbconvert_exporter": "python",
   "pygments_lexer": "ipython3",
   "version": "3.9.12"
  }
 },
 "nbformat": 4,
 "nbformat_minor": 5
}
