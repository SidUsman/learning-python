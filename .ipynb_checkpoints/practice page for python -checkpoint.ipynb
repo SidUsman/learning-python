{
 "cells": [
  {
   "cell_type": "code",
   "execution_count": 1,
   "id": "2a50ed6f",
   "metadata": {},
   "outputs": [
    {
     "name": "stdout",
     "output_type": "stream",
     "text": [
      "My name is sidra\n"
     ]
    }
   ],
   "source": [
    "#program to print name\n",
    "print(\"My name is sidra\")"
   ]
  },
  {
   "cell_type": "code",
   "execution_count": 7,
   "id": "51d66d3e",
   "metadata": {},
   "outputs": [],
   "source": [
    "name = \"sidra\""
   ]
  },
  {
   "cell_type": "code",
   "execution_count": 3,
   "id": "a6922299",
   "metadata": {},
   "outputs": [],
   "source": [
    "father_name = \"naeem Ullah\""
   ]
  },
  {
   "cell_type": "code",
   "execution_count": 6,
   "id": "ee9bf5d4",
   "metadata": {},
   "outputs": [
    {
     "name": "stdout",
     "output_type": "stream",
     "text": [
      "My name is  sidra My father name is naeem Ullah\n"
     ]
    }
   ],
   "source": [
    "print(\"My name is  \"+name + \" My father name is \"+father_name)"
   ]
  },
  {
   "cell_type": "markdown",
   "id": "2fdb7a2d",
   "metadata": {},
   "source": [
    "# My Notes"
   ]
  },
  {
   "cell_type": "code",
   "execution_count": 8,
   "id": "da610d6b",
   "metadata": {},
   "outputs": [
    {
     "data": {
      "text/plain": [
       "7"
      ]
     },
     "execution_count": 8,
     "metadata": {},
     "output_type": "execute_result"
    }
   ],
   "source": [
    "3+4"
   ]
  },
  {
   "cell_type": "code",
   "execution_count": 10,
   "id": "24b13dd8",
   "metadata": {},
   "outputs": [
    {
     "data": {
      "text/plain": [
       "-1"
      ]
     },
     "execution_count": 10,
     "metadata": {},
     "output_type": "execute_result"
    }
   ],
   "source": [
    "3-4"
   ]
  },
  {
   "cell_type": "code",
   "execution_count": 11,
   "id": "ac8ff9c4",
   "metadata": {},
   "outputs": [
    {
     "data": {
      "text/plain": [
       "16"
      ]
     },
     "execution_count": 11,
     "metadata": {},
     "output_type": "execute_result"
    }
   ],
   "source": [
    "4*4"
   ]
  },
  {
   "cell_type": "code",
   "execution_count": 12,
   "id": "e9dfc5c7",
   "metadata": {},
   "outputs": [
    {
     "data": {
      "text/plain": [
       "1.0"
      ]
     },
     "execution_count": 12,
     "metadata": {},
     "output_type": "execute_result"
    }
   ],
   "source": [
    "5/5"
   ]
  },
  {
   "cell_type": "code",
   "execution_count": 13,
   "id": "bea2a8b7",
   "metadata": {},
   "outputs": [
    {
     "data": {
      "text/plain": [
       "4"
      ]
     },
     "execution_count": 13,
     "metadata": {},
     "output_type": "execute_result"
    }
   ],
   "source": [
    "2**2"
   ]
  },
  {
   "cell_type": "code",
   "execution_count": 14,
   "id": "4960007c",
   "metadata": {},
   "outputs": [
    {
     "data": {
      "text/plain": [
       "64"
      ]
     },
     "execution_count": 14,
     "metadata": {},
     "output_type": "execute_result"
    }
   ],
   "source": [
    "2**6"
   ]
  },
  {
   "cell_type": "code",
   "execution_count": 16,
   "id": "c9158e27",
   "metadata": {},
   "outputs": [
    {
     "data": {
      "text/plain": [
       "(7, 7)"
      ]
     },
     "execution_count": 16,
     "metadata": {},
     "output_type": "execute_result"
    }
   ],
   "source": [
    "3+4,(3+4)"
   ]
  },
  {
   "cell_type": "code",
   "execution_count": 18,
   "id": "e99c1eb4",
   "metadata": {},
   "outputs": [
    {
     "data": {
      "text/plain": [
       "9"
      ]
     },
     "execution_count": 18,
     "metadata": {},
     "output_type": "execute_result"
    }
   ],
   "source": [
    "s=5\n",
    "s+4"
   ]
  },
  {
   "cell_type": "code",
   "execution_count": 28,
   "id": "8bb1dbaf",
   "metadata": {},
   "outputs": [],
   "source": [
    "my_income = 2000\n",
    "tax_rate = 0.1\n",
    "my_tax = my_income * tax_rate"
   ]
  },
  {
   "cell_type": "code",
   "execution_count": 30,
   "id": "b0844244",
   "metadata": {},
   "outputs": [
    {
     "data": {
      "text/plain": [
       "int"
      ]
     },
     "execution_count": 30,
     "metadata": {},
     "output_type": "execute_result"
    }
   ],
   "source": [
    "type(my_income)"
   ]
  },
  {
   "cell_type": "code",
   "execution_count": 32,
   "id": "3ce61bf4",
   "metadata": {},
   "outputs": [
    {
     "data": {
      "text/plain": [
       "200.0"
      ]
     },
     "execution_count": 32,
     "metadata": {},
     "output_type": "execute_result"
    }
   ],
   "source": [
    "my_tax"
   ]
  },
  {
   "cell_type": "code",
   "execution_count": 33,
   "id": "0b05bffe",
   "metadata": {},
   "outputs": [],
   "source": [
    "abc = 40\n",
    "bca = 10\n",
    "d = abc * bca"
   ]
  },
  {
   "cell_type": "code",
   "execution_count": 35,
   "id": "cf08d17d",
   "metadata": {},
   "outputs": [
    {
     "data": {
      "text/plain": [
       "400"
      ]
     },
     "execution_count": 35,
     "metadata": {},
     "output_type": "execute_result"
    }
   ],
   "source": [
    "d "
   ]
  },
  {
   "cell_type": "code",
   "execution_count": 36,
   "id": "3dd7c40b",
   "metadata": {},
   "outputs": [
    {
     "data": {
      "text/plain": [
       "'hello this is sidra'"
      ]
     },
     "execution_count": 36,
     "metadata": {},
     "output_type": "execute_result"
    }
   ],
   "source": [
    "(\"hello this is sidra\")"
   ]
  },
  {
   "cell_type": "code",
   "execution_count": 37,
   "id": "77d54dac",
   "metadata": {},
   "outputs": [
    {
     "data": {
      "text/plain": [
       "'ordered sequence of characters using the syntax of single or double quotes'"
      ]
     },
     "execution_count": 37,
     "metadata": {},
     "output_type": "execute_result"
    }
   ],
   "source": [
    "\"ordered sequence of characters using the syntax of single or double quotes\""
   ]
  },
  {
   "cell_type": "code",
   "execution_count": 39,
   "id": "dbed7d26",
   "metadata": {},
   "outputs": [
    {
     "data": {
      "text/plain": [
       "'string'"
      ]
     },
     "execution_count": 39,
     "metadata": {},
     "output_type": "execute_result"
    }
   ],
   "source": [
    "'string'\n"
   ]
  },
  {
   "cell_type": "code",
   "execution_count": 40,
   "id": "b81a1632",
   "metadata": {},
   "outputs": [
    {
     "data": {
      "text/plain": [
       "'indexing and slicing of a string is possible'"
      ]
     },
     "execution_count": 40,
     "metadata": {},
     "output_type": "execute_result"
    }
   ],
   "source": [
    "\"indexing and slicing of a string is possible\""
   ]
  },
  {
   "cell_type": "code",
   "execution_count": 41,
   "id": "6ffe94f8",
   "metadata": {},
   "outputs": [
    {
     "data": {
      "text/plain": [
       "'indexing'"
      ]
     },
     "execution_count": 41,
     "metadata": {},
     "output_type": "execute_result"
    }
   ],
   "source": [
    "'indexing'"
   ]
  },
  {
   "cell_type": "code",
   "execution_count": 43,
   "id": "ef593607",
   "metadata": {},
   "outputs": [
    {
     "data": {
      "text/plain": [
       "'use of [] notion after a string or a variable to grabe a specific or single character'"
      ]
     },
     "execution_count": 43,
     "metadata": {},
     "output_type": "execute_result"
    }
   ],
   "source": [
    "'use of [] notion after a string or a variable to grabe a specific or single character'"
   ]
  },
  {
   "cell_type": "code",
   "execution_count": 47,
   "id": "50be7042",
   "metadata": {},
   "outputs": [],
   "source": [
    "indexing= ('indexing starts from 0 and goes till the length of the numbers')"
   ]
  },
  {
   "cell_type": "code",
   "execution_count": 46,
   "id": "6ac86197",
   "metadata": {},
   "outputs": [
    {
     "data": {
      "text/plain": [
       "'there is also reverse indexing that is 0,-2,-3 according the number of characters'"
      ]
     },
     "execution_count": 46,
     "metadata": {},
     "output_type": "execute_result"
    }
   ],
   "source": [
    "'there is also reverse indexing that is 0,-2,-3 according the number of characters'"
   ]
  },
  {
   "cell_type": "code",
   "execution_count": 49,
   "id": "d3589186",
   "metadata": {},
   "outputs": [
    {
     "data": {
      "text/plain": [
       "'x'"
      ]
     },
     "execution_count": 49,
     "metadata": {},
     "output_type": "execute_result"
    }
   ],
   "source": [
    "indexing[4]"
   ]
  },
  {
   "cell_type": "code",
   "execution_count": 53,
   "id": "c504848d",
   "metadata": {},
   "outputs": [
    {
     "data": {
      "text/plain": [
       "'slicing is [start:stop:step]'"
      ]
     },
     "execution_count": 53,
     "metadata": {},
     "output_type": "execute_result"
    }
   ],
   "source": [
    "\"slicing is [start:stop:step]\""
   ]
  },
  {
   "cell_type": "code",
   "execution_count": 54,
   "id": "a766a0b7",
   "metadata": {},
   "outputs": [
    {
     "data": {
      "text/plain": [
       "'stop numarical indax is the point uptill we go but do not include it'"
      ]
     },
     "execution_count": 54,
     "metadata": {},
     "output_type": "execute_result"
    }
   ],
   "source": [
    "\"start numarical indax is the start point of slice\"\n",
    "'stop numarical indax is the point uptill we go but do not include it'"
   ]
  },
  {
   "cell_type": "code",
   "execution_count": 55,
   "id": "336601c3",
   "metadata": {},
   "outputs": [
    {
     "data": {
      "text/plain": [
       "'step is the size of jump you take from starting to stop'"
      ]
     },
     "execution_count": 55,
     "metadata": {},
     "output_type": "execute_result"
    }
   ],
   "source": [
    "'step is the size of jump you take from starting to stop'"
   ]
  },
  {
   "cell_type": "code",
   "execution_count": 56,
   "id": "a25cae81",
   "metadata": {},
   "outputs": [
    {
     "data": {
      "text/plain": [
       "'grabing a subsection or a slice of a string'"
      ]
     },
     "execution_count": 56,
     "metadata": {},
     "output_type": "execute_result"
    }
   ],
   "source": [
    "'grabing a subsection or a slice of a string'"
   ]
  },
  {
   "cell_type": "code",
   "execution_count": 58,
   "id": "c8a6648d",
   "metadata": {},
   "outputs": [
    {
     "data": {
      "text/plain": [
       "'g'"
      ]
     },
     "execution_count": 58,
     "metadata": {},
     "output_type": "execute_result"
    }
   ],
   "source": [
    "\"ansdfhghdfj\"[6]"
   ]
  },
  {
   "cell_type": "code",
   "execution_count": 59,
   "id": "43648914",
   "metadata": {},
   "outputs": [],
   "source": [
    "ghj=\"klm\""
   ]
  },
  {
   "cell_type": "code",
   "execution_count": 60,
   "id": "a055696a",
   "metadata": {},
   "outputs": [
    {
     "data": {
      "text/plain": [
       "'m'"
      ]
     },
     "execution_count": 60,
     "metadata": {},
     "output_type": "execute_result"
    }
   ],
   "source": [
    "ghj[2]"
   ]
  },
  {
   "cell_type": "code",
   "execution_count": 61,
   "id": "ca81189b",
   "metadata": {},
   "outputs": [],
   "source": [
    "a=\"asdfghjkl\""
   ]
  },
  {
   "cell_type": "code",
   "execution_count": 62,
   "id": "62a9368d",
   "metadata": {},
   "outputs": [
    {
     "data": {
      "text/plain": [
       "'j'"
      ]
     },
     "execution_count": 62,
     "metadata": {},
     "output_type": "execute_result"
    }
   ],
   "source": [
    "a[-3]"
   ]
  },
  {
   "cell_type": "code",
   "execution_count": 64,
   "id": "c22b99b4",
   "metadata": {},
   "outputs": [
    {
     "data": {
      "text/plain": [
       "'dgjl'"
      ]
     },
     "execution_count": 64,
     "metadata": {},
     "output_type": "execute_result"
    }
   ],
   "source": [
    "a[2:9:2]"
   ]
  },
  {
   "cell_type": "code",
   "execution_count": 66,
   "id": "db51a656",
   "metadata": {},
   "outputs": [
    {
     "data": {
      "text/plain": [
       "'dgj'"
      ]
     },
     "execution_count": 66,
     "metadata": {},
     "output_type": "execute_result"
    }
   ],
   "source": [
    "a[2:8:2]"
   ]
  },
  {
   "cell_type": "code",
   "execution_count": 68,
   "id": "369ecebd",
   "metadata": {},
   "outputs": [
    {
     "data": {
      "text/plain": [
       "9"
      ]
     },
     "execution_count": 68,
     "metadata": {},
     "output_type": "execute_result"
    }
   ],
   "source": [
    "len(a)"
   ]
  },
  {
   "cell_type": "code",
   "execution_count": 69,
   "id": "0ce84944",
   "metadata": {},
   "outputs": [
    {
     "data": {
      "text/plain": [
       "str"
      ]
     },
     "execution_count": 69,
     "metadata": {},
     "output_type": "execute_result"
    }
   ],
   "source": [
    "type(a)"
   ]
  },
  {
   "cell_type": "code",
   "execution_count": 71,
   "id": "c9eff085",
   "metadata": {},
   "outputs": [
    {
     "data": {
      "text/plain": [
       "'s'"
      ]
     },
     "execution_count": 71,
     "metadata": {},
     "output_type": "execute_result"
    }
   ],
   "source": [
    "a[1:2:1]"
   ]
  },
  {
   "cell_type": "code",
   "execution_count": 73,
   "id": "6d96357d",
   "metadata": {},
   "outputs": [
    {
     "data": {
      "text/plain": [
       "'asdfgh'"
      ]
     },
     "execution_count": 73,
     "metadata": {},
     "output_type": "execute_result"
    }
   ],
   "source": [
    "a[:-3]"
   ]
  },
  {
   "cell_type": "code",
   "execution_count": 74,
   "id": "f1222cf1",
   "metadata": {},
   "outputs": [
    {
     "data": {
      "text/plain": [
       "'dfgh'"
      ]
     },
     "execution_count": 74,
     "metadata": {},
     "output_type": "execute_result"
    }
   ],
   "source": [
    "a[2:6]"
   ]
  },
  {
   "cell_type": "code",
   "execution_count": 75,
   "id": "3bbf184c",
   "metadata": {},
   "outputs": [
    {
     "data": {
      "text/plain": [
       "'ghjkl'"
      ]
     },
     "execution_count": 75,
     "metadata": {},
     "output_type": "execute_result"
    }
   ],
   "source": [
    "a[4:]"
   ]
  },
  {
   "cell_type": "code",
   "execution_count": 77,
   "id": "0de8011f",
   "metadata": {},
   "outputs": [
    {
     "data": {
      "text/plain": [
       "'asdfghjkl'"
      ]
     },
     "execution_count": 77,
     "metadata": {},
     "output_type": "execute_result"
    }
   ],
   "source": [
    "a[::]"
   ]
  },
  {
   "cell_type": "code",
   "execution_count": 79,
   "id": "96cc444e",
   "metadata": {},
   "outputs": [
    {
     "data": {
      "text/plain": [
       "'afj'"
      ]
     },
     "execution_count": 79,
     "metadata": {},
     "output_type": "execute_result"
    }
   ],
   "source": [
    "a[::3]"
   ]
  },
  {
   "cell_type": "code",
   "execution_count": 81,
   "id": "3e4d7ef2",
   "metadata": {},
   "outputs": [
    {
     "data": {
      "text/plain": [
       "'agl'"
      ]
     },
     "execution_count": 81,
     "metadata": {},
     "output_type": "execute_result"
    }
   ],
   "source": [
    "a[::4]"
   ]
  },
  {
   "cell_type": "code",
   "execution_count": 83,
   "id": "2b4fb4c9",
   "metadata": {},
   "outputs": [
    {
     "data": {
      "text/plain": [
       "'lkjhgfdsa'"
      ]
     },
     "execution_count": 83,
     "metadata": {},
     "output_type": "execute_result"
    }
   ],
   "source": [
    "a[::-1]"
   ]
  },
  {
   "cell_type": "code",
   "execution_count": 84,
   "id": "c4cab422",
   "metadata": {},
   "outputs": [
    {
     "data": {
      "text/plain": [
       "'its called reversing of a string'"
      ]
     },
     "execution_count": 84,
     "metadata": {},
     "output_type": "execute_result"
    }
   ],
   "source": [
    "'its called reversing of a string'"
   ]
  },
  {
   "cell_type": "code",
   "execution_count": 86,
   "id": "0469e249",
   "metadata": {},
   "outputs": [
    {
     "data": {
      "text/plain": [
       "'lkjhgfdsa'"
      ]
     },
     "execution_count": 86,
     "metadata": {},
     "output_type": "execute_result"
    }
   ],
   "source": [
    "a[::-1]"
   ]
  },
  {
   "cell_type": "code",
   "execution_count": 87,
   "id": "887321b4",
   "metadata": {},
   "outputs": [],
   "source": [
    "b=('12345')"
   ]
  },
  {
   "cell_type": "code",
   "execution_count": 89,
   "id": "4234af15",
   "metadata": {},
   "outputs": [
    {
     "data": {
      "text/plain": [
       "'54321'"
      ]
     },
     "execution_count": 89,
     "metadata": {},
     "output_type": "execute_result"
    }
   ],
   "source": [
    "b[::-1]"
   ]
  },
  {
   "cell_type": "code",
   "execution_count": 90,
   "id": "86bb3b96",
   "metadata": {},
   "outputs": [],
   "source": [
    "name = 'sam'"
   ]
  },
  {
   "cell_type": "code",
   "execution_count": 91,
   "id": "703f982b",
   "metadata": {},
   "outputs": [],
   "source": [
    "name2 = 'sam'"
   ]
  },
  {
   "cell_type": "code",
   "execution_count": 93,
   "id": "090ff5b1",
   "metadata": {},
   "outputs": [
    {
     "data": {
      "text/plain": [
       "'sam'"
      ]
     },
     "execution_count": 93,
     "metadata": {},
     "output_type": "execute_result"
    }
   ],
   "source": [
    "name2"
   ]
  },
  {
   "cell_type": "code",
   "execution_count": 94,
   "id": "62ec04d4",
   "metadata": {},
   "outputs": [
    {
     "data": {
      "text/plain": [
       "'namename2'"
      ]
     },
     "execution_count": 94,
     "metadata": {},
     "output_type": "execute_result"
    }
   ],
   "source": [
    "'name'+'name2'"
   ]
  },
  {
   "cell_type": "code",
   "execution_count": 96,
   "id": "921aebd0",
   "metadata": {},
   "outputs": [
    {
     "name": "stdout",
     "output_type": "stream",
     "text": [
      "sam+sam\n"
     ]
    }
   ],
   "source": [
    "print(f\"{name}+{name2}\")"
   ]
  },
  {
   "cell_type": "code",
   "execution_count": null,
   "id": "751040fa",
   "metadata": {},
   "outputs": [],
   "source": []
  },
  {
   "cell_type": "code",
   "execution_count": 101,
   "id": "caf43952",
   "metadata": {},
   "outputs": [
    {
     "data": {
      "text/plain": [
       "'am'"
      ]
     },
     "execution_count": 101,
     "metadata": {},
     "output_type": "execute_result"
    }
   ],
   "source": [
    "name[1:]"
   ]
  },
  {
   "cell_type": "code",
   "execution_count": null,
   "id": "72088b48",
   "metadata": {},
   "outputs": [],
   "source": []
  }
 ],
 "metadata": {
  "kernelspec": {
   "display_name": "Python 3 (ipykernel)",
   "language": "python",
   "name": "python3"
  },
  "language_info": {
   "codemirror_mode": {
    "name": "ipython",
    "version": 3
   },
   "file_extension": ".py",
   "mimetype": "text/x-python",
   "name": "python",
   "nbconvert_exporter": "python",
   "pygments_lexer": "ipython3",
   "version": "3.9.12"
  }
 },
 "nbformat": 4,
 "nbformat_minor": 5
}
