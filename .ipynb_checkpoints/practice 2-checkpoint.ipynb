{
 "cells": [
  {
   "cell_type": "markdown",
   "id": "e5c2a0be",
   "metadata": {},
   "source": [
    "List"
   ]
  },
  {
   "cell_type": "code",
   "execution_count": 1,
   "id": "28c808e5",
   "metadata": {},
   "outputs": [
    {
     "data": {
      "text/plain": [
       "'ordered sequence hold varity of objects using square barkets and comas'"
      ]
     },
     "execution_count": 1,
     "metadata": {},
     "output_type": "execute_result"
    }
   ],
   "source": [
    "'ordered sequence hold varity of objects using square barkets and comas'"
   ]
  },
  {
   "cell_type": "code",
   "execution_count": 2,
   "id": "31fad206",
   "metadata": {},
   "outputs": [
    {
     "ename": "TypeError",
     "evalue": "can only concatenate str (not \"int\") to str",
     "output_type": "error",
     "traceback": [
      "\u001b[0;31m---------------------------------------------------------------------------\u001b[0m",
      "\u001b[0;31mTypeError\u001b[0m                                 Traceback (most recent call last)",
      "Input \u001b[0;32mIn [2]\u001b[0m, in \u001b[0;36m<cell line: 1>\u001b[0;34m()\u001b[0m\n\u001b[0;32m----> 1\u001b[0m list_example\u001b[38;5;241m=\u001b[39m[\u001b[38;5;124;43m'\u001b[39;49m\u001b[38;5;124;43msidra\u001b[39;49m\u001b[38;5;124;43m'\u001b[39;49m\u001b[38;5;241;43m+\u001b[39;49m\u001b[38;5;241;43m3637\u001b[39;49m\u001b[38;5;241m+\u001b[39m\u001b[38;5;241m99.99\u001b[39m\u001b[38;5;241m+\u001b[39m \u001b[38;5;124m\"\u001b[39m\u001b[38;5;124mdev\u001b[39m\u001b[38;5;124m\"\u001b[39m]\n",
      "\u001b[0;31mTypeError\u001b[0m: can only concatenate str (not \"int\") to str"
     ]
    }
   ],
   "source": [
    "#list_example=['sidra'+3637,99.99,\"dev\"] # that was string example love"
   ]
  },
  {
   "cell_type": "code",
   "execution_count": 4,
   "id": "b9401266",
   "metadata": {},
   "outputs": [],
   "source": [
    "list_exmp=['sidra',76276,'dev',88.2]"
   ]
  },
  {
   "cell_type": "code",
   "execution_count": 5,
   "id": "a7eedee2",
   "metadata": {},
   "outputs": [
    {
     "data": {
      "text/plain": [
       "76276"
      ]
     },
     "execution_count": 5,
     "metadata": {},
     "output_type": "execute_result"
    }
   ],
   "source": [
    "list_exmp[1]"
   ]
  },
  {
   "cell_type": "code",
   "execution_count": 7,
   "id": "a1a7850b",
   "metadata": {},
   "outputs": [
    {
     "data": {
      "text/plain": [
       "list"
      ]
     },
     "execution_count": 7,
     "metadata": {},
     "output_type": "execute_result"
    }
   ],
   "source": [
    "type(list_exmp)"
   ]
  },
  {
   "cell_type": "markdown",
   "id": "349250cf",
   "metadata": {},
   "source": [
    "f_string"
   ]
  },
  {
   "cell_type": "code",
   "execution_count": 10,
   "id": "f3fdac51",
   "metadata": {},
   "outputs": [],
   "source": [
    "name= 'sidra'"
   ]
  },
  {
   "cell_type": "code",
   "execution_count": 11,
   "id": "0a5a6b2d",
   "metadata": {},
   "outputs": [
    {
     "name": "stdout",
     "output_type": "stream",
     "text": [
      "my name is sidra\n"
     ]
    }
   ],
   "source": [
    "print(f'my name is {name}')"
   ]
  },
  {
   "cell_type": "code",
   "execution_count": 13,
   "id": "1b1ace49",
   "metadata": {},
   "outputs": [],
   "source": [
    "alist=[1,2,3,4,\"five\"]"
   ]
  },
  {
   "cell_type": "code",
   "execution_count": 14,
   "id": "01645e31",
   "metadata": {},
   "outputs": [],
   "source": [
    "alist[0]='one'"
   ]
  },
  {
   "cell_type": "code",
   "execution_count": 15,
   "id": "627bd734",
   "metadata": {},
   "outputs": [
    {
     "data": {
      "text/plain": [
       "['one', 2, 3, 4, 'five']"
      ]
     },
     "execution_count": 15,
     "metadata": {},
     "output_type": "execute_result"
    }
   ],
   "source": [
    "alist"
   ]
  },
  {
   "cell_type": "code",
   "execution_count": 16,
   "id": "556edc55",
   "metadata": {},
   "outputs": [],
   "source": [
    "alist[3]= 'four'"
   ]
  },
  {
   "cell_type": "code",
   "execution_count": 17,
   "id": "f9bdea9b",
   "metadata": {},
   "outputs": [
    {
     "data": {
      "text/plain": [
       "['one', 2, 3, 'four', 'five']"
      ]
     },
     "execution_count": 17,
     "metadata": {},
     "output_type": "execute_result"
    }
   ],
   "source": [
    "alist\n"
   ]
  },
  {
   "cell_type": "code",
   "execution_count": 18,
   "id": "94ad0f6d",
   "metadata": {},
   "outputs": [],
   "source": [
    "alist.append('six')"
   ]
  },
  {
   "cell_type": "code",
   "execution_count": 19,
   "id": "281267b5",
   "metadata": {},
   "outputs": [
    {
     "data": {
      "text/plain": [
       "['one', 2, 3, 'four', 'five', 'six']"
      ]
     },
     "execution_count": 19,
     "metadata": {},
     "output_type": "execute_result"
    }
   ],
   "source": [
    "alist"
   ]
  },
  {
   "cell_type": "code",
   "execution_count": 20,
   "id": "655167a2",
   "metadata": {},
   "outputs": [
    {
     "data": {
      "text/plain": [
       "3"
      ]
     },
     "execution_count": 20,
     "metadata": {},
     "output_type": "execute_result"
    }
   ],
   "source": [
    "alist.pop(2)"
   ]
  },
  {
   "cell_type": "code",
   "execution_count": 21,
   "id": "d664779a",
   "metadata": {},
   "outputs": [
    {
     "data": {
      "text/plain": [
       "['one', 2, 'four', 'five', 'six']"
      ]
     },
     "execution_count": 21,
     "metadata": {},
     "output_type": "execute_result"
    }
   ],
   "source": [
    "alist"
   ]
  },
  {
   "cell_type": "code",
   "execution_count": 9,
   "id": "95d19c7f",
   "metadata": {},
   "outputs": [],
   "source": [
    "list2=[6,22,4,6,1,4,7,8,2,3,44]"
   ]
  },
  {
   "cell_type": "code",
   "execution_count": 10,
   "id": "fe3a50e0",
   "metadata": {},
   "outputs": [],
   "source": [
    "list2.sort()"
   ]
  },
  {
   "cell_type": "code",
   "execution_count": 11,
   "id": "d0d52573",
   "metadata": {},
   "outputs": [
    {
     "data": {
      "text/plain": [
       "[1, 2, 3, 4, 4, 6, 6, 7, 8, 22, 44]"
      ]
     },
     "execution_count": 11,
     "metadata": {},
     "output_type": "execute_result"
    }
   ],
   "source": [
    "list2"
   ]
  },
  {
   "cell_type": "code",
   "execution_count": 12,
   "id": "c8bf4989",
   "metadata": {},
   "outputs": [
    {
     "data": {
      "text/plain": [
       "4"
      ]
     },
     "execution_count": 12,
     "metadata": {},
     "output_type": "execute_result"
    }
   ],
   "source": [
    "list2[3]"
   ]
  },
  {
   "cell_type": "code",
   "execution_count": 13,
   "id": "91ebdfd9",
   "metadata": {},
   "outputs": [],
   "source": [
    "list2.reverse()"
   ]
  },
  {
   "cell_type": "code",
   "execution_count": 14,
   "id": "eaa7c2d7",
   "metadata": {},
   "outputs": [
    {
     "data": {
      "text/plain": [
       "[44, 22, 8, 7, 6, 6, 4, 4, 3, 2, 1]"
      ]
     },
     "execution_count": 14,
     "metadata": {},
     "output_type": "execute_result"
    }
   ],
   "source": [
    "list2"
   ]
  },
  {
   "cell_type": "code",
   "execution_count": 16,
   "id": "24a6baba",
   "metadata": {},
   "outputs": [
    {
     "ename": "TypeError",
     "evalue": "list.count() takes exactly one argument (0 given)",
     "output_type": "error",
     "traceback": [
      "\u001b[0;31m---------------------------------------------------------------------------\u001b[0m",
      "\u001b[0;31mTypeError\u001b[0m                                 Traceback (most recent call last)",
      "Input \u001b[0;32mIn [16]\u001b[0m, in \u001b[0;36m<cell line: 1>\u001b[0;34m()\u001b[0m\n\u001b[0;32m----> 1\u001b[0m \u001b[43mlist2\u001b[49m\u001b[38;5;241;43m.\u001b[39;49m\u001b[43mcount\u001b[49m\u001b[43m(\u001b[49m\u001b[43m)\u001b[49m\n",
      "\u001b[0;31mTypeError\u001b[0m: list.count() takes exactly one argument (0 given)"
     ]
    }
   ],
   "source": [
    "list2.count()"
   ]
  },
  {
   "cell_type": "code",
   "execution_count": 3,
   "id": "35561218",
   "metadata": {},
   "outputs": [
    {
     "ename": "NameError",
     "evalue": "name 'key1' is not defined",
     "output_type": "error",
     "traceback": [
      "\u001b[0;31m---------------------------------------------------------------------------\u001b[0m",
      "\u001b[0;31mNameError\u001b[0m                                 Traceback (most recent call last)",
      "Input \u001b[0;32mIn [3]\u001b[0m, in \u001b[0;36m<cell line: 1>\u001b[0;34m()\u001b[0m\n\u001b[0;32m----> 1\u001b[0m dic\u001b[38;5;241m=\u001b[39m{\u001b[43mkey1\u001b[49m:\u001b[38;5;124m'\u001b[39m\u001b[38;5;124mvalue1\u001b[39m\u001b[38;5;124m'\u001b[39m,key2:\u001b[38;5;124m'\u001b[39m\u001b[38;5;124mvalue2\u001b[39m\u001b[38;5;124m'\u001b[39m,key3:\u001b[38;5;124m'\u001b[39m\u001b[38;5;124mvalue3\u001b[39m\u001b[38;5;124m'\u001b[39m}\n",
      "\u001b[0;31mNameError\u001b[0m: name 'key1' is not defined"
     ]
    }
   ],
   "source": [
    "dic={key1:'value1',key2:'value2',key3:'value3'}"
   ]
  },
  {
   "cell_type": "code",
   "execution_count": 1,
   "id": "97a0a77b",
   "metadata": {},
   "outputs": [
    {
     "ename": "NameError",
     "evalue": "name 'key1' is not defined",
     "output_type": "error",
     "traceback": [
      "\u001b[0;31m---------------------------------------------------------------------------\u001b[0m",
      "\u001b[0;31mNameError\u001b[0m                                 Traceback (most recent call last)",
      "Input \u001b[0;32mIn [1]\u001b[0m, in \u001b[0;36m<cell line: 1>\u001b[0;34m()\u001b[0m\n\u001b[0;32m----> 1\u001b[0m \u001b[43mkey1\u001b[49m\n",
      "\u001b[0;31mNameError\u001b[0m: name 'key1' is not defined"
     ]
    }
   ],
   "source": [
    "key1"
   ]
  },
  {
   "cell_type": "code",
   "execution_count": 32,
   "id": "76e29426",
   "metadata": {},
   "outputs": [
    {
     "ename": "NameError",
     "evalue": "name 'key2' is not defined",
     "output_type": "error",
     "traceback": [
      "\u001b[0;31m---------------------------------------------------------------------------\u001b[0m",
      "\u001b[0;31mNameError\u001b[0m                                 Traceback (most recent call last)",
      "Input \u001b[0;32mIn [32]\u001b[0m, in \u001b[0;36m<cell line: 1>\u001b[0;34m()\u001b[0m\n\u001b[0;32m----> 1\u001b[0m dic[\u001b[43mkey2\u001b[49m]\n",
      "\u001b[0;31mNameError\u001b[0m: name 'key2' is not defined"
     ]
    }
   ],
   "source": [
    "dic[key2]"
   ]
  },
  {
   "cell_type": "code",
   "execution_count": 33,
   "id": "862cb8b6",
   "metadata": {},
   "outputs": [
    {
     "data": {
      "text/plain": [
       "'value2'"
      ]
     },
     "execution_count": 33,
     "metadata": {},
     "output_type": "execute_result"
    }
   ],
   "source": [
    "dic['key2']"
   ]
  },
  {
   "cell_type": "code",
   "execution_count": 34,
   "id": "38801822",
   "metadata": {},
   "outputs": [
    {
     "data": {
      "text/plain": [
       "'same as refrence value got it '"
      ]
     },
     "execution_count": 34,
     "metadata": {},
     "output_type": "execute_result"
    }
   ],
   "source": [
    "'same as refrence value got it '"
   ]
  },
  {
   "cell_type": "code",
   "execution_count": 36,
   "id": "47f71f80",
   "metadata": {},
   "outputs": [],
   "source": [
    "dic2={'apples':'11Rs','banana':'22Rs','oranges':'33'}"
   ]
  },
  {
   "cell_type": "code",
   "execution_count": 38,
   "id": "eac5394e",
   "metadata": {},
   "outputs": [
    {
     "ename": "NameError",
     "evalue": "name 'banana' is not defined",
     "output_type": "error",
     "traceback": [
      "\u001b[0;31m---------------------------------------------------------------------------\u001b[0m",
      "\u001b[0;31mNameError\u001b[0m                                 Traceback (most recent call last)",
      "Input \u001b[0;32mIn [38]\u001b[0m, in \u001b[0;36m<cell line: 1>\u001b[0;34m()\u001b[0m\n\u001b[0;32m----> 1\u001b[0m dic2[\u001b[43mbanana\u001b[49m]\n",
      "\u001b[0;31mNameError\u001b[0m: name 'banana' is not defined"
     ]
    }
   ],
   "source": [
    "dic2[banana]"
   ]
  },
  {
   "cell_type": "code",
   "execution_count": 40,
   "id": "41847d61",
   "metadata": {},
   "outputs": [
    {
     "data": {
      "text/plain": [
       "'22Rs'"
      ]
     },
     "execution_count": 40,
     "metadata": {},
     "output_type": "execute_result"
    }
   ],
   "source": [
    "dic2['banana']"
   ]
  },
  {
   "cell_type": "code",
   "execution_count": 41,
   "id": "c67f1025",
   "metadata": {},
   "outputs": [
    {
     "data": {
      "text/plain": [
       "'11Rs'"
      ]
     },
     "execution_count": 41,
     "metadata": {},
     "output_type": "execute_result"
    }
   ],
   "source": [
    "dic2['apples']"
   ]
  },
  {
   "cell_type": "code",
   "execution_count": 42,
   "id": "d89823cb",
   "metadata": {},
   "outputs": [
    {
     "data": {
      "text/plain": [
       "'33'"
      ]
     },
     "execution_count": 42,
     "metadata": {},
     "output_type": "execute_result"
    }
   ],
   "source": [
    "dic2['oranges']"
   ]
  },
  {
   "cell_type": "code",
   "execution_count": 43,
   "id": "0679c24d",
   "metadata": {},
   "outputs": [
    {
     "data": {
      "text/plain": [
       "'22RS'"
      ]
     },
     "execution_count": 43,
     "metadata": {},
     "output_type": "execute_result"
    }
   ],
   "source": [
    "dic2['banana'].upper()"
   ]
  },
  {
   "cell_type": "code",
   "execution_count": 46,
   "id": "1b216f44",
   "metadata": {},
   "outputs": [
    {
     "data": {
      "text/plain": [
       "dict_keys(['apples', 'banana', 'oranges'])"
      ]
     },
     "execution_count": 46,
     "metadata": {},
     "output_type": "execute_result"
    }
   ],
   "source": [
    "dic2.keys()"
   ]
  },
  {
   "cell_type": "code",
   "execution_count": 47,
   "id": "a891c7c9",
   "metadata": {},
   "outputs": [
    {
     "data": {
      "text/plain": [
       "dict_values(['11Rs', '22Rs', '33'])"
      ]
     },
     "execution_count": 47,
     "metadata": {},
     "output_type": "execute_result"
    }
   ],
   "source": [
    "dic2.values()"
   ]
  },
  {
   "cell_type": "code",
   "execution_count": 49,
   "id": "25a13c43",
   "metadata": {},
   "outputs": [
    {
     "data": {
      "text/plain": [
       "dict_items([('apples', '11Rs'), ('banana', '22Rs'), ('oranges', '33')])"
      ]
     },
     "execution_count": 49,
     "metadata": {},
     "output_type": "execute_result"
    }
   ],
   "source": [
    "dic2.items()"
   ]
  },
  {
   "cell_type": "code",
   "execution_count": 50,
   "id": "71e7f2cb",
   "metadata": {},
   "outputs": [],
   "source": [
    "tup=(1,2,2,3)"
   ]
  },
  {
   "cell_type": "code",
   "execution_count": 51,
   "id": "1293bf00",
   "metadata": {},
   "outputs": [
    {
     "data": {
      "text/plain": [
       "'immutable elements that can not be reassigned '"
      ]
     },
     "execution_count": 51,
     "metadata": {},
     "output_type": "execute_result"
    }
   ],
   "source": [
    "'immutable elements that can not be reassigned '"
   ]
  },
  {
   "cell_type": "code",
   "execution_count": 52,
   "id": "e161948c",
   "metadata": {},
   "outputs": [
    {
     "data": {
      "text/plain": [
       "1"
      ]
     },
     "execution_count": 52,
     "metadata": {},
     "output_type": "execute_result"
    }
   ],
   "source": [
    "tup[0]"
   ]
  },
  {
   "cell_type": "code",
   "execution_count": 53,
   "id": "acb45f07",
   "metadata": {},
   "outputs": [
    {
     "data": {
      "text/plain": [
       "3"
      ]
     },
     "execution_count": 53,
     "metadata": {},
     "output_type": "execute_result"
    }
   ],
   "source": [
    "tup[3]"
   ]
  },
  {
   "cell_type": "code",
   "execution_count": 54,
   "id": "777faa99",
   "metadata": {},
   "outputs": [
    {
     "data": {
      "text/plain": [
       "2"
      ]
     },
     "execution_count": 54,
     "metadata": {},
     "output_type": "execute_result"
    }
   ],
   "source": [
    "tup[2]"
   ]
  },
  {
   "cell_type": "code",
   "execution_count": 55,
   "id": "87aa646d",
   "metadata": {},
   "outputs": [
    {
     "ename": "TypeError",
     "evalue": "tuple.count() takes exactly one argument (0 given)",
     "output_type": "error",
     "traceback": [
      "\u001b[0;31m---------------------------------------------------------------------------\u001b[0m",
      "\u001b[0;31mTypeError\u001b[0m                                 Traceback (most recent call last)",
      "Input \u001b[0;32mIn [55]\u001b[0m, in \u001b[0;36m<cell line: 1>\u001b[0;34m()\u001b[0m\n\u001b[0;32m----> 1\u001b[0m \u001b[43mtup\u001b[49m\u001b[38;5;241;43m.\u001b[39;49m\u001b[43mcount\u001b[49m\u001b[43m(\u001b[49m\u001b[43m)\u001b[49m\n",
      "\u001b[0;31mTypeError\u001b[0m: tuple.count() takes exactly one argument (0 given)"
     ]
    }
   ],
   "source": [
    "tup.count()"
   ]
  },
  {
   "cell_type": "code",
   "execution_count": 56,
   "id": "07bd8418",
   "metadata": {},
   "outputs": [
    {
     "data": {
      "text/plain": [
       "2"
      ]
     },
     "execution_count": 56,
     "metadata": {},
     "output_type": "execute_result"
    }
   ],
   "source": [
    "tup.count(2)"
   ]
  },
  {
   "cell_type": "code",
   "execution_count": 57,
   "id": "77f9a6aa",
   "metadata": {},
   "outputs": [
    {
     "data": {
      "text/plain": [
       "1"
      ]
     },
     "execution_count": 57,
     "metadata": {},
     "output_type": "execute_result"
    }
   ],
   "source": [
    "tup.count(3)"
   ]
  },
  {
   "cell_type": "code",
   "execution_count": 58,
   "id": "fdf59029",
   "metadata": {},
   "outputs": [
    {
     "data": {
      "text/plain": [
       "3"
      ]
     },
     "execution_count": 58,
     "metadata": {},
     "output_type": "execute_result"
    }
   ],
   "source": [
    "tup.index(3)"
   ]
  },
  {
   "cell_type": "code",
   "execution_count": 59,
   "id": "5245ed8a",
   "metadata": {},
   "outputs": [
    {
     "data": {
      "text/plain": [
       "0"
      ]
     },
     "execution_count": 59,
     "metadata": {},
     "output_type": "execute_result"
    }
   ],
   "source": [
    "tup.index(1)"
   ]
  },
  {
   "cell_type": "code",
   "execution_count": 60,
   "id": "0bbceb7e",
   "metadata": {},
   "outputs": [
    {
     "data": {
      "text/plain": [
       "'sets'"
      ]
     },
     "execution_count": 60,
     "metadata": {},
     "output_type": "execute_result"
    }
   ],
   "source": [
    "'sets'"
   ]
  },
  {
   "cell_type": "code",
   "execution_count": 61,
   "id": "da1eb289",
   "metadata": {},
   "outputs": [],
   "source": [
    "a_new_list=[7,2,3,4,5]"
   ]
  },
  {
   "cell_type": "code",
   "execution_count": 62,
   "id": "22037714",
   "metadata": {},
   "outputs": [
    {
     "data": {
      "text/plain": [
       "{2, 3, 4, 5, 7}"
      ]
     },
     "execution_count": 62,
     "metadata": {},
     "output_type": "execute_result"
    }
   ],
   "source": [
    "set(a_new_list)"
   ]
  },
  {
   "cell_type": "code",
   "execution_count": 63,
   "id": "86993d90",
   "metadata": {},
   "outputs": [
    {
     "data": {
      "text/plain": [
       "'booleans are true or false'"
      ]
     },
     "execution_count": 63,
     "metadata": {},
     "output_type": "execute_result"
    }
   ],
   "source": [
    "'booleans are true or false'"
   ]
  },
  {
   "cell_type": "code",
   "execution_count": 64,
   "id": "51b4b067",
   "metadata": {},
   "outputs": [
    {
     "ename": "SyntaxError",
     "evalue": "cannot assign to literal (1702499376.py, line 1)",
     "output_type": "error",
     "traceback": [
      "\u001b[0;36m  Input \u001b[0;32mIn [64]\u001b[0;36m\u001b[0m\n\u001b[0;31m    5=3\u001b[0m\n\u001b[0m    ^\u001b[0m\n\u001b[0;31mSyntaxError\u001b[0m\u001b[0;31m:\u001b[0m cannot assign to literal\n"
     ]
    }
   ],
   "source": [
    "learn how to use boolean"
   ]
  },
  {
   "cell_type": "code",
   "execution_count": null,
   "id": "3649309f",
   "metadata": {},
   "outputs": [],
   "source": []
  }
 ],
 "metadata": {
  "kernelspec": {
   "display_name": "Python 3 (ipykernel)",
   "language": "python",
   "name": "python3"
  },
  "language_info": {
   "codemirror_mode": {
    "name": "ipython",
    "version": 3
   },
   "file_extension": ".py",
   "mimetype": "text/x-python",
   "name": "python",
   "nbconvert_exporter": "python",
   "pygments_lexer": "ipython3",
   "version": "3.9.12"
  }
 },
 "nbformat": 4,
 "nbformat_minor": 5
}
