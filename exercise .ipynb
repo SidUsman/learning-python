{
 "cells": [
  {
   "cell_type": "code",
   "execution_count": 1,
   "id": "f563f6d7",
   "metadata": {},
   "outputs": [],
   "source": [
    "#lesser of two evens :write a function that returuns the lesser of \n",
    "#two given numbers if both numbers are even , but returns the greate\n",
    "#if one or both numbers are odd"
   ]
  },
  {
   "cell_type": "code",
   "execution_count": 9,
   "id": "4998591d",
   "metadata": {},
   "outputs": [],
   "source": [
    "def lesser_even(x,y):\n",
    "    if x %2 == 0 and y %2 == 0:\n",
    "        print (min(x,y))\n",
    "    else:\n",
    "        print (max(x,y))\n",
    "        \n",
    "                "
   ]
  },
  {
   "cell_type": "code",
   "execution_count": 3,
   "id": "d173b669",
   "metadata": {},
   "outputs": [
    {
     "data": {
      "text/plain": [
       "1"
      ]
     },
     "execution_count": 3,
     "metadata": {},
     "output_type": "execute_result"
    }
   ],
   "source": [
    "min(1,2)"
   ]
  },
  {
   "cell_type": "code",
   "execution_count": 6,
   "id": "9d8b5683",
   "metadata": {},
   "outputs": [
    {
     "name": "stdout",
     "output_type": "stream",
     "text": [
      "2\n"
     ]
    }
   ],
   "source": [
    "lesser_even(2,4)"
   ]
  },
  {
   "cell_type": "code",
   "execution_count": 13,
   "id": "33d22c34",
   "metadata": {},
   "outputs": [],
   "source": [
    "lesser_even(2,5)"
   ]
  },
  {
   "cell_type": "code",
   "execution_count": null,
   "id": "a4a11433",
   "metadata": {},
   "outputs": [],
   "source": []
  },
  {
   "cell_type": "code",
   "execution_count": null,
   "id": "e2d8f39a",
   "metadata": {},
   "outputs": [],
   "source": []
  },
  {
   "cell_type": "code",
   "execution_count": 11,
   "id": "33da54f4",
   "metadata": {},
   "outputs": [],
   "source": [
    "#write a function tahke a two word string and return true if \n",
    "#both word begain with samee letter"
   ]
  },
  {
   "cell_type": "code",
   "execution_count": 21,
   "id": "a69db50e",
   "metadata": {},
   "outputs": [],
   "source": [
    "def animal_crackers (text): \n",
    "    splitingtext = text.split()\n",
    "    word1 = splitingtext[0]\n",
    "    word2 = splitingtext[1]\n",
    "    if word1[0] == word2 [0]:\n",
    "        print (True)\n",
    "    else:\n",
    "        print (False)\n",
    "    "
   ]
  },
  {
   "cell_type": "code",
   "execution_count": 16,
   "id": "0ca81a12",
   "metadata": {},
   "outputs": [
    {
     "name": "stdout",
     "output_type": "stream",
     "text": [
      "True\n"
     ]
    }
   ],
   "source": [
    "animal_crackers('levelhead lama')"
   ]
  },
  {
   "cell_type": "code",
   "execution_count": 22,
   "id": "47cea72f",
   "metadata": {},
   "outputs": [
    {
     "name": "stdout",
     "output_type": "stream",
     "text": [
      "False\n"
     ]
    }
   ],
   "source": [
    "animal_crackers('lama snail')"
   ]
  },
  {
   "cell_type": "code",
   "execution_count": null,
   "id": "3fe234b5",
   "metadata": {},
   "outputs": [],
   "source": [
    "def animal_crackers(text):\n",
    "    splitingtext = text.split()\n",
    "    "
   ]
  },
  {
   "cell_type": "code",
   "execution_count": null,
   "id": "f3d14b4a",
   "metadata": {},
   "outputs": [],
   "source": []
  },
  {
   "cell_type": "code",
   "execution_count": 23,
   "id": "8f016e63",
   "metadata": {},
   "outputs": [],
   "source": [
    "#given two int return true if sum is 20 or one of int is 20 else false"
   ]
  },
  {
   "cell_type": "code",
   "execution_count": 24,
   "id": "f3f864a9",
   "metadata": {},
   "outputs": [],
   "source": [
    "def is_twenty(x,y):\n",
    "    if x+y == 20 or x==20 or y==20 :\n",
    "        return True \n",
    "    else :\n",
    "        return False"
   ]
  },
  {
   "cell_type": "code",
   "execution_count": 25,
   "id": "b7334839",
   "metadata": {},
   "outputs": [
    {
     "data": {
      "text/plain": [
       "True"
      ]
     },
     "execution_count": 25,
     "metadata": {},
     "output_type": "execute_result"
    }
   ],
   "source": [
    "is_twenty(10,10)"
   ]
  },
  {
   "cell_type": "code",
   "execution_count": 26,
   "id": "f7238264",
   "metadata": {},
   "outputs": [
    {
     "data": {
      "text/plain": [
       "True"
      ]
     },
     "execution_count": 26,
     "metadata": {},
     "output_type": "execute_result"
    }
   ],
   "source": [
    "is_twenty(20,1)"
   ]
  },
  {
   "cell_type": "code",
   "execution_count": 27,
   "id": "d927a4f3",
   "metadata": {},
   "outputs": [
    {
     "data": {
      "text/plain": [
       "False"
      ]
     },
     "execution_count": 27,
     "metadata": {},
     "output_type": "execute_result"
    }
   ],
   "source": [
    "is_twenty(11,2)"
   ]
  },
  {
   "cell_type": "code",
   "execution_count": 28,
   "id": "16d0af74",
   "metadata": {},
   "outputs": [],
   "source": [
    "def check_twenty(x,y):\n",
    "    return x+y==20 or x==20 or y==20"
   ]
  },
  {
   "cell_type": "code",
   "execution_count": 29,
   "id": "bed757be",
   "metadata": {},
   "outputs": [
    {
     "data": {
      "text/plain": [
       "True"
      ]
     },
     "execution_count": 29,
     "metadata": {},
     "output_type": "execute_result"
    }
   ],
   "source": [
    "check_twenty(10,10)"
   ]
  },
  {
   "cell_type": "code",
   "execution_count": 30,
   "id": "c8eea3f0",
   "metadata": {},
   "outputs": [
    {
     "data": {
      "text/plain": [
       "False"
      ]
     },
     "execution_count": 30,
     "metadata": {},
     "output_type": "execute_result"
    }
   ],
   "source": [
    "check_twenty(10,1)"
   ]
  },
  {
   "cell_type": "code",
   "execution_count": null,
   "id": "4b0e3b4e",
   "metadata": {},
   "outputs": [],
   "source": []
  }
 ],
 "metadata": {
  "kernelspec": {
   "display_name": "Python 3 (ipykernel)",
   "language": "python",
   "name": "python3"
  },
  "language_info": {
   "codemirror_mode": {
    "name": "ipython",
    "version": 3
   },
   "file_extension": ".py",
   "mimetype": "text/x-python",
   "name": "python",
   "nbconvert_exporter": "python",
   "pygments_lexer": "ipython3",
   "version": "3.9.12"
  }
 },
 "nbformat": 4,
 "nbformat_minor": 5
}
