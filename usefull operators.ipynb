{
 "cells": [
  {
   "cell_type": "code",
   "execution_count": 1,
   "id": "260888dc",
   "metadata": {},
   "outputs": [],
   "source": [
    "#enumurate\n",
    "#litral meaning mention anumber of things one by one \n",
    "#enumurate a collection and along tha asign it a counters as keys \n"
   ]
  },
  {
   "cell_type": "code",
   "execution_count": 6,
   "id": "00f27b81",
   "metadata": {},
   "outputs": [
    {
     "name": "stdout",
     "output_type": "stream",
     "text": [
      "at the index 0 the letter is a\n",
      "at the index 1 the letter is b\n",
      "at the index 2 the letter is c\n",
      "at the index 3 the letter is d\n"
     ]
    }
   ],
   "source": [
    "index_count=0\n",
    "for letter in 'abcd':\n",
    "    print('at the index {} the letter is {}'.format(index_count,letter))\n",
    "    index_count +=1"
   ]
  },
  {
   "cell_type": "code",
   "execution_count": 10,
   "id": "48be8566",
   "metadata": {},
   "outputs": [
    {
     "name": "stdout",
     "output_type": "stream",
     "text": [
      "a\n",
      "b\n",
      "c\n",
      "d\n"
     ]
    }
   ],
   "source": [
    "index_count = 0\n",
    "word = 'abcd'\n",
    "for letter in word:\n",
    "    print(word[index_count])\n",
    "    index_count +=1\n",
    "    #it will just give us all the letter no index value "
   ]
  },
  {
   "cell_type": "code",
   "execution_count": 12,
   "id": "1446ad80",
   "metadata": {},
   "outputs": [
    {
     "name": "stdout",
     "output_type": "stream",
     "text": [
      "(0, 'a')\n",
      "(1, 'b')\n",
      "(2, 'c')\n",
      "(3, 'd')\n"
     ]
    }
   ],
   "source": [
    "word = 'abcd'\n",
    "for letter in enumerate(word):\n",
    "    print (letter)"
   ]
  },
  {
   "cell_type": "code",
   "execution_count": 14,
   "id": "8335c17b",
   "metadata": {},
   "outputs": [
    {
     "name": "stdout",
     "output_type": "stream",
     "text": [
      "0 a\n",
      "1 b\n",
      "2 c\n",
      "3 d\n"
     ]
    }
   ],
   "source": [
    "word = 'abcd'\n",
    "for letter,index in enumerate(word):\n",
    "    print(letter,index)"
   ]
  },
  {
   "cell_type": "code",
   "execution_count": 18,
   "id": "308b41eb",
   "metadata": {},
   "outputs": [
    {
     "name": "stdout",
     "output_type": "stream",
     "text": [
      "a 0 \n",
      "\n",
      "b 1 \n",
      "\n",
      "c 2 \n",
      "\n",
      "d 3 \n",
      "\n"
     ]
    }
   ],
   "source": [
    "word = 'abcd'\n",
    "for letter,index in enumerate(word):\n",
    "    print(index,letter,'\\n')"
   ]
  },
  {
   "cell_type": "code",
   "execution_count": 17,
   "id": "9ef14574",
   "metadata": {},
   "outputs": [
    {
     "name": "stdout",
     "output_type": "stream",
     "text": [
      "a\n",
      "0\n",
      "\n",
      "\n",
      "b\n",
      "1\n",
      "\n",
      "\n",
      "c\n",
      "2\n",
      "\n",
      "\n",
      "d\n",
      "3\n",
      "\n",
      "\n"
     ]
    }
   ],
   "source": [
    "for letter,index in enumerate(word):\n",
    "    print (index)\n",
    "    print (letter)\n",
    "    print ('\\n')"
   ]
  },
  {
   "cell_type": "code",
   "execution_count": 19,
   "id": "a68a35d3",
   "metadata": {},
   "outputs": [],
   "source": [
    "#zip"
   ]
  },
  {
   "cell_type": "code",
   "execution_count": 21,
   "id": "9d22a2cd",
   "metadata": {},
   "outputs": [
    {
     "name": "stdout",
     "output_type": "stream",
     "text": [
      "(1, 2)\n",
      "(3, 4)\n",
      "(5, 6)\n"
     ]
    }
   ],
   "source": [
    "mylist1=[1,3,5]\n",
    "mylist2=[2,4,6]\n",
    "for item in zip(mylist1,mylist2):\n",
    "    print(item)"
   ]
  },
  {
   "cell_type": "code",
   "execution_count": 22,
   "id": "83611676",
   "metadata": {},
   "outputs": [
    {
     "data": {
      "text/plain": [
       "[(1, 2), (3, 4), (5, 6)]"
      ]
     },
     "execution_count": 22,
     "metadata": {},
     "output_type": "execute_result"
    }
   ],
   "source": [
    "list(zip(mylist1,mylist2))"
   ]
  },
  {
   "cell_type": "code",
   "execution_count": 23,
   "id": "742b1045",
   "metadata": {},
   "outputs": [
    {
     "data": {
      "text/plain": [
       "[0, 2, 4, 6, 8, 10]"
      ]
     },
     "execution_count": 23,
     "metadata": {},
     "output_type": "execute_result"
    }
   ],
   "source": [
    "list(range(0,11,2))"
   ]
  },
  {
   "cell_type": "code",
   "execution_count": 25,
   "id": "0a51d1fb",
   "metadata": {},
   "outputs": [
    {
     "data": {
      "text/plain": [
       "False"
      ]
     },
     "execution_count": 25,
     "metadata": {},
     "output_type": "execute_result"
    }
   ],
   "source": [
    "'x' in [1,2,3]"
   ]
  },
  {
   "cell_type": "code",
   "execution_count": 26,
   "id": "5ac9dc71",
   "metadata": {},
   "outputs": [
    {
     "data": {
      "text/plain": [
       "True"
      ]
     },
     "execution_count": 26,
     "metadata": {},
     "output_type": "execute_result"
    }
   ],
   "source": [
    "1 in [1,2,3]"
   ]
  },
  {
   "cell_type": "code",
   "execution_count": 30,
   "id": "6ef6d6d1",
   "metadata": {},
   "outputs": [
    {
     "data": {
      "text/plain": [
       "False"
      ]
     },
     "execution_count": 30,
     "metadata": {},
     "output_type": "execute_result"
    }
   ],
   "source": [
    "'apple' in {'key1':'ban','key2':'apple','key3':'diol'}"
   ]
  },
  {
   "cell_type": "code",
   "execution_count": 32,
   "id": "87229458",
   "metadata": {},
   "outputs": [],
   "source": [
    "mylist = [1,33,5,6]"
   ]
  },
  {
   "cell_type": "code",
   "execution_count": 33,
   "id": "24369f90",
   "metadata": {},
   "outputs": [
    {
     "data": {
      "text/plain": [
       "1"
      ]
     },
     "execution_count": 33,
     "metadata": {},
     "output_type": "execute_result"
    }
   ],
   "source": [
    "min(mylist)"
   ]
  },
  {
   "cell_type": "code",
   "execution_count": 34,
   "id": "fe9d86ad",
   "metadata": {},
   "outputs": [
    {
     "data": {
      "text/plain": [
       "33"
      ]
     },
     "execution_count": 34,
     "metadata": {},
     "output_type": "execute_result"
    }
   ],
   "source": [
    "max(mylist)"
   ]
  },
  {
   "cell_type": "code",
   "execution_count": 35,
   "id": "0c779b61",
   "metadata": {},
   "outputs": [],
   "source": [
    "from random import shuffle "
   ]
  },
  {
   "cell_type": "code",
   "execution_count": 36,
   "id": "af8f7001",
   "metadata": {},
   "outputs": [],
   "source": [
    "shuffle(mylist)"
   ]
  },
  {
   "cell_type": "code",
   "execution_count": 37,
   "id": "650b2d1c",
   "metadata": {},
   "outputs": [
    {
     "data": {
      "text/plain": [
       "[5, 6, 33, 1]"
      ]
     },
     "execution_count": 37,
     "metadata": {},
     "output_type": "execute_result"
    }
   ],
   "source": [
    "mylist"
   ]
  },
  {
   "cell_type": "code",
   "execution_count": 38,
   "id": "10668b8c",
   "metadata": {},
   "outputs": [],
   "source": [
    "from random import randint"
   ]
  },
  {
   "cell_type": "code",
   "execution_count": 39,
   "id": "6b87fd64",
   "metadata": {},
   "outputs": [
    {
     "ename": "TypeError",
     "evalue": "randint() missing 1 required positional argument: 'b'",
     "output_type": "error",
     "traceback": [
      "\u001b[0;31m---------------------------------------------------------------------------\u001b[0m",
      "\u001b[0;31mTypeError\u001b[0m                                 Traceback (most recent call last)",
      "Input \u001b[0;32mIn [39]\u001b[0m, in \u001b[0;36m<cell line: 1>\u001b[0;34m()\u001b[0m\n\u001b[0;32m----> 1\u001b[0m \u001b[43mrandint\u001b[49m\u001b[43m(\u001b[49m\u001b[43mmylist\u001b[49m\u001b[43m)\u001b[49m\n",
      "\u001b[0;31mTypeError\u001b[0m: randint() missing 1 required positional argument: 'b'"
     ]
    }
   ],
   "source": [
    "randint(mylist)"
   ]
  },
  {
   "cell_type": "code",
   "execution_count": 40,
   "id": "8e8d92a9",
   "metadata": {},
   "outputs": [
    {
     "data": {
      "text/plain": [
       "95"
      ]
     },
     "execution_count": 40,
     "metadata": {},
     "output_type": "execute_result"
    }
   ],
   "source": [
    "randint(0,100)"
   ]
  },
  {
   "cell_type": "code",
   "execution_count": 41,
   "id": "5acbd8f4",
   "metadata": {},
   "outputs": [],
   "source": [
    "number = randint(0,1000)"
   ]
  },
  {
   "cell_type": "code",
   "execution_count": 42,
   "id": "e74902e9",
   "metadata": {},
   "outputs": [
    {
     "data": {
      "text/plain": [
       "817"
      ]
     },
     "execution_count": 42,
     "metadata": {},
     "output_type": "execute_result"
    }
   ],
   "source": [
    "number"
   ]
  },
  {
   "cell_type": "code",
   "execution_count": 51,
   "id": "7e337b58",
   "metadata": {},
   "outputs": [
    {
     "ename": "TypeError",
     "evalue": "'str' object is not callable",
     "output_type": "error",
     "traceback": [
      "\u001b[0;31m---------------------------------------------------------------------------\u001b[0m",
      "\u001b[0;31mTypeError\u001b[0m                                 Traceback (most recent call last)",
      "Input \u001b[0;32mIn [51]\u001b[0m, in \u001b[0;36m<cell line: 1>\u001b[0;34m()\u001b[0m\n\u001b[0;32m----> 1\u001b[0m \u001b[38;5;28;43minput\u001b[39;49m\u001b[43m(\u001b[49m\u001b[38;5;124;43m\"\u001b[39;49m\u001b[38;5;124;43mwrite a number here:\u001b[39;49m\u001b[38;5;130;43;01m\\n\u001b[39;49;00m\u001b[38;5;124;43m\"\u001b[39;49m\u001b[43m)\u001b[49m\n",
      "\u001b[0;31mTypeError\u001b[0m: 'str' object is not callable"
     ]
    }
   ],
   "source": [
    "input(\"write a number here:\\n\")"
   ]
  },
  {
   "cell_type": "markdown",
   "id": "64f87f19",
   "metadata": {},
   "source": [
    "help(mylist.insert)"
   ]
  },
  {
   "cell_type": "code",
   "execution_count": null,
   "id": "5d356434",
   "metadata": {},
   "outputs": [],
   "source": []
  }
 ],
 "metadata": {
  "kernelspec": {
   "display_name": "Python 3 (ipykernel)",
   "language": "python",
   "name": "python3"
  },
  "language_info": {
   "codemirror_mode": {
    "name": "ipython",
    "version": 3
   },
   "file_extension": ".py",
   "mimetype": "text/x-python",
   "name": "python",
   "nbconvert_exporter": "python",
   "pygments_lexer": "ipython3",
   "version": "3.9.12"
  }
 },
 "nbformat": 4,
 "nbformat_minor": 5
}
