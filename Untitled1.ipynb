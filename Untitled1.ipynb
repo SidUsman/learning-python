{
 "cells": [
  {
   "cell_type": "code",
   "execution_count": 1,
   "id": "1be00aab",
   "metadata": {},
   "outputs": [],
   "source": [
    "#write a function that compute the volume of a sphere given its radius"
   ]
  },
  {
   "cell_type": "code",
   "execution_count": 4,
   "id": "8e5e89a1",
   "metadata": {},
   "outputs": [],
   "source": [
    "def volum(rad):\n",
    "    \n",
    "    return (4/3)* (3.14) * (rad**3)"
   ]
  },
  {
   "cell_type": "code",
   "execution_count": 5,
   "id": "5ca10d11",
   "metadata": {},
   "outputs": [
    {
     "data": {
      "text/plain": [
       "904320.0"
      ]
     },
     "execution_count": 5,
     "metadata": {},
     "output_type": "execute_result"
    }
   ],
   "source": [
    "volum(60)"
   ]
  },
  {
   "cell_type": "code",
   "execution_count": 6,
   "id": "f9aceef2",
   "metadata": {},
   "outputs": [
    {
     "data": {
      "text/plain": [
       "904.3199999999999"
      ]
     },
     "execution_count": 6,
     "metadata": {},
     "output_type": "execute_result"
    }
   ],
   "source": [
    "volum(6)"
   ]
  },
  {
   "cell_type": "code",
   "execution_count": null,
   "id": "20453f7d",
   "metadata": {},
   "outputs": [],
   "source": []
  }
 ],
 "metadata": {
  "kernelspec": {
   "display_name": "Python 3 (ipykernel)",
   "language": "python",
   "name": "python3"
  },
  "language_info": {
   "codemirror_mode": {
    "name": "ipython",
    "version": 3
   },
   "file_extension": ".py",
   "mimetype": "text/x-python",
   "name": "python",
   "nbconvert_exporter": "python",
   "pygments_lexer": "ipython3",
   "version": "3.9.12"
  }
 },
 "nbformat": 4,
 "nbformat_minor": 5
}
