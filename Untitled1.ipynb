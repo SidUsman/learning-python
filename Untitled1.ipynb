{
 "cells": [
  {
   "cell_type": "code",
   "execution_count": 1,
   "id": "a2107627",
   "metadata": {},
   "outputs": [],
   "source": [
    "#write a function that compute the volume of a sphere given its radius"
   ]
  },
  {
   "cell_type": "code",
   "execution_count": 4,
   "id": "9a4e5ebc",
   "metadata": {},
   "outputs": [],
   "source": [
    "def volum(rad):\n",
    "    \n",
    "    return (4/3)* (3.14) * (rad**3)"
   ]
  },
  {
   "cell_type": "code",
   "execution_count": 5,
   "id": "5ce51f55",
   "metadata": {},
   "outputs": [
    {
     "data": {
      "text/plain": [
       "904320.0"
      ]
     },
     "execution_count": 5,
     "metadata": {},
     "output_type": "execute_result"
    }
   ],
   "source": [
    "volum(60)"
   ]
  },
  {
   "cell_type": "code",
   "execution_count": 6,
   "id": "47f36088",
   "metadata": {},
   "outputs": [
    {
     "data": {
      "text/plain": [
       "904.3199999999999"
      ]
     },
     "execution_count": 6,
     "metadata": {},
     "output_type": "execute_result"
    }
   ],
   "source": [
    "volum(6)"
   ]
  },
  {
   "cell_type": "code",
   "execution_count": 7,
   "id": "96e26269",
   "metadata": {},
   "outputs": [],
   "source": [
    "#write a func that check wether the number is in given range(inclusive of high n low)"
   ]
  },
  {
   "cell_type": "code",
   "execution_count": 8,
   "id": "901e948e",
   "metadata": {},
   "outputs": [],
   "source": []
  },
  {
   "cell_type": "code",
   "execution_count": 26,
   "id": "e1da308e",
   "metadata": {},
   "outputs": [],
   "source": [
    "def check_range(num,low,high):\n",
    "    if num in range(low,high+1):\n",
    "        print ('number is in range')\n",
    "    else :\n",
    "        print ('number not in range')\n",
    "    "
   ]
  },
  {
   "cell_type": "code",
   "execution_count": 27,
   "id": "82b94fbf",
   "metadata": {},
   "outputs": [
    {
     "ename": "TypeError",
     "evalue": "'tuple' object is not callable",
     "output_type": "error",
     "traceback": [
      "\u001b[0;31m---------------------------------------------------------------------------\u001b[0m",
      "\u001b[0;31mTypeError\u001b[0m                                 Traceback (most recent call last)",
      "Input \u001b[0;32mIn [27]\u001b[0m, in \u001b[0;36m<cell line: 1>\u001b[0;34m()\u001b[0m\n\u001b[0;32m----> 1\u001b[0m \u001b[43mcheck_range\u001b[49m\u001b[43m(\u001b[49m\u001b[38;5;241;43m4\u001b[39;49m\u001b[43m,\u001b[49m\u001b[38;5;241;43m0\u001b[39;49m\u001b[43m,\u001b[49m\u001b[38;5;241;43m10\u001b[39;49m\u001b[43m)\u001b[49m\n",
      "Input \u001b[0;32mIn [26]\u001b[0m, in \u001b[0;36mcheck_range\u001b[0;34m(num, low, high)\u001b[0m\n\u001b[1;32m      1\u001b[0m \u001b[38;5;28;01mdef\u001b[39;00m \u001b[38;5;21mcheck_range\u001b[39m(num,low,high):\n\u001b[0;32m----> 2\u001b[0m     \u001b[38;5;28;01mif\u001b[39;00m num \u001b[38;5;129;01min\u001b[39;00m \u001b[38;5;28;43mrange\u001b[39;49m\u001b[43m(\u001b[49m\u001b[43mlow\u001b[49m\u001b[43m,\u001b[49m\u001b[43mhigh\u001b[49m\u001b[38;5;241;43m+\u001b[39;49m\u001b[38;5;241;43m1\u001b[39;49m\u001b[43m)\u001b[49m:\n\u001b[1;32m      3\u001b[0m         \u001b[38;5;28mprint\u001b[39m (\u001b[38;5;124m'\u001b[39m\u001b[38;5;124mnumber is in range\u001b[39m\u001b[38;5;124m'\u001b[39m)\n\u001b[1;32m      4\u001b[0m     \u001b[38;5;28;01melse\u001b[39;00m :\n",
      "\u001b[0;31mTypeError\u001b[0m: 'tuple' object is not callable"
     ]
    }
   ],
   "source": [
    "check_range(4,0,10)"
   ]
  },
  {
   "cell_type": "code",
   "execution_count": 24,
   "id": "3390ca9e",
   "metadata": {},
   "outputs": [],
   "source": [
    "def check_num(num,low,high):\n",
    "    if num in range(low,high+1):\n",
    "        print ('num in range')\n",
    "    else:\n",
    "        print('num not in range')"
   ]
  },
  {
   "cell_type": "code",
   "execution_count": 25,
   "id": "ad7dc7d0",
   "metadata": {},
   "outputs": [
    {
     "ename": "TypeError",
     "evalue": "'tuple' object is not callable",
     "output_type": "error",
     "traceback": [
      "\u001b[0;31m---------------------------------------------------------------------------\u001b[0m",
      "\u001b[0;31mTypeError\u001b[0m                                 Traceback (most recent call last)",
      "Input \u001b[0;32mIn [25]\u001b[0m, in \u001b[0;36m<cell line: 1>\u001b[0;34m()\u001b[0m\n\u001b[0;32m----> 1\u001b[0m \u001b[43mcheck_num\u001b[49m\u001b[43m(\u001b[49m\u001b[38;5;241;43m4\u001b[39;49m\u001b[43m,\u001b[49m\u001b[38;5;241;43m0\u001b[39;49m\u001b[43m,\u001b[49m\u001b[38;5;241;43m10\u001b[39;49m\u001b[43m)\u001b[49m\n",
      "Input \u001b[0;32mIn [24]\u001b[0m, in \u001b[0;36mcheck_num\u001b[0;34m(num, low, high)\u001b[0m\n\u001b[1;32m      1\u001b[0m \u001b[38;5;28;01mdef\u001b[39;00m \u001b[38;5;21mcheck_num\u001b[39m(num,low,high):\n\u001b[0;32m----> 2\u001b[0m     \u001b[38;5;28;01mif\u001b[39;00m num \u001b[38;5;129;01min\u001b[39;00m \u001b[38;5;28;43mrange\u001b[39;49m\u001b[43m(\u001b[49m\u001b[43mlow\u001b[49m\u001b[43m,\u001b[49m\u001b[43mhigh\u001b[49m\u001b[38;5;241;43m+\u001b[39;49m\u001b[38;5;241;43m1\u001b[39;49m\u001b[43m)\u001b[49m:\n\u001b[1;32m      3\u001b[0m         \u001b[38;5;28;01mreturn\u001b[39;00m (\u001b[38;5;124m'\u001b[39m\u001b[38;5;124mnum in range\u001b[39m\u001b[38;5;124m'\u001b[39m)\n",
      "\u001b[0;31mTypeError\u001b[0m: 'tuple' object is not callable"
     ]
    }
   ],
   "source": [
    "check_num(4,0,10)"
   ]
  },
  {
   "cell_type": "code",
   "execution_count": null,
   "id": "1e6fdee2",
   "metadata": {},
   "outputs": [],
   "source": []
  },
  {
   "cell_type": "code",
   "execution_count": 28,
   "id": "70edaafe",
   "metadata": {},
   "outputs": [],
   "source": [
    "# function accepts string \n",
    "#calculate no of upper n lowercase letter"
   ]
  },
  {
   "cell_type": "code",
   "execution_count": 49,
   "id": "b0e5303b",
   "metadata": {},
   "outputs": [],
   "source": [
    "def up_lowr(text):\n",
    "    upercase:0\n",
    "    lowercase:0\n",
    "    for char in text :\n",
    "        if char.isupper(): \n",
    "            uppercase += 1 \n",
    "            \n",
    "        elif char.islower():\n",
    "            lowercase += 1\n",
    "        else:\n",
    "            pass\n",
    "    \n",
    "    print (f'string is {text}')\n",
    "    print (f'there are {upercase} letters in string')\n",
    "    print (f'there are {lowercase} letters in string')\n",
    "    \n",
    "        "
   ]
  },
  {
   "cell_type": "code",
   "execution_count": 50,
   "id": "c8a5f74b",
   "metadata": {},
   "outputs": [],
   "source": [
    "mystring = ('hello')"
   ]
  },
  {
   "cell_type": "code",
   "execution_count": 51,
   "id": "f7672e2f",
   "metadata": {},
   "outputs": [
    {
     "ename": "UnboundLocalError",
     "evalue": "local variable 'lowercase' referenced before assignment",
     "output_type": "error",
     "traceback": [
      "\u001b[0;31m---------------------------------------------------------------------------\u001b[0m",
      "\u001b[0;31mUnboundLocalError\u001b[0m                         Traceback (most recent call last)",
      "Input \u001b[0;32mIn [51]\u001b[0m, in \u001b[0;36m<cell line: 1>\u001b[0;34m()\u001b[0m\n\u001b[0;32m----> 1\u001b[0m \u001b[43mup_lowr\u001b[49m\u001b[43m(\u001b[49m\u001b[43mmystring\u001b[49m\u001b[43m)\u001b[49m\n",
      "Input \u001b[0;32mIn [49]\u001b[0m, in \u001b[0;36mup_lowr\u001b[0;34m(text)\u001b[0m\n\u001b[1;32m      6\u001b[0m     uppercase \u001b[38;5;241m+\u001b[39m\u001b[38;5;241m=\u001b[39m \u001b[38;5;241m1\u001b[39m \n\u001b[1;32m      8\u001b[0m \u001b[38;5;28;01melif\u001b[39;00m char\u001b[38;5;241m.\u001b[39mislower():\n\u001b[0;32m----> 9\u001b[0m     lowercase \u001b[38;5;241m+\u001b[39m\u001b[38;5;241m=\u001b[39m \u001b[38;5;241m1\u001b[39m\n\u001b[1;32m     10\u001b[0m \u001b[38;5;28;01melse\u001b[39;00m:\n\u001b[1;32m     11\u001b[0m     \u001b[38;5;28;01mpass\u001b[39;00m\n",
      "\u001b[0;31mUnboundLocalError\u001b[0m: local variable 'lowercase' referenced before assignment"
     ]
    }
   ],
   "source": [
    "up_lowr(mystring)"
   ]
  },
  {
   "cell_type": "code",
   "execution_count": 52,
   "id": "cb849db9",
   "metadata": {},
   "outputs": [],
   "source": [
    "#function \n",
    "#takes a list return list of unique elements"
   ]
  },
  {
   "cell_type": "code",
   "execution_count": 53,
   "id": "65fdc3d2",
   "metadata": {},
   "outputs": [],
   "source": [
    "sample = [11,3,4,2,11,5,5,5,3,2,6]"
   ]
  },
  {
   "cell_type": "code",
   "execution_count": 56,
   "id": "c590094e",
   "metadata": {},
   "outputs": [],
   "source": [
    "def check_unique(exm):\n",
    "    unique_list = []\n",
    "    for num in exm:\n",
    "        if num not in unique_list:\n",
    "            unique_list.append(num)\n",
    "    return unique_list"
   ]
  },
  {
   "cell_type": "code",
   "execution_count": 57,
   "id": "ce3c49e5",
   "metadata": {},
   "outputs": [
    {
     "data": {
      "text/plain": [
       "[11, 3, 4, 2, 5, 6]"
      ]
     },
     "execution_count": 57,
     "metadata": {},
     "output_type": "execute_result"
    }
   ],
   "source": [
    "check_unique(sample)"
   ]
  },
  {
   "cell_type": "code",
   "execution_count": 64,
   "id": "5b9b2aba",
   "metadata": {},
   "outputs": [],
   "source": [
    "listy = [1,2,3]"
   ]
  },
  {
   "cell_type": "code",
   "execution_count": 65,
   "id": "ce0ece12",
   "metadata": {},
   "outputs": [],
   "source": [
    "#functio to multiply all numin list"
   ]
  },
  {
   "cell_type": "code",
   "execution_count": 71,
   "id": "b35f3425",
   "metadata": {},
   "outputs": [],
   "source": [
    "def func_mul(l):\n",
    "    result = 1\n",
    "    for num in l:\n",
    "        result = result * num\n",
    "    return result"
   ]
  },
  {
   "cell_type": "code",
   "execution_count": 72,
   "id": "ddc01846",
   "metadata": {},
   "outputs": [
    {
     "data": {
      "text/plain": [
       "6"
      ]
     },
     "execution_count": 72,
     "metadata": {},
     "output_type": "execute_result"
    }
   ],
   "source": [
    "func_mul([1,2,3])"
   ]
  },
  {
   "cell_type": "code",
   "execution_count": 73,
   "id": "4a01eae8",
   "metadata": {},
   "outputs": [
    {
     "data": {
      "text/plain": [
       "6"
      ]
     },
     "execution_count": 73,
     "metadata": {},
     "output_type": "execute_result"
    }
   ],
   "source": [
    "func_mul(listy)"
   ]
  },
  {
   "cell_type": "code",
   "execution_count": 74,
   "id": "98970719",
   "metadata": {},
   "outputs": [],
   "source": [
    "#fuction for word or phrase\n",
    "#if palindrome or not\n",
    "#for phrase need to remove spaces before hand \n",
    "#for that use .replace() method"
   ]
  },
  {
   "cell_type": "code",
   "execution_count": 92,
   "id": "752b21a9",
   "metadata": {},
   "outputs": [],
   "source": [
    "def palindrome(text):\n",
    "    text= text.replace(' ','') #remover string of space with empty string\n",
    "    \n",
    "          \n",
    "    return  text == text[::-1] \n",
    "    "
   ]
  },
  {
   "cell_type": "code",
   "execution_count": 93,
   "id": "2e94557e",
   "metadata": {},
   "outputs": [
    {
     "data": {
      "text/plain": [
       "True"
      ]
     },
     "execution_count": 93,
     "metadata": {},
     "output_type": "execute_result"
    }
   ],
   "source": [
    "palindrome('kayak')"
   ]
  },
  {
   "cell_type": "code",
   "execution_count": 94,
   "id": "dfc0c0ee",
   "metadata": {},
   "outputs": [],
   "source": [
    "# funtion if pangram or not (have all letter of alphabet)\n",
    "# for a string "
   ]
  },
  {
   "cell_type": "code",
   "execution_count": 95,
   "id": "563ebddc",
   "metadata": {},
   "outputs": [],
   "source": [
    "import string\n",
    "def ispangram(strng, alphabet=string.ascii_lowercase):\n",
    "    \n",
    "    # creat refrence value \n",
    "    abplabet_set = set(alphabet)\n",
    "    #remove spaces\n",
    "    strng = strng.replace(' ','')\n",
    "    #conver to lower case \n",
    "    strng = strng.lower()\n",
    "    #get unique letter\n",
    "    strng = set(strng)\n",
    "    #compare\n",
    "    return strng == abplabet_set\n",
    "    \n",
    "    \n"
   ]
  },
  {
   "cell_type": "code",
   "execution_count": 96,
   "id": "12efd3ab",
   "metadata": {},
   "outputs": [
    {
     "data": {
      "text/plain": [
       "True"
      ]
     },
     "execution_count": 96,
     "metadata": {},
     "output_type": "execute_result"
    }
   ],
   "source": [
    "ispangram('the quick brown fox jumps over the lazy dog')"
   ]
  },
  {
   "cell_type": "code",
   "execution_count": 97,
   "id": "d403c0f4",
   "metadata": {},
   "outputs": [
    {
     "data": {
      "text/plain": [
       "False"
      ]
     },
     "execution_count": 97,
     "metadata": {},
     "output_type": "execute_result"
    }
   ],
   "source": [
    "ispangram('Relaxing in basins at the end of inlets terminates the endless tests from the box')"
   ]
  },
  {
   "cell_type": "code",
   "execution_count": null,
   "id": "213c3bee",
   "metadata": {},
   "outputs": [],
   "source": []
  }
 ],
 "metadata": {
  "kernelspec": {
   "display_name": "Python 3 (ipykernel)",
   "language": "python",
   "name": "python3"
  },
  "language_info": {
   "codemirror_mode": {
    "name": "ipython",
    "version": 3
   },
   "file_extension": ".py",
   "mimetype": "text/x-python",
   "name": "python",
   "nbconvert_exporter": "python",
   "pygments_lexer": "ipython3",
   "version": "3.9.12"
  }
 },
 "nbformat": 4,
 "nbformat_minor": 5
}
