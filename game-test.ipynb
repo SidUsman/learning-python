{
 "cells": [
  {
   "cell_type": "code",
   "execution_count": 193,
   "id": "287021b6",
   "metadata": {},
   "outputs": [],
   "source": [
    "board = ['#',' ',' ',' ',' ',' ',' ',' ',' ',' ']\n",
    "#board is a list of 10 elements of string type"
   ]
  },
  {
   "cell_type": "code",
   "execution_count": 194,
   "id": "6a1b5188",
   "metadata": {},
   "outputs": [],
   "source": [
    "#1\n",
    "# display board clears the screen and display the board\n",
    "from IPython.display import clear_output\n",
    "\n",
    "def display_board(board):\n",
    "    clear_output()\n",
    "    print (board[7]+board[8]+board[9])\n",
    "    print ('---|--|---')\n",
    "    print (board[4]+board[5]+board[6])\n",
    "    print ('---|--|---')\n",
    "    print (board[1]+board[2]+board[3])"
   ]
  },
  {
   "cell_type": "code",
   "execution_count": 190,
   "id": "3f2e5923",
   "metadata": {},
   "outputs": [
    {
     "name": "stdout",
     "output_type": "stream",
     "text": [
      "   \n",
      "---|--|---\n",
      "   \n",
      "---|--|---\n",
      "   \n"
     ]
    }
   ],
   "source": [
    "display_board(board)"
   ]
  },
  {
   "cell_type": "code",
   "execution_count": 172,
   "id": "31548237",
   "metadata": {},
   "outputs": [],
   "source": [
    "#2\n",
    "def player_input():\n",
    "    marker = ' '\n",
    "    while marker != \"x\" or marker != \"o\":\n",
    "        marker = input('Player1 choose x or o: \\n').lower()\n",
    "        if marker == 'x':\n",
    "            return ('x','o')\n",
    "        elif marker == 'o':\n",
    "            return ('o','x')\n",
    "        else :\n",
    "            continue\n",
    "        "
   ]
  },
  {
   "cell_type": "code",
   "execution_count": 173,
   "id": "99049f70",
   "metadata": {},
   "outputs": [
    {
     "name": "stdout",
     "output_type": "stream",
     "text": [
      "Player1 choose x or o: \n",
      "1\n",
      "Player1 choose x or o: \n",
      "1\n",
      "Player1 choose x or o: \n",
      "1\n",
      "Player1 choose x or o: \n",
      "2\n",
      "Player1 choose x or o: \n",
      "2\n",
      "Player1 choose x or o: \n",
      "3\n",
      "Player1 choose x or o: \n",
      "4\n",
      "Player1 choose x or o: \n",
      "5\n",
      "Player1 choose x or o: \n",
      "4\n",
      "Player1 choose x or o: \n",
      "3\n",
      "Player1 choose x or o: \n",
      "2\n",
      "Player1 choose x or o: \n",
      "1\n"
     ]
    },
    {
     "ename": "KeyboardInterrupt",
     "evalue": "Interrupted by user",
     "output_type": "error",
     "traceback": [
      "\u001b[0;31m---------------------------------------------------------------------------\u001b[0m",
      "\u001b[0;31mKeyboardInterrupt\u001b[0m                         Traceback (most recent call last)",
      "Input \u001b[0;32mIn [173]\u001b[0m, in \u001b[0;36m<cell line: 1>\u001b[0;34m()\u001b[0m\n\u001b[0;32m----> 1\u001b[0m \u001b[38;5;28mprint\u001b[39m(\u001b[43mplayer_input\u001b[49m\u001b[43m(\u001b[49m\u001b[43m)\u001b[49m)\n",
      "Input \u001b[0;32mIn [172]\u001b[0m, in \u001b[0;36mplayer_input\u001b[0;34m()\u001b[0m\n\u001b[1;32m      3\u001b[0m marker \u001b[38;5;241m=\u001b[39m \u001b[38;5;124m'\u001b[39m\u001b[38;5;124m \u001b[39m\u001b[38;5;124m'\u001b[39m\n\u001b[1;32m      4\u001b[0m \u001b[38;5;28;01mwhile\u001b[39;00m marker \u001b[38;5;241m!=\u001b[39m \u001b[38;5;124m\"\u001b[39m\u001b[38;5;124mx\u001b[39m\u001b[38;5;124m\"\u001b[39m \u001b[38;5;129;01mor\u001b[39;00m marker \u001b[38;5;241m!=\u001b[39m \u001b[38;5;124m\"\u001b[39m\u001b[38;5;124mo\u001b[39m\u001b[38;5;124m\"\u001b[39m:\n\u001b[0;32m----> 5\u001b[0m     marker \u001b[38;5;241m=\u001b[39m \u001b[38;5;28;43minput\u001b[39;49m\u001b[43m(\u001b[49m\u001b[38;5;124;43m'\u001b[39;49m\u001b[38;5;124;43mPlayer1 choose x or o: \u001b[39;49m\u001b[38;5;130;43;01m\\n\u001b[39;49;00m\u001b[38;5;124;43m'\u001b[39;49m\u001b[43m)\u001b[49m\u001b[38;5;241m.\u001b[39mlower()\n\u001b[1;32m      6\u001b[0m     \u001b[38;5;28;01mif\u001b[39;00m marker \u001b[38;5;241m==\u001b[39m \u001b[38;5;124m'\u001b[39m\u001b[38;5;124mx\u001b[39m\u001b[38;5;124m'\u001b[39m:\n\u001b[1;32m      7\u001b[0m         \u001b[38;5;28;01mreturn\u001b[39;00m (\u001b[38;5;124m'\u001b[39m\u001b[38;5;124mx\u001b[39m\u001b[38;5;124m'\u001b[39m,\u001b[38;5;124m'\u001b[39m\u001b[38;5;124mo\u001b[39m\u001b[38;5;124m'\u001b[39m)\n",
      "File \u001b[0;32m~/opt/anaconda3/lib/python3.9/site-packages/ipykernel/kernelbase.py:1075\u001b[0m, in \u001b[0;36mKernel.raw_input\u001b[0;34m(self, prompt)\u001b[0m\n\u001b[1;32m   1071\u001b[0m \u001b[38;5;28;01mif\u001b[39;00m \u001b[38;5;129;01mnot\u001b[39;00m \u001b[38;5;28mself\u001b[39m\u001b[38;5;241m.\u001b[39m_allow_stdin:\n\u001b[1;32m   1072\u001b[0m     \u001b[38;5;28;01mraise\u001b[39;00m StdinNotImplementedError(\n\u001b[1;32m   1073\u001b[0m         \u001b[38;5;124m\"\u001b[39m\u001b[38;5;124mraw_input was called, but this frontend does not support input requests.\u001b[39m\u001b[38;5;124m\"\u001b[39m\n\u001b[1;32m   1074\u001b[0m     )\n\u001b[0;32m-> 1075\u001b[0m \u001b[38;5;28;01mreturn\u001b[39;00m \u001b[38;5;28;43mself\u001b[39;49m\u001b[38;5;241;43m.\u001b[39;49m\u001b[43m_input_request\u001b[49m\u001b[43m(\u001b[49m\n\u001b[1;32m   1076\u001b[0m \u001b[43m    \u001b[49m\u001b[38;5;28;43mstr\u001b[39;49m\u001b[43m(\u001b[49m\u001b[43mprompt\u001b[49m\u001b[43m)\u001b[49m\u001b[43m,\u001b[49m\n\u001b[1;32m   1077\u001b[0m \u001b[43m    \u001b[49m\u001b[38;5;28;43mself\u001b[39;49m\u001b[38;5;241;43m.\u001b[39;49m\u001b[43m_parent_ident\u001b[49m\u001b[43m[\u001b[49m\u001b[38;5;124;43m\"\u001b[39;49m\u001b[38;5;124;43mshell\u001b[39;49m\u001b[38;5;124;43m\"\u001b[39;49m\u001b[43m]\u001b[49m\u001b[43m,\u001b[49m\n\u001b[1;32m   1078\u001b[0m \u001b[43m    \u001b[49m\u001b[38;5;28;43mself\u001b[39;49m\u001b[38;5;241;43m.\u001b[39;49m\u001b[43mget_parent\u001b[49m\u001b[43m(\u001b[49m\u001b[38;5;124;43m\"\u001b[39;49m\u001b[38;5;124;43mshell\u001b[39;49m\u001b[38;5;124;43m\"\u001b[39;49m\u001b[43m)\u001b[49m\u001b[43m,\u001b[49m\n\u001b[1;32m   1079\u001b[0m \u001b[43m    \u001b[49m\u001b[43mpassword\u001b[49m\u001b[38;5;241;43m=\u001b[39;49m\u001b[38;5;28;43;01mFalse\u001b[39;49;00m\u001b[43m,\u001b[49m\n\u001b[1;32m   1080\u001b[0m \u001b[43m\u001b[49m\u001b[43m)\u001b[49m\n",
      "File \u001b[0;32m~/opt/anaconda3/lib/python3.9/site-packages/ipykernel/kernelbase.py:1120\u001b[0m, in \u001b[0;36mKernel._input_request\u001b[0;34m(self, prompt, ident, parent, password)\u001b[0m\n\u001b[1;32m   1117\u001b[0m             \u001b[38;5;28;01mbreak\u001b[39;00m\n\u001b[1;32m   1118\u001b[0m \u001b[38;5;28;01mexcept\u001b[39;00m \u001b[38;5;167;01mKeyboardInterrupt\u001b[39;00m:\n\u001b[1;32m   1119\u001b[0m     \u001b[38;5;66;03m# re-raise KeyboardInterrupt, to truncate traceback\u001b[39;00m\n\u001b[0;32m-> 1120\u001b[0m     \u001b[38;5;28;01mraise\u001b[39;00m \u001b[38;5;167;01mKeyboardInterrupt\u001b[39;00m(\u001b[38;5;124m\"\u001b[39m\u001b[38;5;124mInterrupted by user\u001b[39m\u001b[38;5;124m\"\u001b[39m) \u001b[38;5;28;01mfrom\u001b[39;00m \u001b[38;5;28mNone\u001b[39m\n\u001b[1;32m   1121\u001b[0m \u001b[38;5;28;01mexcept\u001b[39;00m \u001b[38;5;167;01mException\u001b[39;00m:\n\u001b[1;32m   1122\u001b[0m     \u001b[38;5;28mself\u001b[39m\u001b[38;5;241m.\u001b[39mlog\u001b[38;5;241m.\u001b[39mwarning(\u001b[38;5;124m\"\u001b[39m\u001b[38;5;124mInvalid Message:\u001b[39m\u001b[38;5;124m\"\u001b[39m, exc_info\u001b[38;5;241m=\u001b[39m\u001b[38;5;28;01mTrue\u001b[39;00m)\n",
      "\u001b[0;31mKeyboardInterrupt\u001b[0m: Interrupted by user"
     ]
    }
   ],
   "source": [
    "print(player_input())\n"
   ]
  },
  {
   "cell_type": "code",
   "execution_count": 195,
   "id": "8fac3840",
   "metadata": {},
   "outputs": [
    {
     "name": "stdout",
     "output_type": "stream",
     "text": [
      "Player1 choose x or o: \n",
      "1\n",
      "Player1 choose x or o: \n",
      "1\n",
      "Player1 choose x or o: \n",
      "o\n"
     ]
    }
   ],
   "source": [
    "player1mark , player2mark = player_input()"
   ]
  },
  {
   "cell_type": "code",
   "execution_count": 196,
   "id": "e8e79490",
   "metadata": {},
   "outputs": [
    {
     "data": {
      "text/plain": [
       "'o'"
      ]
     },
     "execution_count": 196,
     "metadata": {},
     "output_type": "execute_result"
    }
   ],
   "source": [
    "player1mark\n"
   ]
  },
  {
   "cell_type": "code",
   "execution_count": 197,
   "id": "82aaeaea",
   "metadata": {},
   "outputs": [
    {
     "data": {
      "text/plain": [
       "'x'"
      ]
     },
     "execution_count": 197,
     "metadata": {},
     "output_type": "execute_result"
    }
   ],
   "source": [
    "player2mark"
   ]
  },
  {
   "cell_type": "code",
   "execution_count": 134,
   "id": "fc7320af",
   "metadata": {},
   "outputs": [],
   "source": [
    "#3\n",
    "def place_marker(board,marker,position):\n",
    "    board[position] = marker"
   ]
  },
  {
   "cell_type": "code",
   "execution_count": 137,
   "id": "c7539d47",
   "metadata": {},
   "outputs": [],
   "source": [
    "place_marker(board,'x',3)"
   ]
  },
  {
   "cell_type": "code",
   "execution_count": 138,
   "id": "5584c4ec",
   "metadata": {},
   "outputs": [
    {
     "data": {
      "text/plain": [
       "['#', ' ', ' ', 'x', ' ', ' ', ' ', 'x', ' ', ' ']"
      ]
     },
     "execution_count": 138,
     "metadata": {},
     "output_type": "execute_result"
    }
   ],
   "source": [
    "board"
   ]
  },
  {
   "cell_type": "raw",
   "id": "69376916",
   "metadata": {},
   "source": []
  },
  {
   "cell_type": "code",
   "execution_count": 142,
   "id": "5dbadd99",
   "metadata": {},
   "outputs": [],
   "source": [
    "place_marker(board,'o',4)"
   ]
  },
  {
   "cell_type": "code",
   "execution_count": 182,
   "id": "e479dfd6",
   "metadata": {},
   "outputs": [
    {
     "data": {
      "text/plain": [
       "['o', ' ', ' ', ' ', ' ', ' ', ' ', ' ', ' ', ' ']"
      ]
     },
     "execution_count": 182,
     "metadata": {},
     "output_type": "execute_result"
    }
   ],
   "source": [
    "board"
   ]
  },
  {
   "cell_type": "code",
   "execution_count": 179,
   "id": "ffff53a6",
   "metadata": {},
   "outputs": [],
   "source": [
    "#4\n",
    "def win_check(board,mark):\n",
    "    return ((board[7]== board[8]== board[9] == mark)or\n",
    "    (board[4] == board[5] == board[6] == mark) or\n",
    "    (board[1] == board[2] == board[3] == mark) or\n",
    "    (board[7] == board[4] == board[1] == mark) or\n",
    "    (board[8] == board[5] == board[2] == mark) or\n",
    "    (board[9] == board[6] == board[3] == mark) or\n",
    "    (board[7] == board[5] == board[3] == mark) or\n",
    "    (board[9] == board[5] == board[1] == mark) )"
   ]
  },
  {
   "cell_type": "code",
   "execution_count": 183,
   "id": "22a4afd7",
   "metadata": {},
   "outputs": [
    {
     "name": "stdout",
     "output_type": "stream",
     "text": [
      "False\n"
     ]
    }
   ],
   "source": [
    "print(win_check(board,\"o\"))"
   ]
  },
  {
   "cell_type": "code",
   "execution_count": 145,
   "id": "972ed2d2",
   "metadata": {},
   "outputs": [],
   "source": [
    "#5\n",
    "import random\n",
    "\n",
    "def choose_first():\n",
    "    flip = random.randint(0,1)\n",
    "    \n",
    "    if flip == 0 :\n",
    "        return player1\n",
    "    else:\n",
    "        return player2\n",
    "    "
   ]
  },
  {
   "cell_type": "code",
   "execution_count": null,
   "id": "5c7d63b9",
   "metadata": {},
   "outputs": [],
   "source": []
  },
  {
   "cell_type": "code",
   "execution_count": 146,
   "id": "8c4ac7bb",
   "metadata": {},
   "outputs": [],
   "source": [
    "#6\n",
    "def space_check(board,position):\n",
    "    return board[position] == \" \""
   ]
  },
  {
   "cell_type": "code",
   "execution_count": null,
   "id": "e59a44ba",
   "metadata": {},
   "outputs": [],
   "source": []
  },
  {
   "cell_type": "code",
   "execution_count": 147,
   "id": "c510be55",
   "metadata": {},
   "outputs": [],
   "source": [
    "#7\n",
    "def full_board_check(board):\n",
    "    for p in range(1,10): # coz 10 is not included\n",
    "        if space_check(board,p):\n",
    "            return False\n",
    "    return True \n",
    "            "
   ]
  },
  {
   "cell_type": "code",
   "execution_count": null,
   "id": "177f187b",
   "metadata": {},
   "outputs": [],
   "source": []
  },
  {
   "cell_type": "code",
   "execution_count": 148,
   "id": "5ec512b0",
   "metadata": {},
   "outputs": [],
   "source": [
    "#8\n",
    "def player_choice(board):\n",
    "    position = 0 #always valdate input beforehand how can you forget\n",
    "    while position not in range(1,10) and space_check(board,position):\n",
    "        position = input (int('choose position from 1-9'))\n",
    "    return position"
   ]
  },
  {
   "cell_type": "code",
   "execution_count": null,
   "id": "8c8cbdfe",
   "metadata": {},
   "outputs": [],
   "source": []
  },
  {
   "cell_type": "code",
   "execution_count": 149,
   "id": "939c94a9",
   "metadata": {},
   "outputs": [],
   "source": [
    "#9\n",
    "def replay():\n",
    "    game_mood = input ('Play again? type Y or N').lower\n",
    "    if game_mood == 'y':\n",
    "        return True \n",
    "    else:\n",
    "        return False"
   ]
  },
  {
   "cell_type": "code",
   "execution_count": null,
   "id": "91b951d1",
   "metadata": {},
   "outputs": [],
   "source": [
    "\n",
    "\n",
    "\n",
    "\n",
    "\n",
    "\n",
    "\n",
    "\n",
    "\n",
    "\n",
    "\n",
    "\n",
    "\n",
    "\n",
    "\n",
    "\n"
   ]
  },
  {
   "cell_type": "code",
   "execution_count": 203,
   "id": "bf0433f4",
   "metadata": {},
   "outputs": [
    {
     "name": "stdout",
     "output_type": "stream",
     "text": [
      "x | o | x\n",
      "- |- -|- -\n",
      "x | o | o\n",
      "- |- -|- -\n",
      "o | x | x\n",
      "- |- -|- -\n",
      "Play again? type Y or Nn\n"
     ]
    }
   ],
   "source": [
    "\n",
    "\n",
    "#1\n",
    "from IPython.display import clear_output\n",
    "import time\n",
    "def display_board(board):\n",
    "    clear_output()\n",
    "    print (board[7]+\" | \"+  board[8]+\" | \"+board[9])\n",
    "    print ('- |- -|- -')\n",
    "    print (board[4]+\" | \"+  board[5]+\" | \"+board[6])\n",
    "    print ('- |- -|- -')\n",
    "    print (board[1]+\" | \"+  board[2]+\" | \"+board[3])\n",
    "    print ('- |- -|- -')\n",
    "    #2\n",
    "def player_input():\n",
    "    marker = ' '\n",
    "    while marker != \"x\" or marker != \"o\":\n",
    "        marker = input('Player1 choose x or o: \\n').lower()\n",
    "        if marker == 'x':\n",
    "            return ('x','o')\n",
    "        elif marker == 'o':\n",
    "            return ('o','x')\n",
    "        else :\n",
    "            continue\n",
    "        \n",
    "        \n",
    "        \n",
    "      #3\n",
    "def place_marker(board,marker,position):\n",
    "    board[position] = marker\n",
    "    \n",
    "    #4\n",
    "def win_check(board,mark):\n",
    "    return ((board[7]== board[8]== board[9] == mark)or\n",
    "    (board[4] == board[5] == board[6] == mark) or\n",
    "    (board[1] == board[2] == board[3] == mark) or\n",
    "    (board[7] == board[4] == board[1] == mark) or\n",
    "    (board[8] == board[5] == board[2] == mark) or\n",
    "    (board[9] == board[6] == board[3] == mark) or\n",
    "    (board[7] == board[5] == board[3] == mark) or\n",
    "    (board[9] == board[5] == board[1] == mark) )\n",
    "\n",
    "\n",
    "#5\n",
    "import random\n",
    "\n",
    "def choose_first():\n",
    "    flip = random.randint(0,1)\n",
    "    \n",
    "    if flip == 0 :\n",
    "        return \"player1\"\n",
    "    else:\n",
    "        return \"player2\"\n",
    "    \n",
    "    \n",
    "    \n",
    "    \n",
    "\n",
    "#6\n",
    "def space_check(board,position):\n",
    "    return board[position] == \" \"\n",
    "\n",
    "\n",
    "\n",
    "#7\n",
    "def full_board_check(board):\n",
    "    for p in range(1,10): # coz 10 is not included\n",
    "        if space_check(board,p):\n",
    "            return False\n",
    "    return True \n",
    "            \n",
    "\n",
    "\n",
    "#8\n",
    "'''def player_choice(board):\n",
    "    position = 0 #always valdate input beforehand how can you forget\n",
    "    while position not in range(1,10) and space_check(board,position):\n",
    "        position = input (int('choose position from 1-9'))\n",
    "    return position\n",
    "'''\n",
    "def player_choice(board):\n",
    "    position = 0\n",
    "    while position not in [1,2,3,4,5,6,7,8,9] or not space_check(board,position):\n",
    "        position=int(input('Choose a position: (1-9)'))\n",
    "    return position \n",
    "\n",
    "\n",
    "\n",
    "#9\n",
    "def replay():\n",
    "    game_mood = input ('Play again? type Y or N').lower\n",
    "    if game_mood == 'y':\n",
    "        return True \n",
    "    else:\n",
    "        return False\n",
    "\n",
    "#10 Game logic\n",
    "import time\n",
    "\n",
    "print ('Welcome to tick tac toe')\n",
    "while True :\n",
    "    #board\n",
    "    board = ['#',' ',' ',' ',' ',' ',' ',' ',' ',' ']\n",
    "    print(\"board is done\")\n",
    "    ##Marker\n",
    "    player1mark , player2mark = player_input()\n",
    "    \n",
    "    print(\"player 1 marker is \"+player1mark)\n",
    "    print(\"player 2 marker is\"+player2mark)\n",
    "    #who goes first\n",
    "    turn = choose_first() # will return player1 or player2\n",
    "    \n",
    "    print(turn  +' your turn.')\n",
    "    \n",
    "    play_game = input ('ready to play ? type Y or N: ').lower()\n",
    "    if play_game == 'y':\n",
    "        game_on = True\n",
    "    else:\n",
    "        game_on = False\n",
    "        \n",
    "    while game_on :\n",
    "        # check the turn\n",
    "        if turn == 'player1':\n",
    "            time.sleep(1)\n",
    "            print(\"point 2\")\n",
    "            #show the board\n",
    "            display_board(board)\n",
    "            # choose position\n",
    "            position = player_choice(board)\n",
    "            #place the marker on the position\n",
    "            place_marker(board,player1mark,position)                \n",
    "            # check if they won\n",
    "            if win_check(board,player1mark):\n",
    "                print('player1 has Won!')\n",
    "                display_board(board)\n",
    "                game_on = False\n",
    "            else:\n",
    "                if full_board_check(board):\n",
    "                    print ('Its a Tie!')\n",
    "                    display_board(board)\n",
    "                    game_on = False\n",
    "                else :\n",
    "                        turn = 'player2'\n",
    "                        \n",
    "        else :\n",
    "                display_board(board)\n",
    "                \n",
    "                position = player_choice(board)\n",
    "                \n",
    "                place_marker(board,player2mark,position)\n",
    "                \n",
    "                if win_check(board,player2mark):\n",
    "                    print('player2 has Won!')\n",
    "                    display_board(board)\n",
    "                    game_on = False\n",
    "                else:\n",
    "                    if full_board_check(board):\n",
    "                        print ('Its a Tie!')\n",
    "                        display_board(board)\n",
    "                        game_on = False\n",
    "                    else :\n",
    "                        turn = 'player1'\n",
    "                \n",
    "         \n",
    "    if not replay():\n",
    "             break\n",
    "        \n",
    "        \n",
    "\n"
   ]
  },
  {
   "cell_type": "code",
   "execution_count": 198,
   "id": "993d8e6d",
   "metadata": {},
   "outputs": [
    {
     "name": "stdout",
     "output_type": "stream",
     "text": [
      "welcome to tick tak toe\n",
      "Play again? type Y or Ny\n"
     ]
    }
   ],
   "source": []
  },
  {
   "cell_type": "code",
   "execution_count": null,
   "id": "8a3b7752",
   "metadata": {},
   "outputs": [],
   "source": []
  }
 ],
 "metadata": {
  "kernelspec": {
   "display_name": "Python 3 (ipykernel)",
   "language": "python",
   "name": "python3"
  },
  "language_info": {
   "codemirror_mode": {
    "name": "ipython",
    "version": 3
   },
   "file_extension": ".py",
   "mimetype": "text/x-python",
   "name": "python",
   "nbconvert_exporter": "python",
   "pygments_lexer": "ipython3",
   "version": "3.9.12"
  }
 },
 "nbformat": 4,
 "nbformat_minor": 5
}
